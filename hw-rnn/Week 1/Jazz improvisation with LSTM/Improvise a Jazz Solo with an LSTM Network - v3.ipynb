{
 "cells": [
  {
   "cell_type": "markdown",
   "metadata": {},
   "source": [
    "# Improvise a Jazz Solo with an LSTM Network\n",
    "\n",
    "Welcome to your final programming assignment of this week! In this notebook, you will implement a model that uses an LSTM to generate music. You will even be able to listen to your own music at the end of the assignment. \n",
    "\n",
    "**You will learn to:**\n",
    "- Apply an LSTM to music generation.\n",
    "- Generate your own jazz music with deep learning.\n",
    "\n",
    "Please run the following cell to load all the packages required in this assignment. This may take a few minutes. "
   ]
  },
  {
   "cell_type": "code",
   "execution_count": 1,
   "metadata": {},
   "outputs": [
    {
     "name": "stderr",
     "output_type": "stream",
     "text": [
      "Using TensorFlow backend.\n"
     ]
    }
   ],
   "source": [
    "from __future__ import print_function\n",
    "import IPython\n",
    "import sys\n",
    "from music21 import *\n",
    "import numpy as np\n",
    "from grammar import *\n",
    "from qa import *\n",
    "from preprocess import * \n",
    "from music_utils import *\n",
    "from data_utils import *\n",
    "from keras.models import load_model, Model\n",
    "from keras.layers import Dense, Activation, Dropout, Input, LSTM, Reshape, Lambda, RepeatVector\n",
    "from keras.initializers import glorot_uniform\n",
    "from keras.utils import to_categorical\n",
    "from keras.optimizers import Adam\n",
    "from keras import backend as K"
   ]
  },
  {
   "cell_type": "markdown",
   "metadata": {},
   "source": [
    "## 1 - Problem statement\n",
    "\n",
    "You would like to create a jazz music piece specially for a friend's birthday. However, you don't know any instruments or music composition. Fortunately, you know deep learning and will solve this problem using an LSTM netwok.  \n",
    "\n",
    "You will train a network to generate novel jazz solos in a style representative of a body of performed work.\n",
    "\n",
    "<img src=\"images/jazz.jpg\" style=\"width:450;height:300px;\">\n",
    "\n",
    "\n",
    "### 1.1 - Dataset\n",
    "\n",
    "You will train your algorithm on a corpus of Jazz music. Run the cell below to listen to a snippet of the audio from the training set:"
   ]
  },
  {
   "cell_type": "code",
   "execution_count": null,
   "metadata": {
    "collapsed": true
   },
   "outputs": [],
   "source": [
    "IPython.display.Audio('./data/30s_seq.mp3')"
   ]
  },
  {
   "cell_type": "markdown",
   "metadata": {},
   "source": [
    "We have taken care of the preprocessing of the musical data to render it in terms of musical \"values.\" You can informally think of each \"value\" as a note, which comprises a pitch and a duration. For example, if you press down a specific piano key for 0.5 seconds, then you have just played a note. In music theory, a \"value\" is actually more complicated than this--specifically, it also captures the information needed to play multiple notes at the same time. For example, when playing a music piece, you might press down two piano keys at the same time (playng multiple notes at the same time generates what's called a \"chord\"). But we don't need to worry about the details of music theory for this assignment. For the purpose of this assignment, all you need to know is that we will obtain a dataset of values, and will learn an RNN model to generate sequences of values. \n",
    "\n",
    "Our music generation system will use 78 unique values. Run the following code to load the raw music data and preprocess it into values. This might take a few minutes."
   ]
  },
  {
   "cell_type": "code",
   "execution_count": 2,
   "metadata": {},
   "outputs": [
    {
     "name": "stdout",
     "output_type": "stream",
     "text": [
      "shape of X: (60, 30, 78)\n",
      "number of training examples: 60\n",
      "Tx (length of sequence): 30\n",
      "total # of unique values: 78\n",
      "Shape of Y: (30, 60, 78)\n"
     ]
    }
   ],
   "source": [
    "X, Y, n_values, indices_values = load_music_utils()\n",
    "print('shape of X:', X.shape)\n",
    "print('number of training examples:', X.shape[0])\n",
    "print('Tx (length of sequence):', X.shape[1])\n",
    "print('total # of unique values:', n_values)\n",
    "print('Shape of Y:', Y.shape)"
   ]
  },
  {
   "cell_type": "markdown",
   "metadata": {},
   "source": [
    "You have just loaded the following:\n",
    "\n",
    "- `X`: This is an (m, $T_x$, 78) dimensional array. We have m training examples, each of which is a snippet of $T_x =30$ musical values. At each time step, the input is one of 78 different possible values, represented as a one-hot vector. Thus for example, X[i,t,:] is a one-hot vector representating the value of the i-th example at time t. \n",
    "\n",
    "- `Y`: This is essentially the same as `X`, but shifted one step to the left (to the past). Similar to the dinosaurus assignment, we're interested in the network using the previous values to predict the next value, so our sequence model will try to predict $y^{\\langle t \\rangle}$ given $x^{\\langle 1\\rangle}, \\ldots, x^{\\langle t \\rangle}$. However, the data in `Y` is reordered to be dimension $(T_y, m, 78)$, where $T_y = T_x$. This format makes it more convenient to feed to the LSTM later. \n",
    "\n",
    "- `n_values`: The number of unique values in this dataset. This should be 78. \n",
    "\n",
    "- `indices_values`: python dictionary mapping from 0-77 to musical values."
   ]
  },
  {
   "cell_type": "markdown",
   "metadata": {},
   "source": [
    "### 1.2 - Overview of our model\n",
    "\n",
    "Here is the architecture of the model we will use. This is similar to the Dinosaurus model you had used in the previous notebook, except that in you will be implementing it in Keras. The architecture is as follows: \n",
    "\n",
    "<img src=\"images/music_generation.png\" style=\"width:600;height:400px;\">\n",
    "\n",
    "<!--\n",
    "<img src=\"images/djmodel.png\" style=\"width:600;height:400px;\">\n",
    "<br>\n",
    "<caption><center> **Figure 1**: LSTM model. $X = (x^{\\langle 1 \\rangle}, x^{\\langle 2 \\rangle}, ..., x^{\\langle T_x \\rangle})$ is a window of size $T_x$ scanned over the musical corpus. Each $x^{\\langle t \\rangle}$ is an index corresponding to a value (ex: \"A,0.250,< m2,P-4 >\") while $\\hat{y}$ is the prediction for the next value  </center></caption>\n",
    "!--> \n",
    "\n",
    "We will be training the model on random snippets of 30 values taken from a much longer piece of music. Thus, we won't bother to set the first input $x^{\\langle 1 \\rangle} = \\vec{0}$, which we had done previously to denote the start of a dinosaur name, since now most of these snippets of audio start somewhere in the middle of a piece of music. We are setting each of the snippts to have the same length $T_x = 30$ to make vectorization easier. \n"
   ]
  },
  {
   "cell_type": "markdown",
   "metadata": {},
   "source": [
    "## 2 - Building the model\n",
    "\n",
    "In this part you will build and train a model that will learn musical patterns. To do so, you will need to build a model that takes in X of shape $(m, T_x, 78)$ and Y of shape $(T_y, m, 78)$. We will use an LSTM with 64 dimensional hidden states. Lets set `n_a = 64`. \n"
   ]
  },
  {
   "cell_type": "code",
   "execution_count": 3,
   "metadata": {
    "collapsed": true
   },
   "outputs": [],
   "source": [
    "n_a = 64 "
   ]
  },
  {
   "cell_type": "markdown",
   "metadata": {},
   "source": [
    "\n",
    "Here's how you can create a Keras model with multiple inputs and outputs. If you're building an RNN where even at test time entire input sequence $x^{\\langle 1 \\rangle}, x^{\\langle 2 \\rangle}, \\ldots, x^{\\langle T_x \\rangle}$ were *given in advance*, for example if the inputs were words and the output was a label, then Keras has simple built-in functions to build the model. However, for sequence generation, at test time we don't know all the values of $x^{\\langle t\\rangle}$ in advance; instead we generate them one at a time using $x^{\\langle t\\rangle} = y^{\\langle t-1 \\rangle}$. So the code will be a bit more complicated, and you'll need to implement your own for-loop to iterate over the different time steps. \n",
    "\n",
    "The function `djmodel()` will call the LSTM layer $T_x$ times using a for-loop, and it is important that all $T_x$ copies have the same weights. I.e., it should not re-initiaiize the weights every time---the $T_x$ steps should have shared weights. The key steps for implementing layers with shareable weights in Keras are: \n",
    "1. Define the layer objects (we will use global variables for this).\n",
    "2. Call these objects when propagating the input.\n",
    "\n",
    "We have defined the layers objects you need as global variables. Please run the next cell to create them. Please check the Keras documentation to make sure you understand what these layers are: [Reshape()](https://keras.io/layers/core/#reshape), [LSTM()](https://keras.io/layers/recurrent/#lstm), [Dense()](https://keras.io/layers/core/#dense).\n"
   ]
  },
  {
   "cell_type": "code",
   "execution_count": 4,
   "metadata": {
    "collapsed": true
   },
   "outputs": [],
   "source": [
    "reshapor = Reshape((1, 78))                        # Used in Step 2.B of djmodel(), below\n",
    "LSTM_cell = LSTM(n_a, return_state = True)         # Used in Step 2.C\n",
    "densor = Dense(n_values, activation='softmax')     # Used in Step 2.D"
   ]
  },
  {
   "cell_type": "markdown",
   "metadata": {},
   "source": [
    "Each of `reshapor`, `LSTM_cell` and `densor` are now layer objects, and you can use them to implement `djmodel()`. In order to propagate a Keras tensor object X through one of these layers, use `layer_object(X)` (or `layer_object([X,Y])` if it requires multiple inputs.). For example, `reshapor(X)` will propagate X through the `Reshape((1,78))` layer defined above."
   ]
  },
  {
   "cell_type": "markdown",
   "metadata": {},
   "source": [
    " \n",
    "**Exercise**: Implement `djmodel()`. You will need to carry out 2 steps:\n",
    "\n",
    "1. Create an empty list \"outputs\" to save the outputs of the LSTM Cell at every time step.\n",
    "2. Loop for $t \\in 1, \\ldots, T_x$:\n",
    "\n",
    "    A. Select the \"t\"th time-step vector from X. The shape of this selection should be (78,). To do so, create a custom [Lambda](https://keras.io/layers/core/#lambda) layer in Keras by using this line of code:\n",
    "```    \n",
    "           x = Lambda(lambda x: X[:,t,:])(X)\n",
    "``` \n",
    "Look over the Keras documentation to figure out what this does. It is creating a \"temporary\" or \"unnamed\" function (that's what Lambda functions are) that extracts out the appropriate one-hot vector, and making this function a Keras `Layer` object to apply to `X`. \n",
    "\n",
    "    B. Reshape x to be (1,78). You may find the `reshapor()` layer (defined below) helpful.\n",
    "\n",
    "    C. Run x through one step of LSTM_cell. Remember to initialize the LSTM_cell with the previous step's hidden state $a$ and cell state $c$. Use the following formatting:\n",
    "```python\n",
    "a, _, c = LSTM_cell(input_x, initial_state=[previous hidden state, previous cell state])\n",
    "```\n",
    "\n",
    "    D. Propagate the LSTM's output activation value through a dense+softmax layer using `densor`. \n",
    "    \n",
    "    E. Append the predicted value to the list of \"outputs\"\n",
    " \n"
   ]
  },
  {
   "cell_type": "code",
   "execution_count": 5,
   "metadata": {
    "collapsed": true
   },
   "outputs": [],
   "source": [
    "# GRADED FUNCTION: djmodel\n",
    "\n",
    "def djmodel(Tx, n_a, n_values):\n",
    "    \"\"\"\n",
    "    Implement the model\n",
    "    \n",
    "    Arguments:\n",
    "    Tx -- length of the sequence in a corpus\n",
    "    n_a -- the number of activations used in our model\n",
    "    n_values -- number of unique values in the music data \n",
    "    \n",
    "    Returns:\n",
    "    model -- a keras model with the \n",
    "    \"\"\"\n",
    "    \n",
    "    # Define the input of your model with a shape \n",
    "    X = Input(shape=(Tx, n_values))\n",
    "    \n",
    "    # Define s0, initial hidden state for the decoder LSTM\n",
    "    a0 = Input(shape=(n_a,), name='a0')\n",
    "    c0 = Input(shape=(n_a,), name='c0')\n",
    "    a = a0\n",
    "    c = c0\n",
    "    \n",
    "    ### START CODE HERE ### \n",
    "    # Step 1: Create empty list to append the outputs while you iterate (≈1 line)\n",
    "    outputs = []\n",
    "    \n",
    "    # Step 2: Loop\n",
    "    for t in range(Tx):\n",
    "        \n",
    "        # Step 2.A: select the \"t\"th time step vector from X. \n",
    "        x = Lambda(lambda x: X[:, t, :])(X)\n",
    "        # Step 2.B: Use reshapor to reshape x to be (1, n_values) (≈1 line)\n",
    "        x = reshapor(x)\n",
    "        # Step 2.C: Perform one step of the LSTM_cell\n",
    "        a, _, c = LSTM_cell(x, initial_state=[a, c])\n",
    "        # Step 2.D: Apply densor to the hidden state output of LSTM_Cell\n",
    "        out = densor(a)\n",
    "        # Step 2.E: add the output to \"outputs\"\n",
    "        outputs.append(out)\n",
    "        \n",
    "    # Step 3: Create model instance\n",
    "    model = Model(inputs=[X, a0, c0], outputs=outputs)\n",
    "    \n",
    "    ### END CODE HERE ###\n",
    "    \n",
    "    return model"
   ]
  },
  {
   "cell_type": "markdown",
   "metadata": {},
   "source": [
    "Run the following cell to define your model. We will use `Tx=30`, `n_a=64` (the dimension of the LSTM activations), and `n_values=78`. This cell may take a few seconds to run. "
   ]
  },
  {
   "cell_type": "code",
   "execution_count": 6,
   "metadata": {
    "collapsed": true
   },
   "outputs": [],
   "source": [
    "model = djmodel(Tx = 30 , n_a = 64, n_values = 78)"
   ]
  },
  {
   "cell_type": "markdown",
   "metadata": {},
   "source": [
    "You now need to compile your model to be trained. We will Adam and a categorical cross-entropy loss."
   ]
  },
  {
   "cell_type": "code",
   "execution_count": 7,
   "metadata": {
    "collapsed": true
   },
   "outputs": [],
   "source": [
    "opt = Adam(lr=0.01, beta_1=0.9, beta_2=0.999, decay=0.01)\n",
    "\n",
    "model.compile(optimizer=opt, loss='categorical_crossentropy', metrics=['accuracy'])"
   ]
  },
  {
   "cell_type": "markdown",
   "metadata": {},
   "source": [
    "Finally, lets initialize `a0` and `c0` for the LSTM's initial state to be zero. "
   ]
  },
  {
   "cell_type": "code",
   "execution_count": 8,
   "metadata": {
    "collapsed": true,
    "scrolled": true
   },
   "outputs": [],
   "source": [
    "m = 60\n",
    "a0 = np.zeros((m, n_a))\n",
    "c0 = np.zeros((m, n_a))"
   ]
  },
  {
   "cell_type": "markdown",
   "metadata": {},
   "source": [
    "Lets now fit the model! We will turn `Y` to a list before doing so, since the cost function expects `Y` to be provided in this format (one list item per time-step). So `list(Y)` is a list with 30 items, where each of the list items is of shape (60,78). Lets train for 100 epochs. This will take a few minutes. \n",
    "\n"
   ]
  },
  {
   "cell_type": "code",
   "execution_count": 9,
   "metadata": {
    "scrolled": true
   },
   "outputs": [
    {
     "name": "stdout",
     "output_type": "stream",
     "text": [
      "Epoch 1/100\n",
      "60/60 [==============================] - 3s - loss: 125.7967 - dense_1_loss_1: 4.3548 - dense_1_loss_2: 4.3452 - dense_1_loss_3: 4.3454 - dense_1_loss_4: 4.3388 - dense_1_loss_5: 4.3457 - dense_1_loss_6: 4.3411 - dense_1_loss_7: 4.3474 - dense_1_loss_8: 4.3324 - dense_1_loss_9: 4.3316 - dense_1_loss_10: 4.3321 - dense_1_loss_11: 4.3395 - dense_1_loss_12: 4.3389 - dense_1_loss_13: 4.3314 - dense_1_loss_14: 4.3325 - dense_1_loss_15: 4.3400 - dense_1_loss_16: 4.3386 - dense_1_loss_17: 4.3333 - dense_1_loss_18: 4.3325 - dense_1_loss_19: 4.3342 - dense_1_loss_20: 4.3372 - dense_1_loss_21: 4.3374 - dense_1_loss_22: 4.3354 - dense_1_loss_23: 4.3374 - dense_1_loss_24: 4.3320 - dense_1_loss_25: 4.3388 - dense_1_loss_26: 4.3386 - dense_1_loss_27: 4.3371 - dense_1_loss_28: 4.3366 - dense_1_loss_29: 4.3310 - dense_1_loss_30: 0.0000e+00 - dense_1_acc_1: 0.0000e+00 - dense_1_acc_2: 0.0167 - dense_1_acc_3: 0.0833 - dense_1_acc_4: 0.0667 - dense_1_acc_5: 0.0500 - dense_1_acc_6: 0.0500 - dense_1_acc_7: 0.0500 - dense_1_acc_8: 0.0833 - dense_1_acc_9: 0.0667 - dense_1_acc_10: 0.0667 - dense_1_acc_11: 0.0500 - dense_1_acc_12: 0.0167 - dense_1_acc_13: 0.0667 - dense_1_acc_14: 0.1167 - dense_1_acc_15: 0.0667 - dense_1_acc_16: 0.0333 - dense_1_acc_17: 0.0667 - dense_1_acc_18: 0.0667 - dense_1_acc_19: 0.1167 - dense_1_acc_20: 0.0167 - dense_1_acc_21: 0.0500 - dense_1_acc_22: 0.1000 - dense_1_acc_23: 0.0500 - dense_1_acc_24: 0.1500 - dense_1_acc_25: 0.0500 - dense_1_acc_26: 0.0667 - dense_1_acc_27: 0.0667 - dense_1_acc_28: 0.0167 - dense_1_acc_29: 0.1333 - dense_1_acc_30: 0.0000e+00                                                                             \n",
      "Epoch 2/100\n",
      "60/60 [==============================] - 0s - loss: 123.0810 - dense_1_loss_1: 4.3351 - dense_1_loss_2: 4.3069 - dense_1_loss_3: 4.2875 - dense_1_loss_4: 4.2797 - dense_1_loss_5: 4.2699 - dense_1_loss_6: 4.2685 - dense_1_loss_7: 4.2657 - dense_1_loss_8: 4.2353 - dense_1_loss_9: 4.2491 - dense_1_loss_10: 4.2346 - dense_1_loss_11: 4.2372 - dense_1_loss_12: 4.2475 - dense_1_loss_13: 4.2186 - dense_1_loss_14: 4.2200 - dense_1_loss_15: 4.2195 - dense_1_loss_16: 4.2296 - dense_1_loss_17: 4.2281 - dense_1_loss_18: 4.2332 - dense_1_loss_19: 4.2197 - dense_1_loss_20: 4.2428 - dense_1_loss_21: 4.2471 - dense_1_loss_22: 4.2169 - dense_1_loss_23: 4.2352 - dense_1_loss_24: 4.2309 - dense_1_loss_25: 4.2346 - dense_1_loss_26: 4.2057 - dense_1_loss_27: 4.2085 - dense_1_loss_28: 4.2242 - dense_1_loss_29: 4.2494 - dense_1_loss_30: 0.0000e+00 - dense_1_acc_1: 0.0333 - dense_1_acc_2: 0.1333 - dense_1_acc_3: 0.2000 - dense_1_acc_4: 0.2333 - dense_1_acc_5: 0.2000 - dense_1_acc_6: 0.1167 - dense_1_acc_7: 0.1500 - dense_1_acc_8: 0.2000 - dense_1_acc_9: 0.1500 - dense_1_acc_10: 0.1667 - dense_1_acc_11: 0.1333 - dense_1_acc_12: 0.1000 - dense_1_acc_13: 0.2000 - dense_1_acc_14: 0.1833 - dense_1_acc_15: 0.2000 - dense_1_acc_16: 0.1167 - dense_1_acc_17: 0.0833 - dense_1_acc_18: 0.1500 - dense_1_acc_19: 0.1833 - dense_1_acc_20: 0.0333 - dense_1_acc_21: 0.0833 - dense_1_acc_22: 0.1500 - dense_1_acc_23: 0.1167 - dense_1_acc_24: 0.1167 - dense_1_acc_25: 0.0667 - dense_1_acc_26: 0.1500 - dense_1_acc_27: 0.1333 - dense_1_acc_28: 0.1167 - dense_1_acc_29: 0.1000 - dense_1_acc_30: 0.0000e+00             \n",
      "Epoch 3/100\n",
      "60/60 [==============================] - 0s - loss: 117.2378 - dense_1_loss_1: 4.3143 - dense_1_loss_2: 4.2587 - dense_1_loss_3: 4.2078 - dense_1_loss_4: 4.1817 - dense_1_loss_5: 4.1512 - dense_1_loss_6: 4.1645 - dense_1_loss_7: 4.1249 - dense_1_loss_8: 4.0561 - dense_1_loss_9: 4.0382 - dense_1_loss_10: 3.9705 - dense_1_loss_11: 3.9530 - dense_1_loss_12: 4.0773 - dense_1_loss_13: 3.9406 - dense_1_loss_14: 3.9103 - dense_1_loss_15: 3.9665 - dense_1_loss_16: 3.9971 - dense_1_loss_17: 4.0228 - dense_1_loss_18: 4.0374 - dense_1_loss_19: 3.8783 - dense_1_loss_20: 4.0789 - dense_1_loss_21: 4.1184 - dense_1_loss_22: 3.8833 - dense_1_loss_23: 3.9549 - dense_1_loss_24: 3.9284 - dense_1_loss_25: 4.1547 - dense_1_loss_26: 3.8204 - dense_1_loss_27: 3.8869 - dense_1_loss_28: 3.9282 - dense_1_loss_29: 4.2326 - dense_1_loss_30: 0.0000e+00 - dense_1_acc_1: 0.0333 - dense_1_acc_2: 0.1500 - dense_1_acc_3: 0.2167 - dense_1_acc_4: 0.2333 - dense_1_acc_5: 0.1833 - dense_1_acc_6: 0.0667 - dense_1_acc_7: 0.1000 - dense_1_acc_8: 0.1833 - dense_1_acc_9: 0.1333 - dense_1_acc_10: 0.1667 - dense_1_acc_11: 0.1167 - dense_1_acc_12: 0.0667 - dense_1_acc_13: 0.1667 - dense_1_acc_14: 0.1667 - dense_1_acc_15: 0.1333 - dense_1_acc_16: 0.0833 - dense_1_acc_17: 0.0500 - dense_1_acc_18: 0.1500 - dense_1_acc_19: 0.1000 - dense_1_acc_20: 0.0000e+00 - dense_1_acc_21: 0.0500 - dense_1_acc_22: 0.1167 - dense_1_acc_23: 0.1000 - dense_1_acc_24: 0.0500 - dense_1_acc_25: 0.0500 - dense_1_acc_26: 0.0667 - dense_1_acc_27: 0.0833 - dense_1_acc_28: 0.0833 - dense_1_acc_29: 0.0333 - dense_1_acc_30: 0.0000e+00         \n",
      "Epoch 4/100\n",
      "60/60 [==============================] - 0s - loss: 113.8885 - dense_1_loss_1: 4.2933 - dense_1_loss_2: 4.2086 - dense_1_loss_3: 4.1207 - dense_1_loss_4: 4.0865 - dense_1_loss_5: 4.0148 - dense_1_loss_6: 4.0185 - dense_1_loss_7: 3.9714 - dense_1_loss_8: 3.8087 - dense_1_loss_9: 3.8278 - dense_1_loss_10: 3.6531 - dense_1_loss_11: 3.7755 - dense_1_loss_12: 3.9763 - dense_1_loss_13: 3.7914 - dense_1_loss_14: 3.7989 - dense_1_loss_15: 3.8370 - dense_1_loss_16: 3.8044 - dense_1_loss_17: 3.8956 - dense_1_loss_18: 3.8860 - dense_1_loss_19: 3.7683 - dense_1_loss_20: 4.0595 - dense_1_loss_21: 4.0400 - dense_1_loss_22: 3.9204 - dense_1_loss_23: 3.9442 - dense_1_loss_24: 3.7090 - dense_1_loss_25: 4.0907 - dense_1_loss_26: 3.7412 - dense_1_loss_27: 3.7791 - dense_1_loss_28: 3.9146 - dense_1_loss_29: 4.1530 - dense_1_loss_30: 0.0000e+00 - dense_1_acc_1: 0.1000 - dense_1_acc_2: 0.1667 - dense_1_acc_3: 0.2167 - dense_1_acc_4: 0.2167 - dense_1_acc_5: 0.2333 - dense_1_acc_6: 0.0500 - dense_1_acc_7: 0.1167 - dense_1_acc_8: 0.2000 - dense_1_acc_9: 0.1833 - dense_1_acc_10: 0.1167 - dense_1_acc_11: 0.0833 - dense_1_acc_12: 0.0167 - dense_1_acc_13: 0.1333 - dense_1_acc_14: 0.1000 - dense_1_acc_15: 0.1167 - dense_1_acc_16: 0.0833 - dense_1_acc_17: 0.1167 - dense_1_acc_18: 0.0333 - dense_1_acc_19: 0.1000 - dense_1_acc_20: 0.0667 - dense_1_acc_21: 0.0667 - dense_1_acc_22: 0.0500 - dense_1_acc_23: 0.0833 - dense_1_acc_24: 0.0833 - dense_1_acc_25: 0.0500 - dense_1_acc_26: 0.1333 - dense_1_acc_27: 0.0500 - dense_1_acc_28: 0.0667 - dense_1_acc_29: 0.0333 - dense_1_acc_30: 0.0000e+00             \n",
      "Epoch 5/100\n",
      "60/60 [==============================] - 0s - loss: 110.5550 - dense_1_loss_1: 4.2800 - dense_1_loss_2: 4.1691 - dense_1_loss_3: 4.0568 - dense_1_loss_4: 4.0332 - dense_1_loss_5: 3.9387 - dense_1_loss_6: 3.9247 - dense_1_loss_7: 3.9195 - dense_1_loss_8: 3.7011 - dense_1_loss_9: 3.7647 - dense_1_loss_10: 3.5735 - dense_1_loss_11: 3.6460 - dense_1_loss_12: 3.9098 - dense_1_loss_13: 3.7111 - dense_1_loss_14: 3.6936 - dense_1_loss_15: 3.7382 - dense_1_loss_16: 3.7055 - dense_1_loss_17: 3.8060 - dense_1_loss_18: 3.7619 - dense_1_loss_19: 3.6288 - dense_1_loss_20: 3.8277 - dense_1_loss_21: 3.8839 - dense_1_loss_22: 3.7458 - dense_1_loss_23: 3.7648 - dense_1_loss_24: 3.6490 - dense_1_loss_25: 3.8455 - dense_1_loss_26: 3.5791 - dense_1_loss_27: 3.6471 - dense_1_loss_28: 3.7600 - dense_1_loss_29: 3.8898 - dense_1_loss_30: 0.0000e+00 - dense_1_acc_1: 0.0667 - dense_1_acc_2: 0.2000 - dense_1_acc_3: 0.2667 - dense_1_acc_4: 0.2167 - dense_1_acc_5: 0.2667 - dense_1_acc_6: 0.1000 - dense_1_acc_7: 0.1333 - dense_1_acc_8: 0.3000 - dense_1_acc_9: 0.1500 - dense_1_acc_10: 0.1667 - dense_1_acc_11: 0.1167 - dense_1_acc_12: 0.0833 - dense_1_acc_13: 0.1333 - dense_1_acc_14: 0.1667 - dense_1_acc_15: 0.1167 - dense_1_acc_16: 0.1167 - dense_1_acc_17: 0.2000 - dense_1_acc_18: 0.1167 - dense_1_acc_19: 0.1667 - dense_1_acc_20: 0.1500 - dense_1_acc_21: 0.1000 - dense_1_acc_22: 0.1000 - dense_1_acc_23: 0.0833 - dense_1_acc_24: 0.0833 - dense_1_acc_25: 0.1167 - dense_1_acc_26: 0.1833 - dense_1_acc_27: 0.0500 - dense_1_acc_28: 0.1000 - dense_1_acc_29: 0.1500 - dense_1_acc_30: 0.0000e+00         \n",
      "Epoch 6/100\n"
     ]
    },
    {
     "name": "stdout",
     "output_type": "stream",
     "text": [
      "60/60 [==============================] - 0s - loss: 107.8269 - dense_1_loss_1: 4.2658 - dense_1_loss_2: 4.1365 - dense_1_loss_3: 3.9906 - dense_1_loss_4: 3.9799 - dense_1_loss_5: 3.8751 - dense_1_loss_6: 3.8465 - dense_1_loss_7: 3.8497 - dense_1_loss_8: 3.6088 - dense_1_loss_9: 3.6833 - dense_1_loss_10: 3.5172 - dense_1_loss_11: 3.5914 - dense_1_loss_12: 3.7951 - dense_1_loss_13: 3.5991 - dense_1_loss_14: 3.5710 - dense_1_loss_15: 3.6715 - dense_1_loss_16: 3.5764 - dense_1_loss_17: 3.6300 - dense_1_loss_18: 3.6901 - dense_1_loss_19: 3.4943 - dense_1_loss_20: 3.6655 - dense_1_loss_21: 3.7639 - dense_1_loss_22: 3.6215 - dense_1_loss_23: 3.5730 - dense_1_loss_24: 3.6118 - dense_1_loss_25: 3.7824 - dense_1_loss_26: 3.4629 - dense_1_loss_27: 3.5476 - dense_1_loss_28: 3.6709 - dense_1_loss_29: 3.7549 - dense_1_loss_30: 0.0000e+00 - dense_1_acc_1: 0.0667 - dense_1_acc_2: 0.1167 - dense_1_acc_3: 0.2667 - dense_1_acc_4: 0.2000 - dense_1_acc_5: 0.2500 - dense_1_acc_6: 0.1333 - dense_1_acc_7: 0.1333 - dense_1_acc_8: 0.2000 - dense_1_acc_9: 0.1333 - dense_1_acc_10: 0.1667 - dense_1_acc_11: 0.1000 - dense_1_acc_12: 0.0833 - dense_1_acc_13: 0.1167 - dense_1_acc_14: 0.1667 - dense_1_acc_15: 0.1000 - dense_1_acc_16: 0.1333 - dense_1_acc_17: 0.2167 - dense_1_acc_18: 0.0833 - dense_1_acc_19: 0.1500 - dense_1_acc_20: 0.1333 - dense_1_acc_21: 0.0667 - dense_1_acc_22: 0.0667 - dense_1_acc_23: 0.1333 - dense_1_acc_24: 0.1167 - dense_1_acc_25: 0.0833 - dense_1_acc_26: 0.1500 - dense_1_acc_27: 0.0667 - dense_1_acc_28: 0.1500 - dense_1_acc_29: 0.1167 - dense_1_acc_30: 0.0000e+00         \n",
      "Epoch 7/100\n",
      "60/60 [==============================] - 0s - loss: 104.4165 - dense_1_loss_1: 4.2507 - dense_1_loss_2: 4.1010 - dense_1_loss_3: 3.9251 - dense_1_loss_4: 3.9156 - dense_1_loss_5: 3.7744 - dense_1_loss_6: 3.7685 - dense_1_loss_7: 3.7644 - dense_1_loss_8: 3.4787 - dense_1_loss_9: 3.5647 - dense_1_loss_10: 3.4532 - dense_1_loss_11: 3.5076 - dense_1_loss_12: 3.6900 - dense_1_loss_13: 3.4263 - dense_1_loss_14: 3.4457 - dense_1_loss_15: 3.5208 - dense_1_loss_16: 3.4813 - dense_1_loss_17: 3.4525 - dense_1_loss_18: 3.5596 - dense_1_loss_19: 3.4122 - dense_1_loss_20: 3.4757 - dense_1_loss_21: 3.5962 - dense_1_loss_22: 3.4761 - dense_1_loss_23: 3.4827 - dense_1_loss_24: 3.4568 - dense_1_loss_25: 3.5676 - dense_1_loss_26: 3.3031 - dense_1_loss_27: 3.4071 - dense_1_loss_28: 3.5511 - dense_1_loss_29: 3.6078 - dense_1_loss_30: 0.0000e+00 - dense_1_acc_1: 0.0667 - dense_1_acc_2: 0.1500 - dense_1_acc_3: 0.2500 - dense_1_acc_4: 0.1833 - dense_1_acc_5: 0.2167 - dense_1_acc_6: 0.1333 - dense_1_acc_7: 0.0833 - dense_1_acc_8: 0.1833 - dense_1_acc_9: 0.1167 - dense_1_acc_10: 0.1500 - dense_1_acc_11: 0.1000 - dense_1_acc_12: 0.0833 - dense_1_acc_13: 0.1167 - dense_1_acc_14: 0.1667 - dense_1_acc_15: 0.0667 - dense_1_acc_16: 0.1167 - dense_1_acc_17: 0.2167 - dense_1_acc_18: 0.0833 - dense_1_acc_19: 0.1667 - dense_1_acc_20: 0.1667 - dense_1_acc_21: 0.1000 - dense_1_acc_22: 0.1167 - dense_1_acc_23: 0.0667 - dense_1_acc_24: 0.1167 - dense_1_acc_25: 0.1167 - dense_1_acc_26: 0.2333 - dense_1_acc_27: 0.0500 - dense_1_acc_28: 0.1333 - dense_1_acc_29: 0.1333 - dense_1_acc_30: 0.0000e+00     \n",
      "Epoch 8/100\n",
      "60/60 [==============================] - 0s - loss: 100.3350 - dense_1_loss_1: 4.2357 - dense_1_loss_2: 4.0624 - dense_1_loss_3: 3.8562 - dense_1_loss_4: 3.8320 - dense_1_loss_5: 3.6748 - dense_1_loss_6: 3.6672 - dense_1_loss_7: 3.6457 - dense_1_loss_8: 3.3411 - dense_1_loss_9: 3.4208 - dense_1_loss_10: 3.3081 - dense_1_loss_11: 3.3806 - dense_1_loss_12: 3.5345 - dense_1_loss_13: 3.2588 - dense_1_loss_14: 3.2715 - dense_1_loss_15: 3.3447 - dense_1_loss_16: 3.3283 - dense_1_loss_17: 3.2878 - dense_1_loss_18: 3.3756 - dense_1_loss_19: 3.2391 - dense_1_loss_20: 3.3496 - dense_1_loss_21: 3.4469 - dense_1_loss_22: 3.2603 - dense_1_loss_23: 3.3122 - dense_1_loss_24: 3.3889 - dense_1_loss_25: 3.4206 - dense_1_loss_26: 3.0918 - dense_1_loss_27: 3.3233 - dense_1_loss_28: 3.2795 - dense_1_loss_29: 3.3968 - dense_1_loss_30: 0.0000e+00 - dense_1_acc_1: 0.0667 - dense_1_acc_2: 0.1000 - dense_1_acc_3: 0.2333 - dense_1_acc_4: 0.1667 - dense_1_acc_5: 0.2167 - dense_1_acc_6: 0.1333 - dense_1_acc_7: 0.1000 - dense_1_acc_8: 0.1833 - dense_1_acc_9: 0.1333 - dense_1_acc_10: 0.1667 - dense_1_acc_11: 0.1167 - dense_1_acc_12: 0.1000 - dense_1_acc_13: 0.1167 - dense_1_acc_14: 0.1833 - dense_1_acc_15: 0.1333 - dense_1_acc_16: 0.2000 - dense_1_acc_17: 0.2000 - dense_1_acc_18: 0.1167 - dense_1_acc_19: 0.1667 - dense_1_acc_20: 0.1667 - dense_1_acc_21: 0.1333 - dense_1_acc_22: 0.1333 - dense_1_acc_23: 0.1333 - dense_1_acc_24: 0.1000 - dense_1_acc_25: 0.1000 - dense_1_acc_26: 0.2667 - dense_1_acc_27: 0.1167 - dense_1_acc_28: 0.2000 - dense_1_acc_29: 0.1667 - dense_1_acc_30: 0.0000e+00         \n",
      "Epoch 9/100\n",
      "60/60 [==============================] - 0s - loss: 96.6972 - dense_1_loss_1: 4.2212 - dense_1_loss_2: 4.0226 - dense_1_loss_3: 3.7764 - dense_1_loss_4: 3.7456 - dense_1_loss_5: 3.5521 - dense_1_loss_6: 3.5515 - dense_1_loss_7: 3.5260 - dense_1_loss_8: 3.2204 - dense_1_loss_9: 3.2779 - dense_1_loss_10: 3.1662 - dense_1_loss_11: 3.2533 - dense_1_loss_12: 3.3936 - dense_1_loss_13: 3.0709 - dense_1_loss_14: 3.0637 - dense_1_loss_15: 3.1419 - dense_1_loss_16: 3.1777 - dense_1_loss_17: 3.1252 - dense_1_loss_18: 3.2256 - dense_1_loss_19: 3.1440 - dense_1_loss_20: 3.2274 - dense_1_loss_21: 3.3009 - dense_1_loss_22: 3.1257 - dense_1_loss_23: 3.2860 - dense_1_loss_24: 3.2817 - dense_1_loss_25: 3.2742 - dense_1_loss_26: 2.9678 - dense_1_loss_27: 3.1838 - dense_1_loss_28: 3.1636 - dense_1_loss_29: 3.2303 - dense_1_loss_30: 0.0000e+00 - dense_1_acc_1: 0.0667 - dense_1_acc_2: 0.1500 - dense_1_acc_3: 0.2333 - dense_1_acc_4: 0.1833 - dense_1_acc_5: 0.2167 - dense_1_acc_6: 0.1167 - dense_1_acc_7: 0.1167 - dense_1_acc_8: 0.1833 - dense_1_acc_9: 0.1833 - dense_1_acc_10: 0.1833 - dense_1_acc_11: 0.1667 - dense_1_acc_12: 0.1167 - dense_1_acc_13: 0.2000 - dense_1_acc_14: 0.2167 - dense_1_acc_15: 0.1833 - dense_1_acc_16: 0.2000 - dense_1_acc_17: 0.1833 - dense_1_acc_18: 0.1333 - dense_1_acc_19: 0.2000 - dense_1_acc_20: 0.2000 - dense_1_acc_21: 0.1333 - dense_1_acc_22: 0.1500 - dense_1_acc_23: 0.1167 - dense_1_acc_24: 0.1333 - dense_1_acc_25: 0.1500 - dense_1_acc_26: 0.3333 - dense_1_acc_27: 0.0833 - dense_1_acc_28: 0.2167 - dense_1_acc_29: 0.1833 - dense_1_acc_30: 0.0000e+00     \n",
      "Epoch 10/100\n",
      "60/60 [==============================] - 0s - loss: 92.3949 - dense_1_loss_1: 4.2076 - dense_1_loss_2: 3.9815 - dense_1_loss_3: 3.6983 - dense_1_loss_4: 3.6511 - dense_1_loss_5: 3.4357 - dense_1_loss_6: 3.4217 - dense_1_loss_7: 3.3887 - dense_1_loss_8: 3.0756 - dense_1_loss_9: 3.1101 - dense_1_loss_10: 3.0026 - dense_1_loss_11: 3.1578 - dense_1_loss_12: 3.2434 - dense_1_loss_13: 2.8905 - dense_1_loss_14: 2.9377 - dense_1_loss_15: 2.9647 - dense_1_loss_16: 3.0670 - dense_1_loss_17: 2.9271 - dense_1_loss_18: 3.0966 - dense_1_loss_19: 2.9009 - dense_1_loss_20: 3.0861 - dense_1_loss_21: 3.0813 - dense_1_loss_22: 2.9923 - dense_1_loss_23: 3.0910 - dense_1_loss_24: 3.0402 - dense_1_loss_25: 3.1474 - dense_1_loss_26: 2.7670 - dense_1_loss_27: 3.0116 - dense_1_loss_28: 2.9728 - dense_1_loss_29: 3.0465 - dense_1_loss_30: 0.0000e+00 - dense_1_acc_1: 0.0667 - dense_1_acc_2: 0.1500 - dense_1_acc_3: 0.2333 - dense_1_acc_4: 0.1833 - dense_1_acc_5: 0.2167 - dense_1_acc_6: 0.1000 - dense_1_acc_7: 0.1167 - dense_1_acc_8: 0.2333 - dense_1_acc_9: 0.1833 - dense_1_acc_10: 0.1667 - dense_1_acc_11: 0.1333 - dense_1_acc_12: 0.1000 - dense_1_acc_13: 0.2167 - dense_1_acc_14: 0.2500 - dense_1_acc_15: 0.1500 - dense_1_acc_16: 0.1333 - dense_1_acc_17: 0.1333 - dense_1_acc_18: 0.1000 - dense_1_acc_19: 0.2167 - dense_1_acc_20: 0.1333 - dense_1_acc_21: 0.1333 - dense_1_acc_22: 0.2167 - dense_1_acc_23: 0.1833 - dense_1_acc_24: 0.1000 - dense_1_acc_25: 0.1000 - dense_1_acc_26: 0.2667 - dense_1_acc_27: 0.1333 - dense_1_acc_28: 0.1667 - dense_1_acc_29: 0.1500 - dense_1_acc_30: 0.0000e+00     \n",
      "Epoch 11/100\n"
     ]
    },
    {
     "name": "stdout",
     "output_type": "stream",
     "text": [
      "60/60 [==============================] - 0s - loss: 87.8251 - dense_1_loss_1: 4.1954 - dense_1_loss_2: 3.9414 - dense_1_loss_3: 3.6209 - dense_1_loss_4: 3.5466 - dense_1_loss_5: 3.3167 - dense_1_loss_6: 3.2819 - dense_1_loss_7: 3.2335 - dense_1_loss_8: 2.9343 - dense_1_loss_9: 2.9469 - dense_1_loss_10: 2.8650 - dense_1_loss_11: 2.9788 - dense_1_loss_12: 3.0978 - dense_1_loss_13: 2.7442 - dense_1_loss_14: 2.7909 - dense_1_loss_15: 2.7817 - dense_1_loss_16: 2.9199 - dense_1_loss_17: 2.7328 - dense_1_loss_18: 2.9171 - dense_1_loss_19: 2.7790 - dense_1_loss_20: 2.9666 - dense_1_loss_21: 2.8969 - dense_1_loss_22: 2.7512 - dense_1_loss_23: 2.8355 - dense_1_loss_24: 2.8956 - dense_1_loss_25: 2.9283 - dense_1_loss_26: 2.5078 - dense_1_loss_27: 2.7910 - dense_1_loss_28: 2.7749 - dense_1_loss_29: 2.8524 - dense_1_loss_30: 0.0000e+00 - dense_1_acc_1: 0.0667 - dense_1_acc_2: 0.2000 - dense_1_acc_3: 0.2333 - dense_1_acc_4: 0.2167 - dense_1_acc_5: 0.2667 - dense_1_acc_6: 0.1167 - dense_1_acc_7: 0.1167 - dense_1_acc_8: 0.2667 - dense_1_acc_9: 0.2333 - dense_1_acc_10: 0.1833 - dense_1_acc_11: 0.2000 - dense_1_acc_12: 0.2000 - dense_1_acc_13: 0.2833 - dense_1_acc_14: 0.2833 - dense_1_acc_15: 0.3000 - dense_1_acc_16: 0.2167 - dense_1_acc_17: 0.2000 - dense_1_acc_18: 0.1833 - dense_1_acc_19: 0.2500 - dense_1_acc_20: 0.2000 - dense_1_acc_21: 0.1833 - dense_1_acc_22: 0.2500 - dense_1_acc_23: 0.2667 - dense_1_acc_24: 0.1500 - dense_1_acc_25: 0.1167 - dense_1_acc_26: 0.3000 - dense_1_acc_27: 0.2000 - dense_1_acc_28: 0.2000 - dense_1_acc_29: 0.1500 - dense_1_acc_30: 0.0000e+00     \n",
      "Epoch 12/100\n",
      "60/60 [==============================] - 0s - loss: 83.2409 - dense_1_loss_1: 4.1852 - dense_1_loss_2: 3.9020 - dense_1_loss_3: 3.5422 - dense_1_loss_4: 3.4446 - dense_1_loss_5: 3.1878 - dense_1_loss_6: 3.1211 - dense_1_loss_7: 3.0606 - dense_1_loss_8: 2.7960 - dense_1_loss_9: 2.7725 - dense_1_loss_10: 2.6932 - dense_1_loss_11: 2.8144 - dense_1_loss_12: 2.8342 - dense_1_loss_13: 2.5092 - dense_1_loss_14: 2.5778 - dense_1_loss_15: 2.6219 - dense_1_loss_16: 2.7390 - dense_1_loss_17: 2.4914 - dense_1_loss_18: 2.7350 - dense_1_loss_19: 2.5274 - dense_1_loss_20: 2.7385 - dense_1_loss_21: 2.7692 - dense_1_loss_22: 2.5838 - dense_1_loss_23: 2.7339 - dense_1_loss_24: 2.7924 - dense_1_loss_25: 2.7311 - dense_1_loss_26: 2.3590 - dense_1_loss_27: 2.6604 - dense_1_loss_28: 2.6276 - dense_1_loss_29: 2.6892 - dense_1_loss_30: 0.0000e+00 - dense_1_acc_1: 0.0667 - dense_1_acc_2: 0.2167 - dense_1_acc_3: 0.2833 - dense_1_acc_4: 0.2500 - dense_1_acc_5: 0.3333 - dense_1_acc_6: 0.1333 - dense_1_acc_7: 0.1167 - dense_1_acc_8: 0.2667 - dense_1_acc_9: 0.2833 - dense_1_acc_10: 0.2667 - dense_1_acc_11: 0.1833 - dense_1_acc_12: 0.2167 - dense_1_acc_13: 0.3333 - dense_1_acc_14: 0.2833 - dense_1_acc_15: 0.2167 - dense_1_acc_16: 0.2333 - dense_1_acc_17: 0.2667 - dense_1_acc_18: 0.1667 - dense_1_acc_19: 0.3000 - dense_1_acc_20: 0.2333 - dense_1_acc_21: 0.1667 - dense_1_acc_22: 0.2167 - dense_1_acc_23: 0.2167 - dense_1_acc_24: 0.1333 - dense_1_acc_25: 0.1500 - dense_1_acc_26: 0.3500 - dense_1_acc_27: 0.2000 - dense_1_acc_28: 0.2667 - dense_1_acc_29: 0.1667 - dense_1_acc_30: 0.0000e+00     \n",
      "Epoch 13/100\n",
      "60/60 [==============================] - 0s - loss: 78.7472 - dense_1_loss_1: 4.1742 - dense_1_loss_2: 3.8608 - dense_1_loss_3: 3.4610 - dense_1_loss_4: 3.3406 - dense_1_loss_5: 3.0661 - dense_1_loss_6: 2.9517 - dense_1_loss_7: 2.8907 - dense_1_loss_8: 2.6460 - dense_1_loss_9: 2.6281 - dense_1_loss_10: 2.5724 - dense_1_loss_11: 2.6849 - dense_1_loss_12: 2.6388 - dense_1_loss_13: 2.3593 - dense_1_loss_14: 2.4306 - dense_1_loss_15: 2.4398 - dense_1_loss_16: 2.5486 - dense_1_loss_17: 2.3529 - dense_1_loss_18: 2.5669 - dense_1_loss_19: 2.4043 - dense_1_loss_20: 2.5621 - dense_1_loss_21: 2.5501 - dense_1_loss_22: 2.3947 - dense_1_loss_23: 2.5098 - dense_1_loss_24: 2.5772 - dense_1_loss_25: 2.5183 - dense_1_loss_26: 2.2261 - dense_1_loss_27: 2.4868 - dense_1_loss_28: 2.4637 - dense_1_loss_29: 2.4405 - dense_1_loss_30: 0.0000e+00 - dense_1_acc_1: 0.0667 - dense_1_acc_2: 0.2167 - dense_1_acc_3: 0.2833 - dense_1_acc_4: 0.2333 - dense_1_acc_5: 0.3500 - dense_1_acc_6: 0.1667 - dense_1_acc_7: 0.2333 - dense_1_acc_8: 0.3167 - dense_1_acc_9: 0.3500 - dense_1_acc_10: 0.2667 - dense_1_acc_11: 0.2833 - dense_1_acc_12: 0.3000 - dense_1_acc_13: 0.4667 - dense_1_acc_14: 0.3167 - dense_1_acc_15: 0.2667 - dense_1_acc_16: 0.2833 - dense_1_acc_17: 0.2833 - dense_1_acc_18: 0.2667 - dense_1_acc_19: 0.3833 - dense_1_acc_20: 0.3333 - dense_1_acc_21: 0.2500 - dense_1_acc_22: 0.2500 - dense_1_acc_23: 0.2500 - dense_1_acc_24: 0.2167 - dense_1_acc_25: 0.2333 - dense_1_acc_26: 0.4000 - dense_1_acc_27: 0.3167 - dense_1_acc_28: 0.3333 - dense_1_acc_29: 0.2500 - dense_1_acc_30: 0.0000e+00     \n",
      "Epoch 14/100\n",
      "60/60 [==============================] - 0s - loss: 74.9865 - dense_1_loss_1: 4.1654 - dense_1_loss_2: 3.8154 - dense_1_loss_3: 3.3748 - dense_1_loss_4: 3.2204 - dense_1_loss_5: 2.9295 - dense_1_loss_6: 2.7754 - dense_1_loss_7: 2.7282 - dense_1_loss_8: 2.4933 - dense_1_loss_9: 2.5130 - dense_1_loss_10: 2.4822 - dense_1_loss_11: 2.5590 - dense_1_loss_12: 2.4959 - dense_1_loss_13: 2.2365 - dense_1_loss_14: 2.3099 - dense_1_loss_15: 2.3491 - dense_1_loss_16: 2.4098 - dense_1_loss_17: 2.2314 - dense_1_loss_18: 2.4454 - dense_1_loss_19: 2.3287 - dense_1_loss_20: 2.4187 - dense_1_loss_21: 2.3770 - dense_1_loss_22: 2.2234 - dense_1_loss_23: 2.2995 - dense_1_loss_24: 2.4039 - dense_1_loss_25: 2.3838 - dense_1_loss_26: 2.0966 - dense_1_loss_27: 2.3242 - dense_1_loss_28: 2.3010 - dense_1_loss_29: 2.2951 - dense_1_loss_30: 0.0000e+00 - dense_1_acc_1: 0.0667 - dense_1_acc_2: 0.2167 - dense_1_acc_3: 0.3167 - dense_1_acc_4: 0.2500 - dense_1_acc_5: 0.3500 - dense_1_acc_6: 0.3000 - dense_1_acc_7: 0.3167 - dense_1_acc_8: 0.3667 - dense_1_acc_9: 0.3667 - dense_1_acc_10: 0.3000 - dense_1_acc_11: 0.2500 - dense_1_acc_12: 0.3333 - dense_1_acc_13: 0.4333 - dense_1_acc_14: 0.3667 - dense_1_acc_15: 0.3167 - dense_1_acc_16: 0.3000 - dense_1_acc_17: 0.2667 - dense_1_acc_18: 0.2667 - dense_1_acc_19: 0.2833 - dense_1_acc_20: 0.3167 - dense_1_acc_21: 0.3000 - dense_1_acc_22: 0.3500 - dense_1_acc_23: 0.4000 - dense_1_acc_24: 0.2833 - dense_1_acc_25: 0.2833 - dense_1_acc_26: 0.4833 - dense_1_acc_27: 0.4000 - dense_1_acc_28: 0.3333 - dense_1_acc_29: 0.3333 - dense_1_acc_30: 0.0000e+00     \n",
      "Epoch 15/100\n",
      "60/60 [==============================] - 0s - loss: 71.6157 - dense_1_loss_1: 4.1547 - dense_1_loss_2: 3.7660 - dense_1_loss_3: 3.2818 - dense_1_loss_4: 3.1003 - dense_1_loss_5: 2.7911 - dense_1_loss_6: 2.6247 - dense_1_loss_7: 2.5563 - dense_1_loss_8: 2.3393 - dense_1_loss_9: 2.3524 - dense_1_loss_10: 2.3126 - dense_1_loss_11: 2.3745 - dense_1_loss_12: 2.2693 - dense_1_loss_13: 2.0719 - dense_1_loss_14: 2.1802 - dense_1_loss_15: 2.2269 - dense_1_loss_16: 2.2228 - dense_1_loss_17: 2.0833 - dense_1_loss_18: 2.3090 - dense_1_loss_19: 2.1880 - dense_1_loss_20: 2.3143 - dense_1_loss_21: 2.3379 - dense_1_loss_22: 2.1296 - dense_1_loss_23: 2.1726 - dense_1_loss_24: 2.2999 - dense_1_loss_25: 2.3095 - dense_1_loss_26: 2.0101 - dense_1_loss_27: 2.3564 - dense_1_loss_28: 2.2353 - dense_1_loss_29: 2.2454 - dense_1_loss_30: 0.0000e+00 - dense_1_acc_1: 0.0667 - dense_1_acc_2: 0.2667 - dense_1_acc_3: 0.3500 - dense_1_acc_4: 0.2500 - dense_1_acc_5: 0.3000 - dense_1_acc_6: 0.3667 - dense_1_acc_7: 0.3667 - dense_1_acc_8: 0.4333 - dense_1_acc_9: 0.3833 - dense_1_acc_10: 0.3500 - dense_1_acc_11: 0.2667 - dense_1_acc_12: 0.3500 - dense_1_acc_13: 0.3667 - dense_1_acc_14: 0.3167 - dense_1_acc_15: 0.3333 - dense_1_acc_16: 0.3000 - dense_1_acc_17: 0.3333 - dense_1_acc_18: 0.3000 - dense_1_acc_19: 0.3667 - dense_1_acc_20: 0.3000 - dense_1_acc_21: 0.2333 - dense_1_acc_22: 0.4167 - dense_1_acc_23: 0.4000 - dense_1_acc_24: 0.2333 - dense_1_acc_25: 0.1833 - dense_1_acc_26: 0.4500 - dense_1_acc_27: 0.3667 - dense_1_acc_28: 0.3667 - dense_1_acc_29: 0.3500 - dense_1_acc_30: 0.0000e+00     \n",
      "Epoch 16/100\n"
     ]
    },
    {
     "name": "stdout",
     "output_type": "stream",
     "text": [
      "60/60 [==============================] - 0s - loss: 67.6428 - dense_1_loss_1: 4.1443 - dense_1_loss_2: 3.7186 - dense_1_loss_3: 3.1913 - dense_1_loss_4: 2.9796 - dense_1_loss_5: 2.6775 - dense_1_loss_6: 2.4951 - dense_1_loss_7: 2.3869 - dense_1_loss_8: 2.2391 - dense_1_loss_9: 2.2176 - dense_1_loss_10: 2.1614 - dense_1_loss_11: 2.2316 - dense_1_loss_12: 2.1305 - dense_1_loss_13: 1.9206 - dense_1_loss_14: 2.0013 - dense_1_loss_15: 2.0761 - dense_1_loss_16: 2.1134 - dense_1_loss_17: 1.9731 - dense_1_loss_18: 2.1500 - dense_1_loss_19: 2.0720 - dense_1_loss_20: 2.1895 - dense_1_loss_21: 2.1696 - dense_1_loss_22: 1.9885 - dense_1_loss_23: 2.0525 - dense_1_loss_24: 2.1173 - dense_1_loss_25: 2.1443 - dense_1_loss_26: 1.8865 - dense_1_loss_27: 2.0969 - dense_1_loss_28: 2.0608 - dense_1_loss_29: 2.0568 - dense_1_loss_30: 0.0000e+00 - dense_1_acc_1: 0.0667 - dense_1_acc_2: 0.2667 - dense_1_acc_3: 0.3667 - dense_1_acc_4: 0.2667 - dense_1_acc_5: 0.3500 - dense_1_acc_6: 0.4333 - dense_1_acc_7: 0.3833 - dense_1_acc_8: 0.4667 - dense_1_acc_9: 0.3667 - dense_1_acc_10: 0.3500 - dense_1_acc_11: 0.3000 - dense_1_acc_12: 0.3500 - dense_1_acc_13: 0.4167 - dense_1_acc_14: 0.3667 - dense_1_acc_15: 0.3833 - dense_1_acc_16: 0.3000 - dense_1_acc_17: 0.3833 - dense_1_acc_18: 0.3333 - dense_1_acc_19: 0.3667 - dense_1_acc_20: 0.3500 - dense_1_acc_21: 0.3333 - dense_1_acc_22: 0.4000 - dense_1_acc_23: 0.4333 - dense_1_acc_24: 0.3000 - dense_1_acc_25: 0.3167 - dense_1_acc_26: 0.5167 - dense_1_acc_27: 0.4333 - dense_1_acc_28: 0.3833 - dense_1_acc_29: 0.4000 - dense_1_acc_30: 0.0000e+00     \n",
      "Epoch 17/100\n",
      "60/60 [==============================] - 0s - loss: 63.9888 - dense_1_loss_1: 4.1351 - dense_1_loss_2: 3.6699 - dense_1_loss_3: 3.0997 - dense_1_loss_4: 2.8629 - dense_1_loss_5: 2.5580 - dense_1_loss_6: 2.3706 - dense_1_loss_7: 2.2208 - dense_1_loss_8: 2.1292 - dense_1_loss_9: 2.0905 - dense_1_loss_10: 2.0441 - dense_1_loss_11: 2.0754 - dense_1_loss_12: 1.9869 - dense_1_loss_13: 1.7783 - dense_1_loss_14: 1.8427 - dense_1_loss_15: 1.9556 - dense_1_loss_16: 2.0012 - dense_1_loss_17: 1.8475 - dense_1_loss_18: 1.9852 - dense_1_loss_19: 1.9087 - dense_1_loss_20: 2.0180 - dense_1_loss_21: 1.9955 - dense_1_loss_22: 1.8914 - dense_1_loss_23: 1.9059 - dense_1_loss_24: 1.9925 - dense_1_loss_25: 1.9574 - dense_1_loss_26: 1.8035 - dense_1_loss_27: 1.9484 - dense_1_loss_28: 1.9502 - dense_1_loss_29: 1.9637 - dense_1_loss_30: 0.0000e+00 - dense_1_acc_1: 0.0667 - dense_1_acc_2: 0.3000 - dense_1_acc_3: 0.4000 - dense_1_acc_4: 0.2833 - dense_1_acc_5: 0.3667 - dense_1_acc_6: 0.4167 - dense_1_acc_7: 0.4333 - dense_1_acc_8: 0.4833 - dense_1_acc_9: 0.4333 - dense_1_acc_10: 0.3833 - dense_1_acc_11: 0.3500 - dense_1_acc_12: 0.4333 - dense_1_acc_13: 0.4500 - dense_1_acc_14: 0.4000 - dense_1_acc_15: 0.3667 - dense_1_acc_16: 0.3500 - dense_1_acc_17: 0.4167 - dense_1_acc_18: 0.4000 - dense_1_acc_19: 0.4333 - dense_1_acc_20: 0.4333 - dense_1_acc_21: 0.3500 - dense_1_acc_22: 0.3833 - dense_1_acc_23: 0.4500 - dense_1_acc_24: 0.3500 - dense_1_acc_25: 0.3500 - dense_1_acc_26: 0.5000 - dense_1_acc_27: 0.4667 - dense_1_acc_28: 0.4167 - dense_1_acc_29: 0.3833 - dense_1_acc_30: 0.0000e+00     \n",
      "Epoch 18/100\n",
      "60/60 [==============================] - 0s - loss: 60.6386 - dense_1_loss_1: 4.1243 - dense_1_loss_2: 3.6188 - dense_1_loss_3: 3.0078 - dense_1_loss_4: 2.7540 - dense_1_loss_5: 2.4444 - dense_1_loss_6: 2.2488 - dense_1_loss_7: 2.0821 - dense_1_loss_8: 2.0169 - dense_1_loss_9: 1.9687 - dense_1_loss_10: 1.9250 - dense_1_loss_11: 1.9464 - dense_1_loss_12: 1.8740 - dense_1_loss_13: 1.6474 - dense_1_loss_14: 1.7416 - dense_1_loss_15: 1.8392 - dense_1_loss_16: 1.9461 - dense_1_loss_17: 1.7210 - dense_1_loss_18: 1.8724 - dense_1_loss_19: 1.7634 - dense_1_loss_20: 1.9049 - dense_1_loss_21: 1.8771 - dense_1_loss_22: 1.8201 - dense_1_loss_23: 1.8093 - dense_1_loss_24: 1.8350 - dense_1_loss_25: 1.7979 - dense_1_loss_26: 1.6633 - dense_1_loss_27: 1.7946 - dense_1_loss_28: 1.7808 - dense_1_loss_29: 1.8132 - dense_1_loss_30: 0.0000e+00 - dense_1_acc_1: 0.0667 - dense_1_acc_2: 0.3167 - dense_1_acc_3: 0.4167 - dense_1_acc_4: 0.2500 - dense_1_acc_5: 0.3833 - dense_1_acc_6: 0.4167 - dense_1_acc_7: 0.4667 - dense_1_acc_8: 0.5000 - dense_1_acc_9: 0.4667 - dense_1_acc_10: 0.4333 - dense_1_acc_11: 0.3500 - dense_1_acc_12: 0.4667 - dense_1_acc_13: 0.5000 - dense_1_acc_14: 0.4333 - dense_1_acc_15: 0.4000 - dense_1_acc_16: 0.3667 - dense_1_acc_17: 0.5167 - dense_1_acc_18: 0.4500 - dense_1_acc_19: 0.4333 - dense_1_acc_20: 0.4667 - dense_1_acc_21: 0.5000 - dense_1_acc_22: 0.4333 - dense_1_acc_23: 0.5167 - dense_1_acc_24: 0.4000 - dense_1_acc_25: 0.3500 - dense_1_acc_26: 0.4333 - dense_1_acc_27: 0.4500 - dense_1_acc_28: 0.5000 - dense_1_acc_29: 0.5000 - dense_1_acc_30: 0.0000e+00     \n",
      "Epoch 19/100\n",
      "60/60 [==============================] - 0s - loss: 57.3080 - dense_1_loss_1: 4.1132 - dense_1_loss_2: 3.5708 - dense_1_loss_3: 2.9165 - dense_1_loss_4: 2.6425 - dense_1_loss_5: 2.3294 - dense_1_loss_6: 2.1245 - dense_1_loss_7: 1.9417 - dense_1_loss_8: 1.9069 - dense_1_loss_9: 1.8146 - dense_1_loss_10: 1.7796 - dense_1_loss_11: 1.8114 - dense_1_loss_12: 1.7623 - dense_1_loss_13: 1.5063 - dense_1_loss_14: 1.6216 - dense_1_loss_15: 1.7215 - dense_1_loss_16: 1.8344 - dense_1_loss_17: 1.6225 - dense_1_loss_18: 1.7271 - dense_1_loss_19: 1.6601 - dense_1_loss_20: 1.7663 - dense_1_loss_21: 1.7601 - dense_1_loss_22: 1.6917 - dense_1_loss_23: 1.6977 - dense_1_loss_24: 1.7058 - dense_1_loss_25: 1.6651 - dense_1_loss_26: 1.5935 - dense_1_loss_27: 1.6877 - dense_1_loss_28: 1.6741 - dense_1_loss_29: 1.6592 - dense_1_loss_30: 0.0000e+00 - dense_1_acc_1: 0.0667 - dense_1_acc_2: 0.3167 - dense_1_acc_3: 0.4000 - dense_1_acc_4: 0.2667 - dense_1_acc_5: 0.3667 - dense_1_acc_6: 0.4167 - dense_1_acc_7: 0.4833 - dense_1_acc_8: 0.5000 - dense_1_acc_9: 0.4833 - dense_1_acc_10: 0.4500 - dense_1_acc_11: 0.3500 - dense_1_acc_12: 0.4667 - dense_1_acc_13: 0.6167 - dense_1_acc_14: 0.4833 - dense_1_acc_15: 0.4500 - dense_1_acc_16: 0.4333 - dense_1_acc_17: 0.5167 - dense_1_acc_18: 0.4500 - dense_1_acc_19: 0.4667 - dense_1_acc_20: 0.5000 - dense_1_acc_21: 0.5167 - dense_1_acc_22: 0.5167 - dense_1_acc_23: 0.5167 - dense_1_acc_24: 0.4333 - dense_1_acc_25: 0.4333 - dense_1_acc_26: 0.5167 - dense_1_acc_27: 0.4833 - dense_1_acc_28: 0.5167 - dense_1_acc_29: 0.5500 - dense_1_acc_30: 0.0000e+00     \n",
      "Epoch 20/100\n",
      "60/60 [==============================] - 0s - loss: 54.0674 - dense_1_loss_1: 4.1028 - dense_1_loss_2: 3.5206 - dense_1_loss_3: 2.8169 - dense_1_loss_4: 2.5376 - dense_1_loss_5: 2.2087 - dense_1_loss_6: 1.9994 - dense_1_loss_7: 1.7942 - dense_1_loss_8: 1.7827 - dense_1_loss_9: 1.6889 - dense_1_loss_10: 1.6322 - dense_1_loss_11: 1.6399 - dense_1_loss_12: 1.6052 - dense_1_loss_13: 1.3855 - dense_1_loss_14: 1.4860 - dense_1_loss_15: 1.6250 - dense_1_loss_16: 1.6950 - dense_1_loss_17: 1.5273 - dense_1_loss_18: 1.6131 - dense_1_loss_19: 1.5230 - dense_1_loss_20: 1.6214 - dense_1_loss_21: 1.6464 - dense_1_loss_22: 1.5945 - dense_1_loss_23: 1.5929 - dense_1_loss_24: 1.6079 - dense_1_loss_25: 1.5916 - dense_1_loss_26: 1.5114 - dense_1_loss_27: 1.6069 - dense_1_loss_28: 1.5717 - dense_1_loss_29: 1.5384 - dense_1_loss_30: 0.0000e+00 - dense_1_acc_1: 0.0667 - dense_1_acc_2: 0.3167 - dense_1_acc_3: 0.4000 - dense_1_acc_4: 0.2833 - dense_1_acc_5: 0.3667 - dense_1_acc_6: 0.4167 - dense_1_acc_7: 0.5167 - dense_1_acc_8: 0.5667 - dense_1_acc_9: 0.5333 - dense_1_acc_10: 0.5833 - dense_1_acc_11: 0.4667 - dense_1_acc_12: 0.5667 - dense_1_acc_13: 0.6500 - dense_1_acc_14: 0.5833 - dense_1_acc_15: 0.4500 - dense_1_acc_16: 0.5000 - dense_1_acc_17: 0.6333 - dense_1_acc_18: 0.4667 - dense_1_acc_19: 0.5833 - dense_1_acc_20: 0.5667 - dense_1_acc_21: 0.5000 - dense_1_acc_22: 0.5167 - dense_1_acc_23: 0.5500 - dense_1_acc_24: 0.4333 - dense_1_acc_25: 0.4500 - dense_1_acc_26: 0.5833 - dense_1_acc_27: 0.4833 - dense_1_acc_28: 0.5833 - dense_1_acc_29: 0.6000 - dense_1_acc_30: 0.0000e+00     \n",
      "Epoch 21/100\n"
     ]
    },
    {
     "name": "stdout",
     "output_type": "stream",
     "text": [
      "60/60 [==============================] - 0s - loss: 51.1642 - dense_1_loss_1: 4.0926 - dense_1_loss_2: 3.4724 - dense_1_loss_3: 2.7216 - dense_1_loss_4: 2.4309 - dense_1_loss_5: 2.0955 - dense_1_loss_6: 1.8795 - dense_1_loss_7: 1.6644 - dense_1_loss_8: 1.6604 - dense_1_loss_9: 1.5946 - dense_1_loss_10: 1.5433 - dense_1_loss_11: 1.5397 - dense_1_loss_12: 1.5030 - dense_1_loss_13: 1.3005 - dense_1_loss_14: 1.4017 - dense_1_loss_15: 1.5069 - dense_1_loss_16: 1.5660 - dense_1_loss_17: 1.4437 - dense_1_loss_18: 1.5076 - dense_1_loss_19: 1.4136 - dense_1_loss_20: 1.5210 - dense_1_loss_21: 1.5422 - dense_1_loss_22: 1.5109 - dense_1_loss_23: 1.4850 - dense_1_loss_24: 1.4860 - dense_1_loss_25: 1.5341 - dense_1_loss_26: 1.3715 - dense_1_loss_27: 1.4733 - dense_1_loss_28: 1.4729 - dense_1_loss_29: 1.4296 - dense_1_loss_30: 0.0000e+00 - dense_1_acc_1: 0.0667 - dense_1_acc_2: 0.3167 - dense_1_acc_3: 0.4500 - dense_1_acc_4: 0.2833 - dense_1_acc_5: 0.3667 - dense_1_acc_6: 0.4833 - dense_1_acc_7: 0.5667 - dense_1_acc_8: 0.5833 - dense_1_acc_9: 0.5167 - dense_1_acc_10: 0.6167 - dense_1_acc_11: 0.6000 - dense_1_acc_12: 0.5833 - dense_1_acc_13: 0.7167 - dense_1_acc_14: 0.5833 - dense_1_acc_15: 0.4333 - dense_1_acc_16: 0.5167 - dense_1_acc_17: 0.6500 - dense_1_acc_18: 0.5167 - dense_1_acc_19: 0.6000 - dense_1_acc_20: 0.5000 - dense_1_acc_21: 0.5333 - dense_1_acc_22: 0.5333 - dense_1_acc_23: 0.5667 - dense_1_acc_24: 0.5167 - dense_1_acc_25: 0.4833 - dense_1_acc_26: 0.6000 - dense_1_acc_27: 0.5333 - dense_1_acc_28: 0.6333 - dense_1_acc_29: 0.7000 - dense_1_acc_30: 0.0000e+00     \n",
      "Epoch 22/100\n",
      "60/60 [==============================] - 0s - loss: 48.3502 - dense_1_loss_1: 4.0847 - dense_1_loss_2: 3.4235 - dense_1_loss_3: 2.6293 - dense_1_loss_4: 2.3213 - dense_1_loss_5: 1.9993 - dense_1_loss_6: 1.7557 - dense_1_loss_7: 1.5297 - dense_1_loss_8: 1.5751 - dense_1_loss_9: 1.4611 - dense_1_loss_10: 1.4505 - dense_1_loss_11: 1.4194 - dense_1_loss_12: 1.3812 - dense_1_loss_13: 1.1876 - dense_1_loss_14: 1.3025 - dense_1_loss_15: 1.3808 - dense_1_loss_16: 1.4659 - dense_1_loss_17: 1.3170 - dense_1_loss_18: 1.4110 - dense_1_loss_19: 1.3235 - dense_1_loss_20: 1.4198 - dense_1_loss_21: 1.4661 - dense_1_loss_22: 1.3909 - dense_1_loss_23: 1.3833 - dense_1_loss_24: 1.4173 - dense_1_loss_25: 1.4313 - dense_1_loss_26: 1.2677 - dense_1_loss_27: 1.3947 - dense_1_loss_28: 1.4029 - dense_1_loss_29: 1.3569 - dense_1_loss_30: 0.0000e+00 - dense_1_acc_1: 0.0667 - dense_1_acc_2: 0.3167 - dense_1_acc_3: 0.4667 - dense_1_acc_4: 0.3000 - dense_1_acc_5: 0.4167 - dense_1_acc_6: 0.5000 - dense_1_acc_7: 0.6000 - dense_1_acc_8: 0.6167 - dense_1_acc_9: 0.6000 - dense_1_acc_10: 0.6167 - dense_1_acc_11: 0.6500 - dense_1_acc_12: 0.6667 - dense_1_acc_13: 0.6833 - dense_1_acc_14: 0.7167 - dense_1_acc_15: 0.5500 - dense_1_acc_16: 0.5167 - dense_1_acc_17: 0.7333 - dense_1_acc_18: 0.5667 - dense_1_acc_19: 0.6167 - dense_1_acc_20: 0.6167 - dense_1_acc_21: 0.5500 - dense_1_acc_22: 0.5333 - dense_1_acc_23: 0.6167 - dense_1_acc_24: 0.5000 - dense_1_acc_25: 0.4833 - dense_1_acc_26: 0.6500 - dense_1_acc_27: 0.5500 - dense_1_acc_28: 0.6333 - dense_1_acc_29: 0.6833 - dense_1_acc_30: 0.0000e+00     \n",
      "Epoch 23/100\n",
      "60/60 [==============================] - 0s - loss: 45.7735 - dense_1_loss_1: 4.0764 - dense_1_loss_2: 3.3740 - dense_1_loss_3: 2.5422 - dense_1_loss_4: 2.2223 - dense_1_loss_5: 1.8907 - dense_1_loss_6: 1.6388 - dense_1_loss_7: 1.4092 - dense_1_loss_8: 1.4890 - dense_1_loss_9: 1.3713 - dense_1_loss_10: 1.3316 - dense_1_loss_11: 1.3351 - dense_1_loss_12: 1.2813 - dense_1_loss_13: 1.1463 - dense_1_loss_14: 1.2510 - dense_1_loss_15: 1.2773 - dense_1_loss_16: 1.3727 - dense_1_loss_17: 1.2294 - dense_1_loss_18: 1.3088 - dense_1_loss_19: 1.2394 - dense_1_loss_20: 1.3327 - dense_1_loss_21: 1.3759 - dense_1_loss_22: 1.2921 - dense_1_loss_23: 1.3391 - dense_1_loss_24: 1.3001 - dense_1_loss_25: 1.3051 - dense_1_loss_26: 1.1745 - dense_1_loss_27: 1.2729 - dense_1_loss_28: 1.3169 - dense_1_loss_29: 1.2773 - dense_1_loss_30: 0.0000e+00 - dense_1_acc_1: 0.0667 - dense_1_acc_2: 0.3167 - dense_1_acc_3: 0.4667 - dense_1_acc_4: 0.3000 - dense_1_acc_5: 0.4333 - dense_1_acc_6: 0.5500 - dense_1_acc_7: 0.7167 - dense_1_acc_8: 0.6500 - dense_1_acc_9: 0.7000 - dense_1_acc_10: 0.6500 - dense_1_acc_11: 0.6333 - dense_1_acc_12: 0.6667 - dense_1_acc_13: 0.7333 - dense_1_acc_14: 0.6833 - dense_1_acc_15: 0.6333 - dense_1_acc_16: 0.6000 - dense_1_acc_17: 0.7500 - dense_1_acc_18: 0.5833 - dense_1_acc_19: 0.6833 - dense_1_acc_20: 0.6333 - dense_1_acc_21: 0.6000 - dense_1_acc_22: 0.6500 - dense_1_acc_23: 0.6167 - dense_1_acc_24: 0.7167 - dense_1_acc_25: 0.5833 - dense_1_acc_26: 0.7000 - dense_1_acc_27: 0.6167 - dense_1_acc_28: 0.7500 - dense_1_acc_29: 0.7833 - dense_1_acc_30: 0.0000e+00     \n",
      "Epoch 24/100\n",
      "60/60 [==============================] - 0s - loss: 43.2697 - dense_1_loss_1: 4.0688 - dense_1_loss_2: 3.3236 - dense_1_loss_3: 2.4553 - dense_1_loss_4: 2.1211 - dense_1_loss_5: 1.7978 - dense_1_loss_6: 1.5222 - dense_1_loss_7: 1.2928 - dense_1_loss_8: 1.3791 - dense_1_loss_9: 1.2520 - dense_1_loss_10: 1.2430 - dense_1_loss_11: 1.1912 - dense_1_loss_12: 1.1676 - dense_1_loss_13: 1.0450 - dense_1_loss_14: 1.1261 - dense_1_loss_15: 1.2078 - dense_1_loss_16: 1.2687 - dense_1_loss_17: 1.1334 - dense_1_loss_18: 1.2016 - dense_1_loss_19: 1.1472 - dense_1_loss_20: 1.2027 - dense_1_loss_21: 1.3079 - dense_1_loss_22: 1.2019 - dense_1_loss_23: 1.2688 - dense_1_loss_24: 1.2545 - dense_1_loss_25: 1.2136 - dense_1_loss_26: 1.1487 - dense_1_loss_27: 1.2374 - dense_1_loss_28: 1.2432 - dense_1_loss_29: 1.2466 - dense_1_loss_30: 0.0000e+00 - dense_1_acc_1: 0.0667 - dense_1_acc_2: 0.3167 - dense_1_acc_3: 0.4667 - dense_1_acc_4: 0.3333 - dense_1_acc_5: 0.4500 - dense_1_acc_6: 0.5667 - dense_1_acc_7: 0.7333 - dense_1_acc_8: 0.7000 - dense_1_acc_9: 0.7000 - dense_1_acc_10: 0.7333 - dense_1_acc_11: 0.7333 - dense_1_acc_12: 0.7167 - dense_1_acc_13: 0.7667 - dense_1_acc_14: 0.8333 - dense_1_acc_15: 0.7000 - dense_1_acc_16: 0.7000 - dense_1_acc_17: 0.7833 - dense_1_acc_18: 0.7000 - dense_1_acc_19: 0.7833 - dense_1_acc_20: 0.7500 - dense_1_acc_21: 0.6333 - dense_1_acc_22: 0.6833 - dense_1_acc_23: 0.7000 - dense_1_acc_24: 0.6833 - dense_1_acc_25: 0.6833 - dense_1_acc_26: 0.7500 - dense_1_acc_27: 0.6667 - dense_1_acc_28: 0.8167 - dense_1_acc_29: 0.7833 - dense_1_acc_30: 0.0000e+00     \n",
      "Epoch 25/100\n",
      "60/60 [==============================] - 0s - loss: 40.8481 - dense_1_loss_1: 4.0606 - dense_1_loss_2: 3.2688 - dense_1_loss_3: 2.3718 - dense_1_loss_4: 2.0266 - dense_1_loss_5: 1.7004 - dense_1_loss_6: 1.4401 - dense_1_loss_7: 1.1974 - dense_1_loss_8: 1.2805 - dense_1_loss_9: 1.2040 - dense_1_loss_10: 1.1488 - dense_1_loss_11: 1.1007 - dense_1_loss_12: 1.0869 - dense_1_loss_13: 0.9950 - dense_1_loss_14: 1.0493 - dense_1_loss_15: 1.1726 - dense_1_loss_16: 1.2163 - dense_1_loss_17: 1.0574 - dense_1_loss_18: 1.1023 - dense_1_loss_19: 1.0619 - dense_1_loss_20: 1.1156 - dense_1_loss_21: 1.2176 - dense_1_loss_22: 1.1390 - dense_1_loss_23: 1.1388 - dense_1_loss_24: 1.1310 - dense_1_loss_25: 1.1053 - dense_1_loss_26: 1.0973 - dense_1_loss_27: 1.1164 - dense_1_loss_28: 1.1258 - dense_1_loss_29: 1.1202 - dense_1_loss_30: 0.0000e+00 - dense_1_acc_1: 0.0667 - dense_1_acc_2: 0.3167 - dense_1_acc_3: 0.4667 - dense_1_acc_4: 0.3333 - dense_1_acc_5: 0.4833 - dense_1_acc_6: 0.5667 - dense_1_acc_7: 0.7667 - dense_1_acc_8: 0.7333 - dense_1_acc_9: 0.6833 - dense_1_acc_10: 0.7167 - dense_1_acc_11: 0.7833 - dense_1_acc_12: 0.7500 - dense_1_acc_13: 0.8333 - dense_1_acc_14: 0.8833 - dense_1_acc_15: 0.7000 - dense_1_acc_16: 0.7333 - dense_1_acc_17: 0.8500 - dense_1_acc_18: 0.7833 - dense_1_acc_19: 0.8333 - dense_1_acc_20: 0.8500 - dense_1_acc_21: 0.7500 - dense_1_acc_22: 0.8167 - dense_1_acc_23: 0.8500 - dense_1_acc_24: 0.8000 - dense_1_acc_25: 0.7500 - dense_1_acc_26: 0.7500 - dense_1_acc_27: 0.7667 - dense_1_acc_28: 0.8333 - dense_1_acc_29: 0.8167 - dense_1_acc_30: 0.0000e+00     \n",
      "Epoch 26/100\n"
     ]
    },
    {
     "name": "stdout",
     "output_type": "stream",
     "text": [
      "60/60 [==============================] - 0s - loss: 38.3638 - dense_1_loss_1: 4.0534 - dense_1_loss_2: 3.2144 - dense_1_loss_3: 2.2807 - dense_1_loss_4: 1.9392 - dense_1_loss_5: 1.6044 - dense_1_loss_6: 1.3394 - dense_1_loss_7: 1.1028 - dense_1_loss_8: 1.1990 - dense_1_loss_9: 1.0994 - dense_1_loss_10: 1.0618 - dense_1_loss_11: 1.0144 - dense_1_loss_12: 1.0036 - dense_1_loss_13: 0.9090 - dense_1_loss_14: 0.9479 - dense_1_loss_15: 1.0689 - dense_1_loss_16: 1.1124 - dense_1_loss_17: 0.9502 - dense_1_loss_18: 0.9991 - dense_1_loss_19: 0.9886 - dense_1_loss_20: 1.0398 - dense_1_loss_21: 1.1454 - dense_1_loss_22: 1.0148 - dense_1_loss_23: 1.0742 - dense_1_loss_24: 1.0607 - dense_1_loss_25: 1.0213 - dense_1_loss_26: 0.9978 - dense_1_loss_27: 1.0330 - dense_1_loss_28: 1.0505 - dense_1_loss_29: 1.0378 - dense_1_loss_30: 0.0000e+00 - dense_1_acc_1: 0.0667 - dense_1_acc_2: 0.3167 - dense_1_acc_3: 0.4833 - dense_1_acc_4: 0.3500 - dense_1_acc_5: 0.5500 - dense_1_acc_6: 0.6000 - dense_1_acc_7: 0.8000 - dense_1_acc_8: 0.7333 - dense_1_acc_9: 0.7833 - dense_1_acc_10: 0.8333 - dense_1_acc_11: 0.8333 - dense_1_acc_12: 0.8500 - dense_1_acc_13: 0.8833 - dense_1_acc_14: 0.9333 - dense_1_acc_15: 0.8167 - dense_1_acc_16: 0.8000 - dense_1_acc_17: 0.8833 - dense_1_acc_18: 0.8833 - dense_1_acc_19: 0.9333 - dense_1_acc_20: 0.8500 - dense_1_acc_21: 0.8000 - dense_1_acc_22: 0.9000 - dense_1_acc_23: 0.9000 - dense_1_acc_24: 0.9167 - dense_1_acc_25: 0.8500 - dense_1_acc_26: 0.8333 - dense_1_acc_27: 0.8333 - dense_1_acc_28: 0.8833 - dense_1_acc_29: 0.8833 - dense_1_acc_30: 0.0000e+00     \n",
      "Epoch 27/100\n",
      "60/60 [==============================] - 0s - loss: 36.2383 - dense_1_loss_1: 4.0454 - dense_1_loss_2: 3.1607 - dense_1_loss_3: 2.2029 - dense_1_loss_4: 1.8428 - dense_1_loss_5: 1.5243 - dense_1_loss_6: 1.2443 - dense_1_loss_7: 1.0358 - dense_1_loss_8: 1.1248 - dense_1_loss_9: 1.0034 - dense_1_loss_10: 0.9915 - dense_1_loss_11: 0.9347 - dense_1_loss_12: 0.9240 - dense_1_loss_13: 0.8363 - dense_1_loss_14: 0.8686 - dense_1_loss_15: 1.0040 - dense_1_loss_16: 1.0182 - dense_1_loss_17: 0.8928 - dense_1_loss_18: 0.9234 - dense_1_loss_19: 0.9043 - dense_1_loss_20: 0.9816 - dense_1_loss_21: 1.0610 - dense_1_loss_22: 0.9290 - dense_1_loss_23: 1.0073 - dense_1_loss_24: 0.9801 - dense_1_loss_25: 0.9641 - dense_1_loss_26: 0.9267 - dense_1_loss_27: 0.9673 - dense_1_loss_28: 0.9796 - dense_1_loss_29: 0.9597 - dense_1_loss_30: 0.0000e+00 - dense_1_acc_1: 0.0667 - dense_1_acc_2: 0.3167 - dense_1_acc_3: 0.5000 - dense_1_acc_4: 0.3667 - dense_1_acc_5: 0.5500 - dense_1_acc_6: 0.6333 - dense_1_acc_7: 0.8833 - dense_1_acc_8: 0.7500 - dense_1_acc_9: 0.7833 - dense_1_acc_10: 0.8667 - dense_1_acc_11: 0.9167 - dense_1_acc_12: 0.9000 - dense_1_acc_13: 0.9167 - dense_1_acc_14: 0.9667 - dense_1_acc_15: 0.8500 - dense_1_acc_16: 0.8833 - dense_1_acc_17: 0.9167 - dense_1_acc_18: 0.9500 - dense_1_acc_19: 0.9500 - dense_1_acc_20: 0.8833 - dense_1_acc_21: 0.8333 - dense_1_acc_22: 0.9333 - dense_1_acc_23: 0.8667 - dense_1_acc_24: 0.9333 - dense_1_acc_25: 0.8500 - dense_1_acc_26: 0.9000 - dense_1_acc_27: 0.8667 - dense_1_acc_28: 0.9000 - dense_1_acc_29: 0.9167 - dense_1_acc_30: 0.0000e+00     \n",
      "Epoch 28/100\n",
      "60/60 [==============================] - 0s - loss: 34.1338 - dense_1_loss_1: 4.0375 - dense_1_loss_2: 3.1067 - dense_1_loss_3: 2.1261 - dense_1_loss_4: 1.7468 - dense_1_loss_5: 1.4350 - dense_1_loss_6: 1.1529 - dense_1_loss_7: 0.9515 - dense_1_loss_8: 1.0325 - dense_1_loss_9: 0.9476 - dense_1_loss_10: 0.9056 - dense_1_loss_11: 0.8704 - dense_1_loss_12: 0.8366 - dense_1_loss_13: 0.7670 - dense_1_loss_14: 0.8172 - dense_1_loss_15: 0.9052 - dense_1_loss_16: 0.9588 - dense_1_loss_17: 0.8458 - dense_1_loss_18: 0.8570 - dense_1_loss_19: 0.8379 - dense_1_loss_20: 0.9130 - dense_1_loss_21: 0.9649 - dense_1_loss_22: 0.8878 - dense_1_loss_23: 0.9209 - dense_1_loss_24: 0.8956 - dense_1_loss_25: 0.8891 - dense_1_loss_26: 0.8570 - dense_1_loss_27: 0.8796 - dense_1_loss_28: 0.9070 - dense_1_loss_29: 0.8810 - dense_1_loss_30: 0.0000e+00 - dense_1_acc_1: 0.0667 - dense_1_acc_2: 0.3167 - dense_1_acc_3: 0.5000 - dense_1_acc_4: 0.4000 - dense_1_acc_5: 0.5667 - dense_1_acc_6: 0.6667 - dense_1_acc_7: 0.9167 - dense_1_acc_8: 0.7833 - dense_1_acc_9: 0.8167 - dense_1_acc_10: 0.9000 - dense_1_acc_11: 0.9500 - dense_1_acc_12: 0.9167 - dense_1_acc_13: 0.9333 - dense_1_acc_14: 0.9667 - dense_1_acc_15: 0.8833 - dense_1_acc_16: 0.8833 - dense_1_acc_17: 0.9500 - dense_1_acc_18: 0.9000 - dense_1_acc_19: 0.9500 - dense_1_acc_20: 0.8833 - dense_1_acc_21: 0.8667 - dense_1_acc_22: 0.9167 - dense_1_acc_23: 0.9167 - dense_1_acc_24: 0.9500 - dense_1_acc_25: 0.8667 - dense_1_acc_26: 0.9500 - dense_1_acc_27: 0.9500 - dense_1_acc_28: 0.8667 - dense_1_acc_29: 0.9000 - dense_1_acc_30: 0.0000e+00     \n",
      "Epoch 29/100\n",
      "60/60 [==============================] - 0s - loss: 32.0864 - dense_1_loss_1: 4.0302 - dense_1_loss_2: 3.0563 - dense_1_loss_3: 2.0518 - dense_1_loss_4: 1.6552 - dense_1_loss_5: 1.3358 - dense_1_loss_6: 1.0575 - dense_1_loss_7: 0.8749 - dense_1_loss_8: 0.9540 - dense_1_loss_9: 0.8835 - dense_1_loss_10: 0.8175 - dense_1_loss_11: 0.7946 - dense_1_loss_12: 0.7834 - dense_1_loss_13: 0.7034 - dense_1_loss_14: 0.7483 - dense_1_loss_15: 0.8361 - dense_1_loss_16: 0.8745 - dense_1_loss_17: 0.7754 - dense_1_loss_18: 0.7634 - dense_1_loss_19: 0.7753 - dense_1_loss_20: 0.8342 - dense_1_loss_21: 0.9124 - dense_1_loss_22: 0.8130 - dense_1_loss_23: 0.8455 - dense_1_loss_24: 0.8186 - dense_1_loss_25: 0.8211 - dense_1_loss_26: 0.7969 - dense_1_loss_27: 0.8240 - dense_1_loss_28: 0.8321 - dense_1_loss_29: 0.8172 - dense_1_loss_30: 0.0000e+00 - dense_1_acc_1: 0.0667 - dense_1_acc_2: 0.3333 - dense_1_acc_3: 0.5167 - dense_1_acc_4: 0.4333 - dense_1_acc_5: 0.6667 - dense_1_acc_6: 0.8000 - dense_1_acc_7: 0.9167 - dense_1_acc_8: 0.8000 - dense_1_acc_9: 0.8667 - dense_1_acc_10: 0.9167 - dense_1_acc_11: 0.9667 - dense_1_acc_12: 0.9167 - dense_1_acc_13: 0.9667 - dense_1_acc_14: 0.9667 - dense_1_acc_15: 0.8833 - dense_1_acc_16: 0.9000 - dense_1_acc_17: 0.9500 - dense_1_acc_18: 0.9500 - dense_1_acc_19: 0.9667 - dense_1_acc_20: 0.8833 - dense_1_acc_21: 0.8333 - dense_1_acc_22: 0.9333 - dense_1_acc_23: 0.9500 - dense_1_acc_24: 0.9667 - dense_1_acc_25: 0.9167 - dense_1_acc_26: 0.9667 - dense_1_acc_27: 0.9500 - dense_1_acc_28: 0.9167 - dense_1_acc_29: 0.9167 - dense_1_acc_30: 0.0000e+00     \n",
      "Epoch 30/100\n",
      "60/60 [==============================] - 0s - loss: 30.1755 - dense_1_loss_1: 4.0232 - dense_1_loss_2: 3.0020 - dense_1_loss_3: 1.9831 - dense_1_loss_4: 1.5608 - dense_1_loss_5: 1.2551 - dense_1_loss_6: 0.9753 - dense_1_loss_7: 0.8102 - dense_1_loss_8: 0.8760 - dense_1_loss_9: 0.8108 - dense_1_loss_10: 0.7435 - dense_1_loss_11: 0.7268 - dense_1_loss_12: 0.7161 - dense_1_loss_13: 0.6416 - dense_1_loss_14: 0.6870 - dense_1_loss_15: 0.7835 - dense_1_loss_16: 0.7964 - dense_1_loss_17: 0.7056 - dense_1_loss_18: 0.6969 - dense_1_loss_19: 0.7123 - dense_1_loss_20: 0.7634 - dense_1_loss_21: 0.8380 - dense_1_loss_22: 0.7442 - dense_1_loss_23: 0.7832 - dense_1_loss_24: 0.7515 - dense_1_loss_25: 0.7706 - dense_1_loss_26: 0.7263 - dense_1_loss_27: 0.7647 - dense_1_loss_28: 0.7623 - dense_1_loss_29: 0.7651 - dense_1_loss_30: 0.0000e+00 - dense_1_acc_1: 0.0667 - dense_1_acc_2: 0.3333 - dense_1_acc_3: 0.5667 - dense_1_acc_4: 0.4667 - dense_1_acc_5: 0.6667 - dense_1_acc_6: 0.8333 - dense_1_acc_7: 0.9333 - dense_1_acc_8: 0.8500 - dense_1_acc_9: 0.8500 - dense_1_acc_10: 0.9500 - dense_1_acc_11: 0.9667 - dense_1_acc_12: 0.9333 - dense_1_acc_13: 0.9667 - dense_1_acc_14: 0.9667 - dense_1_acc_15: 0.9000 - dense_1_acc_16: 0.9333 - dense_1_acc_17: 0.9667 - dense_1_acc_18: 0.9500 - dense_1_acc_19: 0.9667 - dense_1_acc_20: 0.9667 - dense_1_acc_21: 0.9333 - dense_1_acc_22: 0.9833 - dense_1_acc_23: 0.9500 - dense_1_acc_24: 0.9833 - dense_1_acc_25: 0.9333 - dense_1_acc_26: 0.9833 - dense_1_acc_27: 0.9500 - dense_1_acc_28: 0.9500 - dense_1_acc_29: 0.9500 - dense_1_acc_30: 0.0000e+00     \n",
      "Epoch 31/100\n"
     ]
    },
    {
     "name": "stdout",
     "output_type": "stream",
     "text": [
      "60/60 [==============================] - 0s - loss: 28.4195 - dense_1_loss_1: 4.0154 - dense_1_loss_2: 2.9513 - dense_1_loss_3: 1.9162 - dense_1_loss_4: 1.4724 - dense_1_loss_5: 1.1793 - dense_1_loss_6: 0.9040 - dense_1_loss_7: 0.7569 - dense_1_loss_8: 0.8092 - dense_1_loss_9: 0.7401 - dense_1_loss_10: 0.6764 - dense_1_loss_11: 0.6912 - dense_1_loss_12: 0.6595 - dense_1_loss_13: 0.5873 - dense_1_loss_14: 0.6365 - dense_1_loss_15: 0.7233 - dense_1_loss_16: 0.7198 - dense_1_loss_17: 0.6558 - dense_1_loss_18: 0.6376 - dense_1_loss_19: 0.6608 - dense_1_loss_20: 0.7087 - dense_1_loss_21: 0.7562 - dense_1_loss_22: 0.7018 - dense_1_loss_23: 0.7090 - dense_1_loss_24: 0.6863 - dense_1_loss_25: 0.7133 - dense_1_loss_26: 0.6609 - dense_1_loss_27: 0.6833 - dense_1_loss_28: 0.7113 - dense_1_loss_29: 0.6957 - dense_1_loss_30: 0.0000e+00 - dense_1_acc_1: 0.0667 - dense_1_acc_2: 0.3500 - dense_1_acc_3: 0.5833 - dense_1_acc_4: 0.5333 - dense_1_acc_5: 0.6667 - dense_1_acc_6: 0.8667 - dense_1_acc_7: 0.9500 - dense_1_acc_8: 0.8833 - dense_1_acc_9: 0.9333 - dense_1_acc_10: 0.9500 - dense_1_acc_11: 0.9667 - dense_1_acc_12: 0.9500 - dense_1_acc_13: 0.9667 - dense_1_acc_14: 0.9667 - dense_1_acc_15: 0.9167 - dense_1_acc_16: 0.9333 - dense_1_acc_17: 0.9833 - dense_1_acc_18: 0.9500 - dense_1_acc_19: 0.9667 - dense_1_acc_20: 0.9667 - dense_1_acc_21: 0.9667 - dense_1_acc_22: 0.9833 - dense_1_acc_23: 0.9500 - dense_1_acc_24: 0.9833 - dense_1_acc_25: 0.9500 - dense_1_acc_26: 0.9833 - dense_1_acc_27: 0.9667 - dense_1_acc_28: 0.9667 - dense_1_acc_29: 0.9500 - dense_1_acc_30: 0.0000e+00     \n",
      "Epoch 32/100\n",
      "60/60 [==============================] - 0s - loss: 26.7275 - dense_1_loss_1: 4.0087 - dense_1_loss_2: 2.8995 - dense_1_loss_3: 1.8496 - dense_1_loss_4: 1.3820 - dense_1_loss_5: 1.1039 - dense_1_loss_6: 0.8254 - dense_1_loss_7: 0.7066 - dense_1_loss_8: 0.7548 - dense_1_loss_9: 0.6686 - dense_1_loss_10: 0.6361 - dense_1_loss_11: 0.6187 - dense_1_loss_12: 0.6089 - dense_1_loss_13: 0.5292 - dense_1_loss_14: 0.5665 - dense_1_loss_15: 0.6740 - dense_1_loss_16: 0.6513 - dense_1_loss_17: 0.5940 - dense_1_loss_18: 0.5755 - dense_1_loss_19: 0.5947 - dense_1_loss_20: 0.6538 - dense_1_loss_21: 0.7043 - dense_1_loss_22: 0.6443 - dense_1_loss_23: 0.6476 - dense_1_loss_24: 0.6269 - dense_1_loss_25: 0.6519 - dense_1_loss_26: 0.6068 - dense_1_loss_27: 0.6192 - dense_1_loss_28: 0.6602 - dense_1_loss_29: 0.6644 - dense_1_loss_30: 0.0000e+00 - dense_1_acc_1: 0.0667 - dense_1_acc_2: 0.3500 - dense_1_acc_3: 0.6000 - dense_1_acc_4: 0.5333 - dense_1_acc_5: 0.7000 - dense_1_acc_6: 0.9167 - dense_1_acc_7: 0.9500 - dense_1_acc_8: 0.9000 - dense_1_acc_9: 0.9000 - dense_1_acc_10: 0.9500 - dense_1_acc_11: 0.9667 - dense_1_acc_12: 0.9500 - dense_1_acc_13: 0.9833 - dense_1_acc_14: 0.9667 - dense_1_acc_15: 0.9667 - dense_1_acc_16: 0.9667 - dense_1_acc_17: 0.9833 - dense_1_acc_18: 0.9833 - dense_1_acc_19: 0.9833 - dense_1_acc_20: 0.9833 - dense_1_acc_21: 0.9833 - dense_1_acc_22: 0.9833 - dense_1_acc_23: 0.9500 - dense_1_acc_24: 0.9833 - dense_1_acc_25: 0.9667 - dense_1_acc_26: 0.9833 - dense_1_acc_27: 0.9833 - dense_1_acc_28: 0.9667 - dense_1_acc_29: 0.9667 - dense_1_acc_30: 0.0000e+00     \n",
      "Epoch 33/100\n",
      "60/60 [==============================] - 0s - loss: 25.1294 - dense_1_loss_1: 4.0024 - dense_1_loss_2: 2.8452 - dense_1_loss_3: 1.7840 - dense_1_loss_4: 1.2985 - dense_1_loss_5: 1.0229 - dense_1_loss_6: 0.7554 - dense_1_loss_7: 0.6441 - dense_1_loss_8: 0.6982 - dense_1_loss_9: 0.6197 - dense_1_loss_10: 0.5715 - dense_1_loss_11: 0.5586 - dense_1_loss_12: 0.5636 - dense_1_loss_13: 0.4751 - dense_1_loss_14: 0.5307 - dense_1_loss_15: 0.6009 - dense_1_loss_16: 0.5945 - dense_1_loss_17: 0.5476 - dense_1_loss_18: 0.5340 - dense_1_loss_19: 0.5467 - dense_1_loss_20: 0.5966 - dense_1_loss_21: 0.6374 - dense_1_loss_22: 0.6035 - dense_1_loss_23: 0.5974 - dense_1_loss_24: 0.5685 - dense_1_loss_25: 0.5923 - dense_1_loss_26: 0.5667 - dense_1_loss_27: 0.5616 - dense_1_loss_28: 0.6028 - dense_1_loss_29: 0.6091 - dense_1_loss_30: 0.0000e+00 - dense_1_acc_1: 0.0667 - dense_1_acc_2: 0.3500 - dense_1_acc_3: 0.6000 - dense_1_acc_4: 0.5667 - dense_1_acc_5: 0.7167 - dense_1_acc_6: 0.9333 - dense_1_acc_7: 0.9833 - dense_1_acc_8: 0.9000 - dense_1_acc_9: 0.9667 - dense_1_acc_10: 0.9667 - dense_1_acc_11: 0.9833 - dense_1_acc_12: 0.9667 - dense_1_acc_13: 0.9833 - dense_1_acc_14: 0.9667 - dense_1_acc_15: 0.9833 - dense_1_acc_16: 0.9833 - dense_1_acc_17: 1.0000 - dense_1_acc_18: 1.0000 - dense_1_acc_19: 0.9833 - dense_1_acc_20: 0.9833 - dense_1_acc_21: 0.9833 - dense_1_acc_22: 0.9833 - dense_1_acc_23: 0.9500 - dense_1_acc_24: 1.0000 - dense_1_acc_25: 0.9833 - dense_1_acc_26: 0.9833 - dense_1_acc_27: 1.0000 - dense_1_acc_28: 0.9500 - dense_1_acc_29: 0.9667 - dense_1_acc_30: 0.0000e+00     \n",
      "Epoch 34/100\n",
      "60/60 [==============================] - 0s - loss: 23.5917 - dense_1_loss_1: 3.9955 - dense_1_loss_2: 2.7951 - dense_1_loss_3: 1.7222 - dense_1_loss_4: 1.2253 - dense_1_loss_5: 0.9565 - dense_1_loss_6: 0.6888 - dense_1_loss_7: 0.5850 - dense_1_loss_8: 0.6331 - dense_1_loss_9: 0.5684 - dense_1_loss_10: 0.5193 - dense_1_loss_11: 0.5111 - dense_1_loss_12: 0.5022 - dense_1_loss_13: 0.4355 - dense_1_loss_14: 0.4909 - dense_1_loss_15: 0.5320 - dense_1_loss_16: 0.5462 - dense_1_loss_17: 0.4947 - dense_1_loss_18: 0.4887 - dense_1_loss_19: 0.5043 - dense_1_loss_20: 0.5411 - dense_1_loss_21: 0.5718 - dense_1_loss_22: 0.5522 - dense_1_loss_23: 0.5469 - dense_1_loss_24: 0.5126 - dense_1_loss_25: 0.5406 - dense_1_loss_26: 0.5152 - dense_1_loss_27: 0.5086 - dense_1_loss_28: 0.5518 - dense_1_loss_29: 0.5560 - dense_1_loss_30: 0.0000e+00 - dense_1_acc_1: 0.0667 - dense_1_acc_2: 0.3500 - dense_1_acc_3: 0.6000 - dense_1_acc_4: 0.5833 - dense_1_acc_5: 0.7667 - dense_1_acc_6: 0.9500 - dense_1_acc_7: 0.9833 - dense_1_acc_8: 0.9333 - dense_1_acc_9: 0.9833 - dense_1_acc_10: 0.9833 - dense_1_acc_11: 1.0000 - dense_1_acc_12: 1.0000 - dense_1_acc_13: 1.0000 - dense_1_acc_14: 0.9833 - dense_1_acc_15: 1.0000 - dense_1_acc_16: 0.9833 - dense_1_acc_17: 1.0000 - dense_1_acc_18: 1.0000 - dense_1_acc_19: 0.9833 - dense_1_acc_20: 0.9833 - dense_1_acc_21: 1.0000 - dense_1_acc_22: 0.9833 - dense_1_acc_23: 0.9667 - dense_1_acc_24: 1.0000 - dense_1_acc_25: 0.9667 - dense_1_acc_26: 0.9833 - dense_1_acc_27: 1.0000 - dense_1_acc_28: 0.9500 - dense_1_acc_29: 0.9667 - dense_1_acc_30: 0.0000e+00     \n",
      "Epoch 35/100\n",
      "60/60 [==============================] - 0s - loss: 22.2296 - dense_1_loss_1: 3.9892 - dense_1_loss_2: 2.7427 - dense_1_loss_3: 1.6564 - dense_1_loss_4: 1.1433 - dense_1_loss_5: 0.8948 - dense_1_loss_6: 0.6238 - dense_1_loss_7: 0.5423 - dense_1_loss_8: 0.5750 - dense_1_loss_9: 0.5198 - dense_1_loss_10: 0.4750 - dense_1_loss_11: 0.4725 - dense_1_loss_12: 0.4533 - dense_1_loss_13: 0.4022 - dense_1_loss_14: 0.4387 - dense_1_loss_15: 0.5013 - dense_1_loss_16: 0.4868 - dense_1_loss_17: 0.4572 - dense_1_loss_18: 0.4470 - dense_1_loss_19: 0.4419 - dense_1_loss_20: 0.5038 - dense_1_loss_21: 0.5274 - dense_1_loss_22: 0.4944 - dense_1_loss_23: 0.5072 - dense_1_loss_24: 0.4707 - dense_1_loss_25: 0.4912 - dense_1_loss_26: 0.4746 - dense_1_loss_27: 0.4690 - dense_1_loss_28: 0.5092 - dense_1_loss_29: 0.5188 - dense_1_loss_30: 0.0000e+00 - dense_1_acc_1: 0.0667 - dense_1_acc_2: 0.3833 - dense_1_acc_3: 0.6000 - dense_1_acc_4: 0.6500 - dense_1_acc_5: 0.7833 - dense_1_acc_6: 0.9833 - dense_1_acc_7: 0.9833 - dense_1_acc_8: 0.9833 - dense_1_acc_9: 1.0000 - dense_1_acc_10: 0.9833 - dense_1_acc_11: 1.0000 - dense_1_acc_12: 1.0000 - dense_1_acc_13: 1.0000 - dense_1_acc_14: 0.9833 - dense_1_acc_15: 1.0000 - dense_1_acc_16: 0.9833 - dense_1_acc_17: 1.0000 - dense_1_acc_18: 1.0000 - dense_1_acc_19: 0.9833 - dense_1_acc_20: 1.0000 - dense_1_acc_21: 1.0000 - dense_1_acc_22: 0.9833 - dense_1_acc_23: 0.9667 - dense_1_acc_24: 1.0000 - dense_1_acc_25: 1.0000 - dense_1_acc_26: 0.9833 - dense_1_acc_27: 1.0000 - dense_1_acc_28: 0.9667 - dense_1_acc_29: 0.9667 - dense_1_acc_30: 0.0000e+00     \n",
      "Epoch 36/100\n"
     ]
    },
    {
     "name": "stdout",
     "output_type": "stream",
     "text": [
      "60/60 [==============================] - 0s - loss: 20.8975 - dense_1_loss_1: 3.9836 - dense_1_loss_2: 2.6923 - dense_1_loss_3: 1.5961 - dense_1_loss_4: 1.0687 - dense_1_loss_5: 0.8345 - dense_1_loss_6: 0.5583 - dense_1_loss_7: 0.4998 - dense_1_loss_8: 0.5206 - dense_1_loss_9: 0.4728 - dense_1_loss_10: 0.4311 - dense_1_loss_11: 0.4374 - dense_1_loss_12: 0.4190 - dense_1_loss_13: 0.3663 - dense_1_loss_14: 0.3900 - dense_1_loss_15: 0.4490 - dense_1_loss_16: 0.4436 - dense_1_loss_17: 0.4216 - dense_1_loss_18: 0.4044 - dense_1_loss_19: 0.4049 - dense_1_loss_20: 0.4624 - dense_1_loss_21: 0.4790 - dense_1_loss_22: 0.4538 - dense_1_loss_23: 0.4521 - dense_1_loss_24: 0.4225 - dense_1_loss_25: 0.4438 - dense_1_loss_26: 0.4348 - dense_1_loss_27: 0.4226 - dense_1_loss_28: 0.4606 - dense_1_loss_29: 0.4715 - dense_1_loss_30: 0.0000e+00 - dense_1_acc_1: 0.0667 - dense_1_acc_2: 0.3833 - dense_1_acc_3: 0.6500 - dense_1_acc_4: 0.6667 - dense_1_acc_5: 0.8000 - dense_1_acc_6: 0.9833 - dense_1_acc_7: 0.9833 - dense_1_acc_8: 0.9833 - dense_1_acc_9: 1.0000 - dense_1_acc_10: 1.0000 - dense_1_acc_11: 1.0000 - dense_1_acc_12: 1.0000 - dense_1_acc_13: 1.0000 - dense_1_acc_14: 1.0000 - dense_1_acc_15: 1.0000 - dense_1_acc_16: 1.0000 - dense_1_acc_17: 1.0000 - dense_1_acc_18: 1.0000 - dense_1_acc_19: 0.9833 - dense_1_acc_20: 1.0000 - dense_1_acc_21: 1.0000 - dense_1_acc_22: 0.9833 - dense_1_acc_23: 0.9667 - dense_1_acc_24: 1.0000 - dense_1_acc_25: 1.0000 - dense_1_acc_26: 0.9833 - dense_1_acc_27: 1.0000 - dense_1_acc_28: 0.9667 - dense_1_acc_29: 0.9667 - dense_1_acc_30: 0.0000e+00     \n",
      "Epoch 37/100\n",
      "60/60 [==============================] - 0s - loss: 19.7117 - dense_1_loss_1: 3.9775 - dense_1_loss_2: 2.6408 - dense_1_loss_3: 1.5389 - dense_1_loss_4: 0.9922 - dense_1_loss_5: 0.7764 - dense_1_loss_6: 0.5098 - dense_1_loss_7: 0.4587 - dense_1_loss_8: 0.4821 - dense_1_loss_9: 0.4344 - dense_1_loss_10: 0.3910 - dense_1_loss_11: 0.3920 - dense_1_loss_12: 0.3792 - dense_1_loss_13: 0.3315 - dense_1_loss_14: 0.3501 - dense_1_loss_15: 0.4078 - dense_1_loss_16: 0.4057 - dense_1_loss_17: 0.3703 - dense_1_loss_18: 0.3740 - dense_1_loss_19: 0.3760 - dense_1_loss_20: 0.4090 - dense_1_loss_21: 0.4419 - dense_1_loss_22: 0.4151 - dense_1_loss_23: 0.4134 - dense_1_loss_24: 0.3902 - dense_1_loss_25: 0.4082 - dense_1_loss_26: 0.4028 - dense_1_loss_27: 0.3927 - dense_1_loss_28: 0.4139 - dense_1_loss_29: 0.4363 - dense_1_loss_30: 0.0000e+00 - dense_1_acc_1: 0.0667 - dense_1_acc_2: 0.3833 - dense_1_acc_3: 0.6667 - dense_1_acc_4: 0.7333 - dense_1_acc_5: 0.8500 - dense_1_acc_6: 0.9833 - dense_1_acc_7: 0.9833 - dense_1_acc_8: 0.9833 - dense_1_acc_9: 1.0000 - dense_1_acc_10: 1.0000 - dense_1_acc_11: 1.0000 - dense_1_acc_12: 1.0000 - dense_1_acc_13: 1.0000 - dense_1_acc_14: 1.0000 - dense_1_acc_15: 1.0000 - dense_1_acc_16: 1.0000 - dense_1_acc_17: 1.0000 - dense_1_acc_18: 1.0000 - dense_1_acc_19: 1.0000 - dense_1_acc_20: 1.0000 - dense_1_acc_21: 1.0000 - dense_1_acc_22: 1.0000 - dense_1_acc_23: 1.0000 - dense_1_acc_24: 1.0000 - dense_1_acc_25: 1.0000 - dense_1_acc_26: 0.9833 - dense_1_acc_27: 1.0000 - dense_1_acc_28: 0.9667 - dense_1_acc_29: 0.9667 - dense_1_acc_30: 0.0000e+00     \n",
      "Epoch 38/100\n",
      "60/60 [==============================] - 0s - loss: 18.5721 - dense_1_loss_1: 3.9715 - dense_1_loss_2: 2.5910 - dense_1_loss_3: 1.4809 - dense_1_loss_4: 0.9280 - dense_1_loss_5: 0.7224 - dense_1_loss_6: 0.4639 - dense_1_loss_7: 0.4217 - dense_1_loss_8: 0.4397 - dense_1_loss_9: 0.3968 - dense_1_loss_10: 0.3545 - dense_1_loss_11: 0.3557 - dense_1_loss_12: 0.3396 - dense_1_loss_13: 0.3074 - dense_1_loss_14: 0.3145 - dense_1_loss_15: 0.3800 - dense_1_loss_16: 0.3651 - dense_1_loss_17: 0.3351 - dense_1_loss_18: 0.3377 - dense_1_loss_19: 0.3328 - dense_1_loss_20: 0.3741 - dense_1_loss_21: 0.4027 - dense_1_loss_22: 0.3710 - dense_1_loss_23: 0.3783 - dense_1_loss_24: 0.3459 - dense_1_loss_25: 0.3618 - dense_1_loss_26: 0.3660 - dense_1_loss_27: 0.3580 - dense_1_loss_28: 0.3769 - dense_1_loss_29: 0.3993 - dense_1_loss_30: 0.0000e+00 - dense_1_acc_1: 0.0667 - dense_1_acc_2: 0.3833 - dense_1_acc_3: 0.6667 - dense_1_acc_4: 0.8500 - dense_1_acc_5: 0.8667 - dense_1_acc_6: 0.9833 - dense_1_acc_7: 0.9833 - dense_1_acc_8: 0.9833 - dense_1_acc_9: 1.0000 - dense_1_acc_10: 1.0000 - dense_1_acc_11: 1.0000 - dense_1_acc_12: 1.0000 - dense_1_acc_13: 1.0000 - dense_1_acc_14: 1.0000 - dense_1_acc_15: 1.0000 - dense_1_acc_16: 1.0000 - dense_1_acc_17: 1.0000 - dense_1_acc_18: 1.0000 - dense_1_acc_19: 1.0000 - dense_1_acc_20: 1.0000 - dense_1_acc_21: 1.0000 - dense_1_acc_22: 1.0000 - dense_1_acc_23: 1.0000 - dense_1_acc_24: 1.0000 - dense_1_acc_25: 1.0000 - dense_1_acc_26: 0.9833 - dense_1_acc_27: 1.0000 - dense_1_acc_28: 0.9833 - dense_1_acc_29: 0.9667 - dense_1_acc_30: 0.0000e+00     \n",
      "Epoch 39/100\n",
      "60/60 [==============================] - 0s - loss: 17.5386 - dense_1_loss_1: 3.9660 - dense_1_loss_2: 2.5411 - dense_1_loss_3: 1.4256 - dense_1_loss_4: 0.8661 - dense_1_loss_5: 0.6679 - dense_1_loss_6: 0.4234 - dense_1_loss_7: 0.3914 - dense_1_loss_8: 0.3924 - dense_1_loss_9: 0.3634 - dense_1_loss_10: 0.3192 - dense_1_loss_11: 0.3296 - dense_1_loss_12: 0.3142 - dense_1_loss_13: 0.2725 - dense_1_loss_14: 0.2865 - dense_1_loss_15: 0.3353 - dense_1_loss_16: 0.3345 - dense_1_loss_17: 0.3049 - dense_1_loss_18: 0.3077 - dense_1_loss_19: 0.3048 - dense_1_loss_20: 0.3425 - dense_1_loss_21: 0.3600 - dense_1_loss_22: 0.3436 - dense_1_loss_23: 0.3364 - dense_1_loss_24: 0.3141 - dense_1_loss_25: 0.3350 - dense_1_loss_26: 0.3285 - dense_1_loss_27: 0.3242 - dense_1_loss_28: 0.3438 - dense_1_loss_29: 0.3638 - dense_1_loss_30: 0.0000e+00 - dense_1_acc_1: 0.0667 - dense_1_acc_2: 0.3833 - dense_1_acc_3: 0.6833 - dense_1_acc_4: 0.8500 - dense_1_acc_5: 0.9167 - dense_1_acc_6: 0.9833 - dense_1_acc_7: 0.9833 - dense_1_acc_8: 0.9833 - dense_1_acc_9: 1.0000 - dense_1_acc_10: 1.0000 - dense_1_acc_11: 1.0000 - dense_1_acc_12: 1.0000 - dense_1_acc_13: 1.0000 - dense_1_acc_14: 1.0000 - dense_1_acc_15: 1.0000 - dense_1_acc_16: 1.0000 - dense_1_acc_17: 1.0000 - dense_1_acc_18: 1.0000 - dense_1_acc_19: 1.0000 - dense_1_acc_20: 1.0000 - dense_1_acc_21: 1.0000 - dense_1_acc_22: 1.0000 - dense_1_acc_23: 1.0000 - dense_1_acc_24: 1.0000 - dense_1_acc_25: 1.0000 - dense_1_acc_26: 0.9833 - dense_1_acc_27: 1.0000 - dense_1_acc_28: 0.9833 - dense_1_acc_29: 0.9833 - dense_1_acc_30: 0.0000e+00     \n",
      "Epoch 40/100\n",
      "60/60 [==============================] - 0s - loss: 16.6053 - dense_1_loss_1: 3.9602 - dense_1_loss_2: 2.4922 - dense_1_loss_3: 1.3753 - dense_1_loss_4: 0.8008 - dense_1_loss_5: 0.6186 - dense_1_loss_6: 0.3885 - dense_1_loss_7: 0.3582 - dense_1_loss_8: 0.3529 - dense_1_loss_9: 0.3297 - dense_1_loss_10: 0.2839 - dense_1_loss_11: 0.3007 - dense_1_loss_12: 0.2845 - dense_1_loss_13: 0.2484 - dense_1_loss_14: 0.2618 - dense_1_loss_15: 0.3023 - dense_1_loss_16: 0.3057 - dense_1_loss_17: 0.2735 - dense_1_loss_18: 0.2767 - dense_1_loss_19: 0.2756 - dense_1_loss_20: 0.3126 - dense_1_loss_21: 0.3335 - dense_1_loss_22: 0.3135 - dense_1_loss_23: 0.3104 - dense_1_loss_24: 0.2853 - dense_1_loss_25: 0.3046 - dense_1_loss_26: 0.3003 - dense_1_loss_27: 0.2962 - dense_1_loss_28: 0.3200 - dense_1_loss_29: 0.3398 - dense_1_loss_30: 0.0000e+00 - dense_1_acc_1: 0.0667 - dense_1_acc_2: 0.4000 - dense_1_acc_3: 0.7167 - dense_1_acc_4: 0.8667 - dense_1_acc_5: 0.9333 - dense_1_acc_6: 0.9833 - dense_1_acc_7: 0.9833 - dense_1_acc_8: 0.9833 - dense_1_acc_9: 1.0000 - dense_1_acc_10: 1.0000 - dense_1_acc_11: 1.0000 - dense_1_acc_12: 1.0000 - dense_1_acc_13: 1.0000 - dense_1_acc_14: 1.0000 - dense_1_acc_15: 1.0000 - dense_1_acc_16: 1.0000 - dense_1_acc_17: 1.0000 - dense_1_acc_18: 1.0000 - dense_1_acc_19: 1.0000 - dense_1_acc_20: 1.0000 - dense_1_acc_21: 1.0000 - dense_1_acc_22: 1.0000 - dense_1_acc_23: 1.0000 - dense_1_acc_24: 1.0000 - dense_1_acc_25: 1.0000 - dense_1_acc_26: 0.9833 - dense_1_acc_27: 1.0000 - dense_1_acc_28: 0.9833 - dense_1_acc_29: 0.9667 - dense_1_acc_30: 0.0000e+00     \n",
      "Epoch 41/100\n"
     ]
    },
    {
     "name": "stdout",
     "output_type": "stream",
     "text": [
      "60/60 [==============================] - 0s - loss: 15.7439 - dense_1_loss_1: 3.9552 - dense_1_loss_2: 2.4433 - dense_1_loss_3: 1.3231 - dense_1_loss_4: 0.7424 - dense_1_loss_5: 0.5734 - dense_1_loss_6: 0.3583 - dense_1_loss_7: 0.3320 - dense_1_loss_8: 0.3221 - dense_1_loss_9: 0.3014 - dense_1_loss_10: 0.2603 - dense_1_loss_11: 0.2733 - dense_1_loss_12: 0.2567 - dense_1_loss_13: 0.2323 - dense_1_loss_14: 0.2328 - dense_1_loss_15: 0.2790 - dense_1_loss_16: 0.2727 - dense_1_loss_17: 0.2517 - dense_1_loss_18: 0.2488 - dense_1_loss_19: 0.2513 - dense_1_loss_20: 0.2891 - dense_1_loss_21: 0.3042 - dense_1_loss_22: 0.2827 - dense_1_loss_23: 0.2834 - dense_1_loss_24: 0.2545 - dense_1_loss_25: 0.2728 - dense_1_loss_26: 0.2781 - dense_1_loss_27: 0.2630 - dense_1_loss_28: 0.2961 - dense_1_loss_29: 0.3099 - dense_1_loss_30: 0.0000e+00 - dense_1_acc_1: 0.0667 - dense_1_acc_2: 0.4333 - dense_1_acc_3: 0.7333 - dense_1_acc_4: 0.9000 - dense_1_acc_5: 0.9500 - dense_1_acc_6: 0.9833 - dense_1_acc_7: 0.9833 - dense_1_acc_8: 0.9833 - dense_1_acc_9: 1.0000 - dense_1_acc_10: 1.0000 - dense_1_acc_11: 1.0000 - dense_1_acc_12: 1.0000 - dense_1_acc_13: 1.0000 - dense_1_acc_14: 1.0000 - dense_1_acc_15: 1.0000 - dense_1_acc_16: 1.0000 - dense_1_acc_17: 1.0000 - dense_1_acc_18: 1.0000 - dense_1_acc_19: 1.0000 - dense_1_acc_20: 1.0000 - dense_1_acc_21: 1.0000 - dense_1_acc_22: 1.0000 - dense_1_acc_23: 1.0000 - dense_1_acc_24: 1.0000 - dense_1_acc_25: 1.0000 - dense_1_acc_26: 0.9833 - dense_1_acc_27: 1.0000 - dense_1_acc_28: 0.9833 - dense_1_acc_29: 0.9667 - dense_1_acc_30: 0.0000e+00     \n",
      "Epoch 42/100\n",
      "60/60 [==============================] - 0s - loss: 14.9484 - dense_1_loss_1: 3.9496 - dense_1_loss_2: 2.3988 - dense_1_loss_3: 1.2730 - dense_1_loss_4: 0.6877 - dense_1_loss_5: 0.5334 - dense_1_loss_6: 0.3273 - dense_1_loss_7: 0.3073 - dense_1_loss_8: 0.2964 - dense_1_loss_9: 0.2750 - dense_1_loss_10: 0.2370 - dense_1_loss_11: 0.2460 - dense_1_loss_12: 0.2351 - dense_1_loss_13: 0.2094 - dense_1_loss_14: 0.2138 - dense_1_loss_15: 0.2521 - dense_1_loss_16: 0.2473 - dense_1_loss_17: 0.2311 - dense_1_loss_18: 0.2200 - dense_1_loss_19: 0.2322 - dense_1_loss_20: 0.2611 - dense_1_loss_21: 0.2783 - dense_1_loss_22: 0.2575 - dense_1_loss_23: 0.2541 - dense_1_loss_24: 0.2305 - dense_1_loss_25: 0.2508 - dense_1_loss_26: 0.2492 - dense_1_loss_27: 0.2388 - dense_1_loss_28: 0.2706 - dense_1_loss_29: 0.2852 - dense_1_loss_30: 0.0000e+00 - dense_1_acc_1: 0.0667 - dense_1_acc_2: 0.4333 - dense_1_acc_3: 0.7167 - dense_1_acc_4: 0.9000 - dense_1_acc_5: 0.9500 - dense_1_acc_6: 0.9833 - dense_1_acc_7: 0.9833 - dense_1_acc_8: 0.9833 - dense_1_acc_9: 1.0000 - dense_1_acc_10: 1.0000 - dense_1_acc_11: 1.0000 - dense_1_acc_12: 1.0000 - dense_1_acc_13: 1.0000 - dense_1_acc_14: 1.0000 - dense_1_acc_15: 1.0000 - dense_1_acc_16: 1.0000 - dense_1_acc_17: 1.0000 - dense_1_acc_18: 1.0000 - dense_1_acc_19: 1.0000 - dense_1_acc_20: 1.0000 - dense_1_acc_21: 1.0000 - dense_1_acc_22: 1.0000 - dense_1_acc_23: 1.0000 - dense_1_acc_24: 1.0000 - dense_1_acc_25: 1.0000 - dense_1_acc_26: 1.0000 - dense_1_acc_27: 1.0000 - dense_1_acc_28: 0.9833 - dense_1_acc_29: 0.9833 - dense_1_acc_30: 0.0000e+00     \n",
      "Epoch 43/100\n",
      "60/60 [==============================] - 0s - loss: 14.2757 - dense_1_loss_1: 3.9449 - dense_1_loss_2: 2.3519 - dense_1_loss_3: 1.2267 - dense_1_loss_4: 0.6401 - dense_1_loss_5: 0.4936 - dense_1_loss_6: 0.3031 - dense_1_loss_7: 0.2838 - dense_1_loss_8: 0.2685 - dense_1_loss_9: 0.2495 - dense_1_loss_10: 0.2122 - dense_1_loss_11: 0.2280 - dense_1_loss_12: 0.2165 - dense_1_loss_13: 0.1898 - dense_1_loss_14: 0.2001 - dense_1_loss_15: 0.2265 - dense_1_loss_16: 0.2296 - dense_1_loss_17: 0.2082 - dense_1_loss_18: 0.2056 - dense_1_loss_19: 0.2157 - dense_1_loss_20: 0.2406 - dense_1_loss_21: 0.2564 - dense_1_loss_22: 0.2376 - dense_1_loss_23: 0.2353 - dense_1_loss_24: 0.2129 - dense_1_loss_25: 0.2292 - dense_1_loss_26: 0.2290 - dense_1_loss_27: 0.2268 - dense_1_loss_28: 0.2484 - dense_1_loss_29: 0.2652 - dense_1_loss_30: 0.0000e+00 - dense_1_acc_1: 0.0667 - dense_1_acc_2: 0.4333 - dense_1_acc_3: 0.7167 - dense_1_acc_4: 0.9000 - dense_1_acc_5: 0.9500 - dense_1_acc_6: 0.9833 - dense_1_acc_7: 0.9833 - dense_1_acc_8: 0.9833 - dense_1_acc_9: 1.0000 - dense_1_acc_10: 1.0000 - dense_1_acc_11: 1.0000 - dense_1_acc_12: 1.0000 - dense_1_acc_13: 1.0000 - dense_1_acc_14: 1.0000 - dense_1_acc_15: 1.0000 - dense_1_acc_16: 1.0000 - dense_1_acc_17: 1.0000 - dense_1_acc_18: 1.0000 - dense_1_acc_19: 1.0000 - dense_1_acc_20: 1.0000 - dense_1_acc_21: 1.0000 - dense_1_acc_22: 1.0000 - dense_1_acc_23: 1.0000 - dense_1_acc_24: 1.0000 - dense_1_acc_25: 1.0000 - dense_1_acc_26: 1.0000 - dense_1_acc_27: 1.0000 - dense_1_acc_28: 0.9833 - dense_1_acc_29: 0.9833 - dense_1_acc_30: 0.0000e+00     \n",
      "Epoch 44/100\n",
      "60/60 [==============================] - 0s - loss: 13.6216 - dense_1_loss_1: 3.9399 - dense_1_loss_2: 2.3086 - dense_1_loss_3: 1.1847 - dense_1_loss_4: 0.5975 - dense_1_loss_5: 0.4575 - dense_1_loss_6: 0.2815 - dense_1_loss_7: 0.2652 - dense_1_loss_8: 0.2466 - dense_1_loss_9: 0.2299 - dense_1_loss_10: 0.1936 - dense_1_loss_11: 0.2122 - dense_1_loss_12: 0.1963 - dense_1_loss_13: 0.1742 - dense_1_loss_14: 0.1823 - dense_1_loss_15: 0.2072 - dense_1_loss_16: 0.2068 - dense_1_loss_17: 0.1911 - dense_1_loss_18: 0.1851 - dense_1_loss_19: 0.1956 - dense_1_loss_20: 0.2191 - dense_1_loss_21: 0.2333 - dense_1_loss_22: 0.2175 - dense_1_loss_23: 0.2109 - dense_1_loss_24: 0.1909 - dense_1_loss_25: 0.2088 - dense_1_loss_26: 0.2103 - dense_1_loss_27: 0.2049 - dense_1_loss_28: 0.2260 - dense_1_loss_29: 0.2443 - dense_1_loss_30: 0.0000e+00 - dense_1_acc_1: 0.0667 - dense_1_acc_2: 0.4333 - dense_1_acc_3: 0.7167 - dense_1_acc_4: 0.9167 - dense_1_acc_5: 0.9500 - dense_1_acc_6: 0.9833 - dense_1_acc_7: 0.9833 - dense_1_acc_8: 0.9833 - dense_1_acc_9: 1.0000 - dense_1_acc_10: 1.0000 - dense_1_acc_11: 1.0000 - dense_1_acc_12: 1.0000 - dense_1_acc_13: 1.0000 - dense_1_acc_14: 1.0000 - dense_1_acc_15: 1.0000 - dense_1_acc_16: 1.0000 - dense_1_acc_17: 1.0000 - dense_1_acc_18: 1.0000 - dense_1_acc_19: 1.0000 - dense_1_acc_20: 1.0000 - dense_1_acc_21: 1.0000 - dense_1_acc_22: 1.0000 - dense_1_acc_23: 1.0000 - dense_1_acc_24: 1.0000 - dense_1_acc_25: 1.0000 - dense_1_acc_26: 1.0000 - dense_1_acc_27: 1.0000 - dense_1_acc_28: 0.9833 - dense_1_acc_29: 0.9833 - dense_1_acc_30: 0.0000e+00     \n",
      "Epoch 45/100\n",
      "60/60 [==============================] - 0s - loss: 13.0282 - dense_1_loss_1: 3.9359 - dense_1_loss_2: 2.2665 - dense_1_loss_3: 1.1398 - dense_1_loss_4: 0.5566 - dense_1_loss_5: 0.4213 - dense_1_loss_6: 0.2576 - dense_1_loss_7: 0.2436 - dense_1_loss_8: 0.2262 - dense_1_loss_9: 0.2102 - dense_1_loss_10: 0.1772 - dense_1_loss_11: 0.1933 - dense_1_loss_12: 0.1823 - dense_1_loss_13: 0.1598 - dense_1_loss_14: 0.1642 - dense_1_loss_15: 0.1933 - dense_1_loss_16: 0.1852 - dense_1_loss_17: 0.1784 - dense_1_loss_18: 0.1694 - dense_1_loss_19: 0.1807 - dense_1_loss_20: 0.1990 - dense_1_loss_21: 0.2150 - dense_1_loss_22: 0.2006 - dense_1_loss_23: 0.1923 - dense_1_loss_24: 0.1754 - dense_1_loss_25: 0.1926 - dense_1_loss_26: 0.1937 - dense_1_loss_27: 0.1843 - dense_1_loss_28: 0.2083 - dense_1_loss_29: 0.2254 - dense_1_loss_30: 0.0000e+00 - dense_1_acc_1: 0.0667 - dense_1_acc_2: 0.4167 - dense_1_acc_3: 0.7167 - dense_1_acc_4: 0.9333 - dense_1_acc_5: 0.9667 - dense_1_acc_6: 0.9833 - dense_1_acc_7: 0.9833 - dense_1_acc_8: 0.9833 - dense_1_acc_9: 1.0000 - dense_1_acc_10: 1.0000 - dense_1_acc_11: 1.0000 - dense_1_acc_12: 1.0000 - dense_1_acc_13: 1.0000 - dense_1_acc_14: 1.0000 - dense_1_acc_15: 1.0000 - dense_1_acc_16: 1.0000 - dense_1_acc_17: 1.0000 - dense_1_acc_18: 1.0000 - dense_1_acc_19: 1.0000 - dense_1_acc_20: 1.0000 - dense_1_acc_21: 1.0000 - dense_1_acc_22: 1.0000 - dense_1_acc_23: 1.0000 - dense_1_acc_24: 1.0000 - dense_1_acc_25: 1.0000 - dense_1_acc_26: 1.0000 - dense_1_acc_27: 1.0000 - dense_1_acc_28: 0.9833 - dense_1_acc_29: 0.9833 - dense_1_acc_30: 0.0000e+00     \n",
      "Epoch 46/100\n"
     ]
    },
    {
     "name": "stdout",
     "output_type": "stream",
     "text": [
      "60/60 [==============================] - 0s - loss: 12.4999 - dense_1_loss_1: 3.9310 - dense_1_loss_2: 2.2241 - dense_1_loss_3: 1.1009 - dense_1_loss_4: 0.5185 - dense_1_loss_5: 0.3931 - dense_1_loss_6: 0.2418 - dense_1_loss_7: 0.2236 - dense_1_loss_8: 0.2079 - dense_1_loss_9: 0.1921 - dense_1_loss_10: 0.1618 - dense_1_loss_11: 0.1773 - dense_1_loss_12: 0.1670 - dense_1_loss_13: 0.1442 - dense_1_loss_14: 0.1511 - dense_1_loss_15: 0.1743 - dense_1_loss_16: 0.1688 - dense_1_loss_17: 0.1603 - dense_1_loss_18: 0.1565 - dense_1_loss_19: 0.1691 - dense_1_loss_20: 0.1800 - dense_1_loss_21: 0.1982 - dense_1_loss_22: 0.1816 - dense_1_loss_23: 0.1796 - dense_1_loss_24: 0.1650 - dense_1_loss_25: 0.1761 - dense_1_loss_26: 0.1801 - dense_1_loss_27: 0.1736 - dense_1_loss_28: 0.1934 - dense_1_loss_29: 0.2088 - dense_1_loss_30: 0.0000e+00 - dense_1_acc_1: 0.0667 - dense_1_acc_2: 0.4167 - dense_1_acc_3: 0.7500 - dense_1_acc_4: 0.9500 - dense_1_acc_5: 0.9667 - dense_1_acc_6: 0.9833 - dense_1_acc_7: 0.9833 - dense_1_acc_8: 0.9833 - dense_1_acc_9: 1.0000 - dense_1_acc_10: 1.0000 - dense_1_acc_11: 1.0000 - dense_1_acc_12: 1.0000 - dense_1_acc_13: 1.0000 - dense_1_acc_14: 1.0000 - dense_1_acc_15: 1.0000 - dense_1_acc_16: 1.0000 - dense_1_acc_17: 1.0000 - dense_1_acc_18: 1.0000 - dense_1_acc_19: 1.0000 - dense_1_acc_20: 1.0000 - dense_1_acc_21: 1.0000 - dense_1_acc_22: 1.0000 - dense_1_acc_23: 1.0000 - dense_1_acc_24: 1.0000 - dense_1_acc_25: 1.0000 - dense_1_acc_26: 1.0000 - dense_1_acc_27: 1.0000 - dense_1_acc_28: 0.9833 - dense_1_acc_29: 1.0000 - dense_1_acc_30: 0.0000e+00     \n",
      "Epoch 47/100\n",
      "60/60 [==============================] - 0s - loss: 12.0173 - dense_1_loss_1: 3.9265 - dense_1_loss_2: 2.1833 - dense_1_loss_3: 1.0660 - dense_1_loss_4: 0.4863 - dense_1_loss_5: 0.3630 - dense_1_loss_6: 0.2268 - dense_1_loss_7: 0.2075 - dense_1_loss_8: 0.1923 - dense_1_loss_9: 0.1789 - dense_1_loss_10: 0.1473 - dense_1_loss_11: 0.1650 - dense_1_loss_12: 0.1532 - dense_1_loss_13: 0.1307 - dense_1_loss_14: 0.1426 - dense_1_loss_15: 0.1573 - dense_1_loss_16: 0.1582 - dense_1_loss_17: 0.1476 - dense_1_loss_18: 0.1434 - dense_1_loss_19: 0.1536 - dense_1_loss_20: 0.1686 - dense_1_loss_21: 0.1802 - dense_1_loss_22: 0.1678 - dense_1_loss_23: 0.1624 - dense_1_loss_24: 0.1514 - dense_1_loss_25: 0.1607 - dense_1_loss_26: 0.1653 - dense_1_loss_27: 0.1599 - dense_1_loss_28: 0.1787 - dense_1_loss_29: 0.1927 - dense_1_loss_30: 0.0000e+00 - dense_1_acc_1: 0.0667 - dense_1_acc_2: 0.4167 - dense_1_acc_3: 0.7500 - dense_1_acc_4: 0.9500 - dense_1_acc_5: 0.9667 - dense_1_acc_6: 0.9833 - dense_1_acc_7: 0.9833 - dense_1_acc_8: 0.9833 - dense_1_acc_9: 1.0000 - dense_1_acc_10: 1.0000 - dense_1_acc_11: 1.0000 - dense_1_acc_12: 1.0000 - dense_1_acc_13: 1.0000 - dense_1_acc_14: 1.0000 - dense_1_acc_15: 1.0000 - dense_1_acc_16: 1.0000 - dense_1_acc_17: 1.0000 - dense_1_acc_18: 1.0000 - dense_1_acc_19: 1.0000 - dense_1_acc_20: 1.0000 - dense_1_acc_21: 1.0000 - dense_1_acc_22: 1.0000 - dense_1_acc_23: 1.0000 - dense_1_acc_24: 1.0000 - dense_1_acc_25: 1.0000 - dense_1_acc_26: 1.0000 - dense_1_acc_27: 1.0000 - dense_1_acc_28: 1.0000 - dense_1_acc_29: 1.0000 - dense_1_acc_30: 0.0000e+00     \n",
      "Epoch 48/100\n",
      "60/60 [==============================] - 0s - loss: 11.5777 - dense_1_loss_1: 3.9223 - dense_1_loss_2: 2.1430 - dense_1_loss_3: 1.0314 - dense_1_loss_4: 0.4548 - dense_1_loss_5: 0.3397 - dense_1_loss_6: 0.2104 - dense_1_loss_7: 0.1954 - dense_1_loss_8: 0.1798 - dense_1_loss_9: 0.1653 - dense_1_loss_10: 0.1373 - dense_1_loss_11: 0.1504 - dense_1_loss_12: 0.1420 - dense_1_loss_13: 0.1221 - dense_1_loss_14: 0.1307 - dense_1_loss_15: 0.1470 - dense_1_loss_16: 0.1461 - dense_1_loss_17: 0.1359 - dense_1_loss_18: 0.1327 - dense_1_loss_19: 0.1372 - dense_1_loss_20: 0.1593 - dense_1_loss_21: 0.1663 - dense_1_loss_22: 0.1570 - dense_1_loss_23: 0.1462 - dense_1_loss_24: 0.1361 - dense_1_loss_25: 0.1493 - dense_1_loss_26: 0.1520 - dense_1_loss_27: 0.1433 - dense_1_loss_28: 0.1660 - dense_1_loss_29: 0.1790 - dense_1_loss_30: 0.0000e+00 - dense_1_acc_1: 0.0667 - dense_1_acc_2: 0.4167 - dense_1_acc_3: 0.7500 - dense_1_acc_4: 0.9500 - dense_1_acc_5: 0.9667 - dense_1_acc_6: 0.9833 - dense_1_acc_7: 0.9833 - dense_1_acc_8: 1.0000 - dense_1_acc_9: 1.0000 - dense_1_acc_10: 1.0000 - dense_1_acc_11: 1.0000 - dense_1_acc_12: 1.0000 - dense_1_acc_13: 1.0000 - dense_1_acc_14: 1.0000 - dense_1_acc_15: 1.0000 - dense_1_acc_16: 1.0000 - dense_1_acc_17: 1.0000 - dense_1_acc_18: 1.0000 - dense_1_acc_19: 1.0000 - dense_1_acc_20: 1.0000 - dense_1_acc_21: 1.0000 - dense_1_acc_22: 1.0000 - dense_1_acc_23: 1.0000 - dense_1_acc_24: 1.0000 - dense_1_acc_25: 1.0000 - dense_1_acc_26: 1.0000 - dense_1_acc_27: 1.0000 - dense_1_acc_28: 1.0000 - dense_1_acc_29: 1.0000 - dense_1_acc_30: 0.0000e+00     \n",
      "Epoch 49/100\n",
      "60/60 [==============================] - 0s - loss: 11.1774 - dense_1_loss_1: 3.9181 - dense_1_loss_2: 2.1046 - dense_1_loss_3: 0.9954 - dense_1_loss_4: 0.4295 - dense_1_loss_5: 0.3174 - dense_1_loss_6: 0.1964 - dense_1_loss_7: 0.1832 - dense_1_loss_8: 0.1694 - dense_1_loss_9: 0.1510 - dense_1_loss_10: 0.1274 - dense_1_loss_11: 0.1378 - dense_1_loss_12: 0.1318 - dense_1_loss_13: 0.1148 - dense_1_loss_14: 0.1196 - dense_1_loss_15: 0.1370 - dense_1_loss_16: 0.1338 - dense_1_loss_17: 0.1255 - dense_1_loss_18: 0.1234 - dense_1_loss_19: 0.1286 - dense_1_loss_20: 0.1458 - dense_1_loss_21: 0.1539 - dense_1_loss_22: 0.1423 - dense_1_loss_23: 0.1367 - dense_1_loss_24: 0.1267 - dense_1_loss_25: 0.1358 - dense_1_loss_26: 0.1399 - dense_1_loss_27: 0.1339 - dense_1_loss_28: 0.1533 - dense_1_loss_29: 0.1643 - dense_1_loss_30: 0.0000e+00 - dense_1_acc_1: 0.0667 - dense_1_acc_2: 0.4333 - dense_1_acc_3: 0.7500 - dense_1_acc_4: 0.9500 - dense_1_acc_5: 0.9667 - dense_1_acc_6: 0.9833 - dense_1_acc_7: 0.9833 - dense_1_acc_8: 1.0000 - dense_1_acc_9: 1.0000 - dense_1_acc_10: 1.0000 - dense_1_acc_11: 1.0000 - dense_1_acc_12: 1.0000 - dense_1_acc_13: 1.0000 - dense_1_acc_14: 1.0000 - dense_1_acc_15: 1.0000 - dense_1_acc_16: 1.0000 - dense_1_acc_17: 1.0000 - dense_1_acc_18: 1.0000 - dense_1_acc_19: 1.0000 - dense_1_acc_20: 1.0000 - dense_1_acc_21: 1.0000 - dense_1_acc_22: 1.0000 - dense_1_acc_23: 1.0000 - dense_1_acc_24: 1.0000 - dense_1_acc_25: 1.0000 - dense_1_acc_26: 1.0000 - dense_1_acc_27: 1.0000 - dense_1_acc_28: 1.0000 - dense_1_acc_29: 1.0000 - dense_1_acc_30: 0.0000e+00     \n",
      "Epoch 50/100\n",
      "60/60 [==============================] - 0s - loss: 10.8116 - dense_1_loss_1: 3.9138 - dense_1_loss_2: 2.0674 - dense_1_loss_3: 0.9634 - dense_1_loss_4: 0.4027 - dense_1_loss_5: 0.2956 - dense_1_loss_6: 0.1839 - dense_1_loss_7: 0.1689 - dense_1_loss_8: 0.1558 - dense_1_loss_9: 0.1386 - dense_1_loss_10: 0.1168 - dense_1_loss_11: 0.1269 - dense_1_loss_12: 0.1221 - dense_1_loss_13: 0.1062 - dense_1_loss_14: 0.1113 - dense_1_loss_15: 0.1257 - dense_1_loss_16: 0.1239 - dense_1_loss_17: 0.1158 - dense_1_loss_18: 0.1151 - dense_1_loss_19: 0.1223 - dense_1_loss_20: 0.1330 - dense_1_loss_21: 0.1422 - dense_1_loss_22: 0.1325 - dense_1_loss_23: 0.1291 - dense_1_loss_24: 0.1196 - dense_1_loss_25: 0.1252 - dense_1_loss_26: 0.1300 - dense_1_loss_27: 0.1275 - dense_1_loss_28: 0.1437 - dense_1_loss_29: 0.1526 - dense_1_loss_30: 0.0000e+00 - dense_1_acc_1: 0.0667 - dense_1_acc_2: 0.4333 - dense_1_acc_3: 0.7833 - dense_1_acc_4: 0.9500 - dense_1_acc_5: 0.9667 - dense_1_acc_6: 0.9833 - dense_1_acc_7: 0.9833 - dense_1_acc_8: 1.0000 - dense_1_acc_9: 1.0000 - dense_1_acc_10: 1.0000 - dense_1_acc_11: 1.0000 - dense_1_acc_12: 1.0000 - dense_1_acc_13: 1.0000 - dense_1_acc_14: 1.0000 - dense_1_acc_15: 1.0000 - dense_1_acc_16: 1.0000 - dense_1_acc_17: 1.0000 - dense_1_acc_18: 1.0000 - dense_1_acc_19: 1.0000 - dense_1_acc_20: 1.0000 - dense_1_acc_21: 1.0000 - dense_1_acc_22: 1.0000 - dense_1_acc_23: 1.0000 - dense_1_acc_24: 1.0000 - dense_1_acc_25: 1.0000 - dense_1_acc_26: 1.0000 - dense_1_acc_27: 1.0000 - dense_1_acc_28: 1.0000 - dense_1_acc_29: 1.0000 - dense_1_acc_30: 0.0000e+00     \n",
      "Epoch 51/100\n"
     ]
    },
    {
     "name": "stdout",
     "output_type": "stream",
     "text": [
      "60/60 [==============================] - 0s - loss: 10.4812 - dense_1_loss_1: 3.9097 - dense_1_loss_2: 2.0310 - dense_1_loss_3: 0.9341 - dense_1_loss_4: 0.3792 - dense_1_loss_5: 0.2767 - dense_1_loss_6: 0.1727 - dense_1_loss_7: 0.1581 - dense_1_loss_8: 0.1428 - dense_1_loss_9: 0.1312 - dense_1_loss_10: 0.1077 - dense_1_loss_11: 0.1199 - dense_1_loss_12: 0.1137 - dense_1_loss_13: 0.0986 - dense_1_loss_14: 0.1049 - dense_1_loss_15: 0.1145 - dense_1_loss_16: 0.1160 - dense_1_loss_17: 0.1083 - dense_1_loss_18: 0.1072 - dense_1_loss_19: 0.1154 - dense_1_loss_20: 0.1239 - dense_1_loss_21: 0.1314 - dense_1_loss_22: 0.1255 - dense_1_loss_23: 0.1181 - dense_1_loss_24: 0.1102 - dense_1_loss_25: 0.1175 - dense_1_loss_26: 0.1212 - dense_1_loss_27: 0.1177 - dense_1_loss_28: 0.1324 - dense_1_loss_29: 0.1418 - dense_1_loss_30: 0.0000e+00 - dense_1_acc_1: 0.0667 - dense_1_acc_2: 0.4333 - dense_1_acc_3: 0.8167 - dense_1_acc_4: 0.9500 - dense_1_acc_5: 0.9667 - dense_1_acc_6: 0.9833 - dense_1_acc_7: 0.9833 - dense_1_acc_8: 1.0000 - dense_1_acc_9: 1.0000 - dense_1_acc_10: 1.0000 - dense_1_acc_11: 1.0000 - dense_1_acc_12: 1.0000 - dense_1_acc_13: 1.0000 - dense_1_acc_14: 1.0000 - dense_1_acc_15: 1.0000 - dense_1_acc_16: 1.0000 - dense_1_acc_17: 1.0000 - dense_1_acc_18: 1.0000 - dense_1_acc_19: 1.0000 - dense_1_acc_20: 1.0000 - dense_1_acc_21: 1.0000 - dense_1_acc_22: 1.0000 - dense_1_acc_23: 1.0000 - dense_1_acc_24: 1.0000 - dense_1_acc_25: 1.0000 - dense_1_acc_26: 1.0000 - dense_1_acc_27: 1.0000 - dense_1_acc_28: 1.0000 - dense_1_acc_29: 1.0000 - dense_1_acc_30: 0.0000e+00     \n",
      "Epoch 52/100\n",
      "60/60 [==============================] - 0s - loss: 10.1731 - dense_1_loss_1: 3.9059 - dense_1_loss_2: 1.9971 - dense_1_loss_3: 0.9057 - dense_1_loss_4: 0.3579 - dense_1_loss_5: 0.2603 - dense_1_loss_6: 0.1640 - dense_1_loss_7: 0.1482 - dense_1_loss_8: 0.1366 - dense_1_loss_9: 0.1206 - dense_1_loss_10: 0.1003 - dense_1_loss_11: 0.1115 - dense_1_loss_12: 0.1056 - dense_1_loss_13: 0.0920 - dense_1_loss_14: 0.0980 - dense_1_loss_15: 0.1080 - dense_1_loss_16: 0.1081 - dense_1_loss_17: 0.1000 - dense_1_loss_18: 0.0990 - dense_1_loss_19: 0.1046 - dense_1_loss_20: 0.1158 - dense_1_loss_21: 0.1229 - dense_1_loss_22: 0.1161 - dense_1_loss_23: 0.1082 - dense_1_loss_24: 0.1012 - dense_1_loss_25: 0.1095 - dense_1_loss_26: 0.1121 - dense_1_loss_27: 0.1094 - dense_1_loss_28: 0.1224 - dense_1_loss_29: 0.1321 - dense_1_loss_30: 0.0000e+00 - dense_1_acc_1: 0.0667 - dense_1_acc_2: 0.4500 - dense_1_acc_3: 0.8167 - dense_1_acc_4: 0.9500 - dense_1_acc_5: 0.9833 - dense_1_acc_6: 0.9833 - dense_1_acc_7: 0.9833 - dense_1_acc_8: 1.0000 - dense_1_acc_9: 1.0000 - dense_1_acc_10: 1.0000 - dense_1_acc_11: 1.0000 - dense_1_acc_12: 1.0000 - dense_1_acc_13: 1.0000 - dense_1_acc_14: 1.0000 - dense_1_acc_15: 1.0000 - dense_1_acc_16: 1.0000 - dense_1_acc_17: 1.0000 - dense_1_acc_18: 1.0000 - dense_1_acc_19: 1.0000 - dense_1_acc_20: 1.0000 - dense_1_acc_21: 1.0000 - dense_1_acc_22: 1.0000 - dense_1_acc_23: 1.0000 - dense_1_acc_24: 1.0000 - dense_1_acc_25: 1.0000 - dense_1_acc_26: 1.0000 - dense_1_acc_27: 1.0000 - dense_1_acc_28: 1.0000 - dense_1_acc_29: 1.0000 - dense_1_acc_30: 0.0000e+00    \n",
      "Epoch 53/100\n",
      "60/60 [==============================] - 0s - loss: 9.9054 - dense_1_loss_1: 3.9015 - dense_1_loss_2: 1.9628 - dense_1_loss_3: 0.8783 - dense_1_loss_4: 0.3400 - dense_1_loss_5: 0.2450 - dense_1_loss_6: 0.1556 - dense_1_loss_7: 0.1410 - dense_1_loss_8: 0.1290 - dense_1_loss_9: 0.1119 - dense_1_loss_10: 0.0937 - dense_1_loss_11: 0.1034 - dense_1_loss_12: 0.0992 - dense_1_loss_13: 0.0872 - dense_1_loss_14: 0.0912 - dense_1_loss_15: 0.1024 - dense_1_loss_16: 0.1011 - dense_1_loss_17: 0.0938 - dense_1_loss_18: 0.0930 - dense_1_loss_19: 0.0975 - dense_1_loss_20: 0.1088 - dense_1_loss_21: 0.1155 - dense_1_loss_22: 0.1083 - dense_1_loss_23: 0.1011 - dense_1_loss_24: 0.0951 - dense_1_loss_25: 0.1018 - dense_1_loss_26: 0.1052 - dense_1_loss_27: 0.1023 - dense_1_loss_28: 0.1158 - dense_1_loss_29: 0.1240 - dense_1_loss_30: 0.0000e+00 - dense_1_acc_1: 0.0667 - dense_1_acc_2: 0.4500 - dense_1_acc_3: 0.8167 - dense_1_acc_4: 0.9500 - dense_1_acc_5: 0.9833 - dense_1_acc_6: 0.9833 - dense_1_acc_7: 0.9833 - dense_1_acc_8: 1.0000 - dense_1_acc_9: 1.0000 - dense_1_acc_10: 1.0000 - dense_1_acc_11: 1.0000 - dense_1_acc_12: 1.0000 - dense_1_acc_13: 1.0000 - dense_1_acc_14: 1.0000 - dense_1_acc_15: 1.0000 - dense_1_acc_16: 1.0000 - dense_1_acc_17: 1.0000 - dense_1_acc_18: 1.0000 - dense_1_acc_19: 1.0000 - dense_1_acc_20: 1.0000 - dense_1_acc_21: 1.0000 - dense_1_acc_22: 1.0000 - dense_1_acc_23: 1.0000 - dense_1_acc_24: 1.0000 - dense_1_acc_25: 1.0000 - dense_1_acc_26: 1.0000 - dense_1_acc_27: 1.0000 - dense_1_acc_28: 1.0000 - dense_1_acc_29: 1.0000 - dense_1_acc_30: 0.0000e+00      \n",
      "Epoch 54/100\n",
      "60/60 [==============================] - 0s - loss: 9.6459 - dense_1_loss_1: 3.8978 - dense_1_loss_2: 1.9304 - dense_1_loss_3: 0.8522 - dense_1_loss_4: 0.3225 - dense_1_loss_5: 0.2300 - dense_1_loss_6: 0.1458 - dense_1_loss_7: 0.1320 - dense_1_loss_8: 0.1190 - dense_1_loss_9: 0.1047 - dense_1_loss_10: 0.0884 - dense_1_loss_11: 0.0953 - dense_1_loss_12: 0.0941 - dense_1_loss_13: 0.0820 - dense_1_loss_14: 0.0853 - dense_1_loss_15: 0.0955 - dense_1_loss_16: 0.0932 - dense_1_loss_17: 0.0876 - dense_1_loss_18: 0.0877 - dense_1_loss_19: 0.0922 - dense_1_loss_20: 0.1021 - dense_1_loss_21: 0.1076 - dense_1_loss_22: 0.1009 - dense_1_loss_23: 0.0951 - dense_1_loss_24: 0.0898 - dense_1_loss_25: 0.0950 - dense_1_loss_26: 0.0989 - dense_1_loss_27: 0.0961 - dense_1_loss_28: 0.1091 - dense_1_loss_29: 0.1154 - dense_1_loss_30: 0.0000e+00 - dense_1_acc_1: 0.0667 - dense_1_acc_2: 0.4500 - dense_1_acc_3: 0.8167 - dense_1_acc_4: 0.9500 - dense_1_acc_5: 0.9833 - dense_1_acc_6: 0.9833 - dense_1_acc_7: 0.9833 - dense_1_acc_8: 1.0000 - dense_1_acc_9: 1.0000 - dense_1_acc_10: 1.0000 - dense_1_acc_11: 1.0000 - dense_1_acc_12: 1.0000 - dense_1_acc_13: 1.0000 - dense_1_acc_14: 1.0000 - dense_1_acc_15: 1.0000 - dense_1_acc_16: 1.0000 - dense_1_acc_17: 1.0000 - dense_1_acc_18: 1.0000 - dense_1_acc_19: 1.0000 - dense_1_acc_20: 1.0000 - dense_1_acc_21: 1.0000 - dense_1_acc_22: 1.0000 - dense_1_acc_23: 1.0000 - dense_1_acc_24: 1.0000 - dense_1_acc_25: 1.0000 - dense_1_acc_26: 1.0000 - dense_1_acc_27: 1.0000 - dense_1_acc_28: 1.0000 - dense_1_acc_29: 1.0000 - dense_1_acc_30: 0.0000e+00     \n",
      "Epoch 55/100\n",
      "60/60 [==============================] - 0s - loss: 9.4156 - dense_1_loss_1: 3.8938 - dense_1_loss_2: 1.8979 - dense_1_loss_3: 0.8286 - dense_1_loss_4: 0.3067 - dense_1_loss_5: 0.2177 - dense_1_loss_6: 0.1385 - dense_1_loss_7: 0.1247 - dense_1_loss_8: 0.1115 - dense_1_loss_9: 0.0991 - dense_1_loss_10: 0.0832 - dense_1_loss_11: 0.0899 - dense_1_loss_12: 0.0879 - dense_1_loss_13: 0.0773 - dense_1_loss_14: 0.0815 - dense_1_loss_15: 0.0881 - dense_1_loss_16: 0.0885 - dense_1_loss_17: 0.0822 - dense_1_loss_18: 0.0827 - dense_1_loss_19: 0.0864 - dense_1_loss_20: 0.0962 - dense_1_loss_21: 0.0999 - dense_1_loss_22: 0.0950 - dense_1_loss_23: 0.0894 - dense_1_loss_24: 0.0852 - dense_1_loss_25: 0.0896 - dense_1_loss_26: 0.0931 - dense_1_loss_27: 0.0905 - dense_1_loss_28: 0.1023 - dense_1_loss_29: 0.1081 - dense_1_loss_30: 0.0000e+00 - dense_1_acc_1: 0.0667 - dense_1_acc_2: 0.4500 - dense_1_acc_3: 0.8167 - dense_1_acc_4: 0.9500 - dense_1_acc_5: 0.9833 - dense_1_acc_6: 0.9833 - dense_1_acc_7: 0.9833 - dense_1_acc_8: 1.0000 - dense_1_acc_9: 1.0000 - dense_1_acc_10: 1.0000 - dense_1_acc_11: 1.0000 - dense_1_acc_12: 1.0000 - dense_1_acc_13: 1.0000 - dense_1_acc_14: 1.0000 - dense_1_acc_15: 1.0000 - dense_1_acc_16: 1.0000 - dense_1_acc_17: 1.0000 - dense_1_acc_18: 1.0000 - dense_1_acc_19: 1.0000 - dense_1_acc_20: 1.0000 - dense_1_acc_21: 1.0000 - dense_1_acc_22: 1.0000 - dense_1_acc_23: 1.0000 - dense_1_acc_24: 1.0000 - dense_1_acc_25: 1.0000 - dense_1_acc_26: 1.0000 - dense_1_acc_27: 1.0000 - dense_1_acc_28: 1.0000 - dense_1_acc_29: 1.0000 - dense_1_acc_30: 0.0000e+00     \n",
      "Epoch 56/100\n"
     ]
    },
    {
     "name": "stdout",
     "output_type": "stream",
     "text": [
      "60/60 [==============================] - 0s - loss: 9.1950 - dense_1_loss_1: 3.8902 - dense_1_loss_2: 1.8683 - dense_1_loss_3: 0.8043 - dense_1_loss_4: 0.2900 - dense_1_loss_5: 0.2043 - dense_1_loss_6: 0.1318 - dense_1_loss_7: 0.1172 - dense_1_loss_8: 0.1037 - dense_1_loss_9: 0.0941 - dense_1_loss_10: 0.0785 - dense_1_loss_11: 0.0841 - dense_1_loss_12: 0.0824 - dense_1_loss_13: 0.0730 - dense_1_loss_14: 0.0771 - dense_1_loss_15: 0.0825 - dense_1_loss_16: 0.0831 - dense_1_loss_17: 0.0779 - dense_1_loss_18: 0.0780 - dense_1_loss_19: 0.0807 - dense_1_loss_20: 0.0909 - dense_1_loss_21: 0.0941 - dense_1_loss_22: 0.0899 - dense_1_loss_23: 0.0842 - dense_1_loss_24: 0.0801 - dense_1_loss_25: 0.0845 - dense_1_loss_26: 0.0878 - dense_1_loss_27: 0.0844 - dense_1_loss_28: 0.0962 - dense_1_loss_29: 0.1017 - dense_1_loss_30: 0.0000e+00 - dense_1_acc_1: 0.0667 - dense_1_acc_2: 0.4500 - dense_1_acc_3: 0.8333 - dense_1_acc_4: 0.9667 - dense_1_acc_5: 1.0000 - dense_1_acc_6: 0.9833 - dense_1_acc_7: 0.9833 - dense_1_acc_8: 1.0000 - dense_1_acc_9: 1.0000 - dense_1_acc_10: 1.0000 - dense_1_acc_11: 1.0000 - dense_1_acc_12: 1.0000 - dense_1_acc_13: 1.0000 - dense_1_acc_14: 1.0000 - dense_1_acc_15: 1.0000 - dense_1_acc_16: 1.0000 - dense_1_acc_17: 1.0000 - dense_1_acc_18: 1.0000 - dense_1_acc_19: 1.0000 - dense_1_acc_20: 1.0000 - dense_1_acc_21: 1.0000 - dense_1_acc_22: 1.0000 - dense_1_acc_23: 1.0000 - dense_1_acc_24: 1.0000 - dense_1_acc_25: 1.0000 - dense_1_acc_26: 1.0000 - dense_1_acc_27: 1.0000 - dense_1_acc_28: 1.0000 - dense_1_acc_29: 1.0000 - dense_1_acc_30: 0.0000e+00     \n",
      "Epoch 57/100\n",
      "60/60 [==============================] - 0s - loss: 8.9968 - dense_1_loss_1: 3.8864 - dense_1_loss_2: 1.8384 - dense_1_loss_3: 0.7821 - dense_1_loss_4: 0.2761 - dense_1_loss_5: 0.1937 - dense_1_loss_6: 0.1263 - dense_1_loss_7: 0.1115 - dense_1_loss_8: 0.0986 - dense_1_loss_9: 0.0888 - dense_1_loss_10: 0.0741 - dense_1_loss_11: 0.0794 - dense_1_loss_12: 0.0777 - dense_1_loss_13: 0.0693 - dense_1_loss_14: 0.0727 - dense_1_loss_15: 0.0783 - dense_1_loss_16: 0.0777 - dense_1_loss_17: 0.0732 - dense_1_loss_18: 0.0737 - dense_1_loss_19: 0.0753 - dense_1_loss_20: 0.0852 - dense_1_loss_21: 0.0892 - dense_1_loss_22: 0.0848 - dense_1_loss_23: 0.0794 - dense_1_loss_24: 0.0751 - dense_1_loss_25: 0.0801 - dense_1_loss_26: 0.0829 - dense_1_loss_27: 0.0797 - dense_1_loss_28: 0.0910 - dense_1_loss_29: 0.0963 - dense_1_loss_30: 0.0000e+00 - dense_1_acc_1: 0.0667 - dense_1_acc_2: 0.4667 - dense_1_acc_3: 0.8333 - dense_1_acc_4: 0.9667 - dense_1_acc_5: 1.0000 - dense_1_acc_6: 0.9833 - dense_1_acc_7: 1.0000 - dense_1_acc_8: 1.0000 - dense_1_acc_9: 1.0000 - dense_1_acc_10: 1.0000 - dense_1_acc_11: 1.0000 - dense_1_acc_12: 1.0000 - dense_1_acc_13: 1.0000 - dense_1_acc_14: 1.0000 - dense_1_acc_15: 1.0000 - dense_1_acc_16: 1.0000 - dense_1_acc_17: 1.0000 - dense_1_acc_18: 1.0000 - dense_1_acc_19: 1.0000 - dense_1_acc_20: 1.0000 - dense_1_acc_21: 1.0000 - dense_1_acc_22: 1.0000 - dense_1_acc_23: 1.0000 - dense_1_acc_24: 1.0000 - dense_1_acc_25: 1.0000 - dense_1_acc_26: 1.0000 - dense_1_acc_27: 1.0000 - dense_1_acc_28: 1.0000 - dense_1_acc_29: 1.0000 - dense_1_acc_30: 0.0000e+00     \n",
      "Epoch 58/100\n",
      "60/60 [==============================] - 0s - loss: 8.8128 - dense_1_loss_1: 3.8825 - dense_1_loss_2: 1.8098 - dense_1_loss_3: 0.7624 - dense_1_loss_4: 0.2633 - dense_1_loss_5: 0.1837 - dense_1_loss_6: 0.1209 - dense_1_loss_7: 0.1058 - dense_1_loss_8: 0.0943 - dense_1_loss_9: 0.0825 - dense_1_loss_10: 0.0701 - dense_1_loss_11: 0.0749 - dense_1_loss_12: 0.0732 - dense_1_loss_13: 0.0654 - dense_1_loss_14: 0.0689 - dense_1_loss_15: 0.0744 - dense_1_loss_16: 0.0734 - dense_1_loss_17: 0.0691 - dense_1_loss_18: 0.0694 - dense_1_loss_19: 0.0715 - dense_1_loss_20: 0.0805 - dense_1_loss_21: 0.0846 - dense_1_loss_22: 0.0798 - dense_1_loss_23: 0.0751 - dense_1_loss_24: 0.0711 - dense_1_loss_25: 0.0754 - dense_1_loss_26: 0.0779 - dense_1_loss_27: 0.0761 - dense_1_loss_28: 0.0861 - dense_1_loss_29: 0.0909 - dense_1_loss_30: 0.0000e+00 - dense_1_acc_1: 0.0667 - dense_1_acc_2: 0.5167 - dense_1_acc_3: 0.8333 - dense_1_acc_4: 0.9667 - dense_1_acc_5: 1.0000 - dense_1_acc_6: 0.9833 - dense_1_acc_7: 1.0000 - dense_1_acc_8: 1.0000 - dense_1_acc_9: 1.0000 - dense_1_acc_10: 1.0000 - dense_1_acc_11: 1.0000 - dense_1_acc_12: 1.0000 - dense_1_acc_13: 1.0000 - dense_1_acc_14: 1.0000 - dense_1_acc_15: 1.0000 - dense_1_acc_16: 1.0000 - dense_1_acc_17: 1.0000 - dense_1_acc_18: 1.0000 - dense_1_acc_19: 1.0000 - dense_1_acc_20: 1.0000 - dense_1_acc_21: 1.0000 - dense_1_acc_22: 1.0000 - dense_1_acc_23: 1.0000 - dense_1_acc_24: 1.0000 - dense_1_acc_25: 1.0000 - dense_1_acc_26: 1.0000 - dense_1_acc_27: 1.0000 - dense_1_acc_28: 1.0000 - dense_1_acc_29: 1.0000 - dense_1_acc_30: 0.0000e+00     \n",
      "Epoch 59/100\n",
      "60/60 [==============================] - 0s - loss: 8.6387 - dense_1_loss_1: 3.8792 - dense_1_loss_2: 1.7825 - dense_1_loss_3: 0.7409 - dense_1_loss_4: 0.2517 - dense_1_loss_5: 0.1736 - dense_1_loss_6: 0.1148 - dense_1_loss_7: 0.1001 - dense_1_loss_8: 0.0896 - dense_1_loss_9: 0.0780 - dense_1_loss_10: 0.0666 - dense_1_loss_11: 0.0705 - dense_1_loss_12: 0.0698 - dense_1_loss_13: 0.0619 - dense_1_loss_14: 0.0655 - dense_1_loss_15: 0.0705 - dense_1_loss_16: 0.0696 - dense_1_loss_17: 0.0653 - dense_1_loss_18: 0.0660 - dense_1_loss_19: 0.0677 - dense_1_loss_20: 0.0766 - dense_1_loss_21: 0.0799 - dense_1_loss_22: 0.0755 - dense_1_loss_23: 0.0710 - dense_1_loss_24: 0.0677 - dense_1_loss_25: 0.0713 - dense_1_loss_26: 0.0734 - dense_1_loss_27: 0.0723 - dense_1_loss_28: 0.0811 - dense_1_loss_29: 0.0861 - dense_1_loss_30: 0.0000e+00 - dense_1_acc_1: 0.0667 - dense_1_acc_2: 0.5167 - dense_1_acc_3: 0.8333 - dense_1_acc_4: 0.9667 - dense_1_acc_5: 1.0000 - dense_1_acc_6: 1.0000 - dense_1_acc_7: 1.0000 - dense_1_acc_8: 1.0000 - dense_1_acc_9: 1.0000 - dense_1_acc_10: 1.0000 - dense_1_acc_11: 1.0000 - dense_1_acc_12: 1.0000 - dense_1_acc_13: 1.0000 - dense_1_acc_14: 1.0000 - dense_1_acc_15: 1.0000 - dense_1_acc_16: 1.0000 - dense_1_acc_17: 1.0000 - dense_1_acc_18: 1.0000 - dense_1_acc_19: 1.0000 - dense_1_acc_20: 1.0000 - dense_1_acc_21: 1.0000 - dense_1_acc_22: 1.0000 - dense_1_acc_23: 1.0000 - dense_1_acc_24: 1.0000 - dense_1_acc_25: 1.0000 - dense_1_acc_26: 1.0000 - dense_1_acc_27: 1.0000 - dense_1_acc_28: 1.0000 - dense_1_acc_29: 1.0000 - dense_1_acc_30: 0.0000e+00     \n",
      "Epoch 60/100\n",
      "60/60 [==============================] - 0s - loss: 8.4771 - dense_1_loss_1: 3.8754 - dense_1_loss_2: 1.7555 - dense_1_loss_3: 0.7220 - dense_1_loss_4: 0.2407 - dense_1_loss_5: 0.1650 - dense_1_loss_6: 0.1085 - dense_1_loss_7: 0.0945 - dense_1_loss_8: 0.0843 - dense_1_loss_9: 0.0742 - dense_1_loss_10: 0.0635 - dense_1_loss_11: 0.0664 - dense_1_loss_12: 0.0663 - dense_1_loss_13: 0.0590 - dense_1_loss_14: 0.0618 - dense_1_loss_15: 0.0666 - dense_1_loss_16: 0.0661 - dense_1_loss_17: 0.0621 - dense_1_loss_18: 0.0628 - dense_1_loss_19: 0.0645 - dense_1_loss_20: 0.0729 - dense_1_loss_21: 0.0757 - dense_1_loss_22: 0.0720 - dense_1_loss_23: 0.0676 - dense_1_loss_24: 0.0643 - dense_1_loss_25: 0.0677 - dense_1_loss_26: 0.0699 - dense_1_loss_27: 0.0688 - dense_1_loss_28: 0.0769 - dense_1_loss_29: 0.0822 - dense_1_loss_30: 0.0000e+00 - dense_1_acc_1: 0.0667 - dense_1_acc_2: 0.5167 - dense_1_acc_3: 0.8333 - dense_1_acc_4: 0.9667 - dense_1_acc_5: 1.0000 - dense_1_acc_6: 1.0000 - dense_1_acc_7: 1.0000 - dense_1_acc_8: 1.0000 - dense_1_acc_9: 1.0000 - dense_1_acc_10: 1.0000 - dense_1_acc_11: 1.0000 - dense_1_acc_12: 1.0000 - dense_1_acc_13: 1.0000 - dense_1_acc_14: 1.0000 - dense_1_acc_15: 1.0000 - dense_1_acc_16: 1.0000 - dense_1_acc_17: 1.0000 - dense_1_acc_18: 1.0000 - dense_1_acc_19: 1.0000 - dense_1_acc_20: 1.0000 - dense_1_acc_21: 1.0000 - dense_1_acc_22: 1.0000 - dense_1_acc_23: 1.0000 - dense_1_acc_24: 1.0000 - dense_1_acc_25: 1.0000 - dense_1_acc_26: 1.0000 - dense_1_acc_27: 1.0000 - dense_1_acc_28: 1.0000 - dense_1_acc_29: 1.0000 - dense_1_acc_30: 0.0000e+00     \n",
      "Epoch 61/100\n"
     ]
    },
    {
     "name": "stdout",
     "output_type": "stream",
     "text": [
      "60/60 [==============================] - 0s - loss: 8.3294 - dense_1_loss_1: 3.8718 - dense_1_loss_2: 1.7304 - dense_1_loss_3: 0.7037 - dense_1_loss_4: 0.2292 - dense_1_loss_5: 0.1581 - dense_1_loss_6: 0.1040 - dense_1_loss_7: 0.0906 - dense_1_loss_8: 0.0800 - dense_1_loss_9: 0.0707 - dense_1_loss_10: 0.0607 - dense_1_loss_11: 0.0628 - dense_1_loss_12: 0.0627 - dense_1_loss_13: 0.0563 - dense_1_loss_14: 0.0588 - dense_1_loss_15: 0.0632 - dense_1_loss_16: 0.0629 - dense_1_loss_17: 0.0590 - dense_1_loss_18: 0.0598 - dense_1_loss_19: 0.0614 - dense_1_loss_20: 0.0691 - dense_1_loss_21: 0.0722 - dense_1_loss_22: 0.0684 - dense_1_loss_23: 0.0645 - dense_1_loss_24: 0.0612 - dense_1_loss_25: 0.0643 - dense_1_loss_26: 0.0666 - dense_1_loss_27: 0.0656 - dense_1_loss_28: 0.0729 - dense_1_loss_29: 0.0785 - dense_1_loss_30: 0.0000e+00 - dense_1_acc_1: 0.0667 - dense_1_acc_2: 0.5167 - dense_1_acc_3: 0.8333 - dense_1_acc_4: 0.9833 - dense_1_acc_5: 1.0000 - dense_1_acc_6: 1.0000 - dense_1_acc_7: 1.0000 - dense_1_acc_8: 1.0000 - dense_1_acc_9: 1.0000 - dense_1_acc_10: 1.0000 - dense_1_acc_11: 1.0000 - dense_1_acc_12: 1.0000 - dense_1_acc_13: 1.0000 - dense_1_acc_14: 1.0000 - dense_1_acc_15: 1.0000 - dense_1_acc_16: 1.0000 - dense_1_acc_17: 1.0000 - dense_1_acc_18: 1.0000 - dense_1_acc_19: 1.0000 - dense_1_acc_20: 1.0000 - dense_1_acc_21: 1.0000 - dense_1_acc_22: 1.0000 - dense_1_acc_23: 1.0000 - dense_1_acc_24: 1.0000 - dense_1_acc_25: 1.0000 - dense_1_acc_26: 1.0000 - dense_1_acc_27: 1.0000 - dense_1_acc_28: 1.0000 - dense_1_acc_29: 1.0000 - dense_1_acc_30: 0.0000e+00     \n",
      "Epoch 62/100\n",
      "60/60 [==============================] - 0s - loss: 8.1908 - dense_1_loss_1: 3.8681 - dense_1_loss_2: 1.7048 - dense_1_loss_3: 0.6860 - dense_1_loss_4: 0.2202 - dense_1_loss_5: 0.1509 - dense_1_loss_6: 0.0994 - dense_1_loss_7: 0.0865 - dense_1_loss_8: 0.0761 - dense_1_loss_9: 0.0674 - dense_1_loss_10: 0.0579 - dense_1_loss_11: 0.0596 - dense_1_loss_12: 0.0598 - dense_1_loss_13: 0.0539 - dense_1_loss_14: 0.0560 - dense_1_loss_15: 0.0602 - dense_1_loss_16: 0.0599 - dense_1_loss_17: 0.0562 - dense_1_loss_18: 0.0572 - dense_1_loss_19: 0.0583 - dense_1_loss_20: 0.0657 - dense_1_loss_21: 0.0689 - dense_1_loss_22: 0.0651 - dense_1_loss_23: 0.0615 - dense_1_loss_24: 0.0587 - dense_1_loss_25: 0.0613 - dense_1_loss_26: 0.0638 - dense_1_loss_27: 0.0627 - dense_1_loss_28: 0.0700 - dense_1_loss_29: 0.0749 - dense_1_loss_30: 0.0000e+00 - dense_1_acc_1: 0.0667 - dense_1_acc_2: 0.5500 - dense_1_acc_3: 0.8500 - dense_1_acc_4: 0.9833 - dense_1_acc_5: 1.0000 - dense_1_acc_6: 1.0000 - dense_1_acc_7: 1.0000 - dense_1_acc_8: 1.0000 - dense_1_acc_9: 1.0000 - dense_1_acc_10: 1.0000 - dense_1_acc_11: 1.0000 - dense_1_acc_12: 1.0000 - dense_1_acc_13: 1.0000 - dense_1_acc_14: 1.0000 - dense_1_acc_15: 1.0000 - dense_1_acc_16: 1.0000 - dense_1_acc_17: 1.0000 - dense_1_acc_18: 1.0000 - dense_1_acc_19: 1.0000 - dense_1_acc_20: 1.0000 - dense_1_acc_21: 1.0000 - dense_1_acc_22: 1.0000 - dense_1_acc_23: 1.0000 - dense_1_acc_24: 1.0000 - dense_1_acc_25: 1.0000 - dense_1_acc_26: 1.0000 - dense_1_acc_27: 1.0000 - dense_1_acc_28: 1.0000 - dense_1_acc_29: 1.0000 - dense_1_acc_30: 0.0000e+00     \n",
      "Epoch 63/100\n",
      "60/60 [==============================] - 0s - loss: 8.0597 - dense_1_loss_1: 3.8647 - dense_1_loss_2: 1.6809 - dense_1_loss_3: 0.6687 - dense_1_loss_4: 0.2109 - dense_1_loss_5: 0.1444 - dense_1_loss_6: 0.0951 - dense_1_loss_7: 0.0829 - dense_1_loss_8: 0.0727 - dense_1_loss_9: 0.0643 - dense_1_loss_10: 0.0551 - dense_1_loss_11: 0.0566 - dense_1_loss_12: 0.0571 - dense_1_loss_13: 0.0517 - dense_1_loss_14: 0.0533 - dense_1_loss_15: 0.0577 - dense_1_loss_16: 0.0570 - dense_1_loss_17: 0.0537 - dense_1_loss_18: 0.0544 - dense_1_loss_19: 0.0555 - dense_1_loss_20: 0.0625 - dense_1_loss_21: 0.0659 - dense_1_loss_22: 0.0618 - dense_1_loss_23: 0.0589 - dense_1_loss_24: 0.0560 - dense_1_loss_25: 0.0585 - dense_1_loss_26: 0.0610 - dense_1_loss_27: 0.0599 - dense_1_loss_28: 0.0670 - dense_1_loss_29: 0.0716 - dense_1_loss_30: 0.0000e+00 - dense_1_acc_1: 0.0667 - dense_1_acc_2: 0.5500 - dense_1_acc_3: 0.8500 - dense_1_acc_4: 1.0000 - dense_1_acc_5: 1.0000 - dense_1_acc_6: 1.0000 - dense_1_acc_7: 1.0000 - dense_1_acc_8: 1.0000 - dense_1_acc_9: 1.0000 - dense_1_acc_10: 1.0000 - dense_1_acc_11: 1.0000 - dense_1_acc_12: 1.0000 - dense_1_acc_13: 1.0000 - dense_1_acc_14: 1.0000 - dense_1_acc_15: 1.0000 - dense_1_acc_16: 1.0000 - dense_1_acc_17: 1.0000 - dense_1_acc_18: 1.0000 - dense_1_acc_19: 1.0000 - dense_1_acc_20: 1.0000 - dense_1_acc_21: 1.0000 - dense_1_acc_22: 1.0000 - dense_1_acc_23: 1.0000 - dense_1_acc_24: 1.0000 - dense_1_acc_25: 1.0000 - dense_1_acc_26: 1.0000 - dense_1_acc_27: 1.0000 - dense_1_acc_28: 1.0000 - dense_1_acc_29: 1.0000 - dense_1_acc_30: 0.0000e+00     \n",
      "Epoch 64/100\n",
      "60/60 [==============================] - 0s - loss: 7.9351 - dense_1_loss_1: 3.8610 - dense_1_loss_2: 1.6581 - dense_1_loss_3: 0.6518 - dense_1_loss_4: 0.2025 - dense_1_loss_5: 0.1381 - dense_1_loss_6: 0.0906 - dense_1_loss_7: 0.0792 - dense_1_loss_8: 0.0693 - dense_1_loss_9: 0.0614 - dense_1_loss_10: 0.0527 - dense_1_loss_11: 0.0541 - dense_1_loss_12: 0.0546 - dense_1_loss_13: 0.0495 - dense_1_loss_14: 0.0511 - dense_1_loss_15: 0.0552 - dense_1_loss_16: 0.0543 - dense_1_loss_17: 0.0514 - dense_1_loss_18: 0.0520 - dense_1_loss_19: 0.0530 - dense_1_loss_20: 0.0598 - dense_1_loss_21: 0.0627 - dense_1_loss_22: 0.0591 - dense_1_loss_23: 0.0563 - dense_1_loss_24: 0.0536 - dense_1_loss_25: 0.0558 - dense_1_loss_26: 0.0583 - dense_1_loss_27: 0.0570 - dense_1_loss_28: 0.0641 - dense_1_loss_29: 0.0685 - dense_1_loss_30: 0.0000e+00 - dense_1_acc_1: 0.0667 - dense_1_acc_2: 0.5500 - dense_1_acc_3: 0.8500 - dense_1_acc_4: 1.0000 - dense_1_acc_5: 1.0000 - dense_1_acc_6: 1.0000 - dense_1_acc_7: 1.0000 - dense_1_acc_8: 1.0000 - dense_1_acc_9: 1.0000 - dense_1_acc_10: 1.0000 - dense_1_acc_11: 1.0000 - dense_1_acc_12: 1.0000 - dense_1_acc_13: 1.0000 - dense_1_acc_14: 1.0000 - dense_1_acc_15: 1.0000 - dense_1_acc_16: 1.0000 - dense_1_acc_17: 1.0000 - dense_1_acc_18: 1.0000 - dense_1_acc_19: 1.0000 - dense_1_acc_20: 1.0000 - dense_1_acc_21: 1.0000 - dense_1_acc_22: 1.0000 - dense_1_acc_23: 1.0000 - dense_1_acc_24: 1.0000 - dense_1_acc_25: 1.0000 - dense_1_acc_26: 1.0000 - dense_1_acc_27: 1.0000 - dense_1_acc_28: 1.0000 - dense_1_acc_29: 1.0000 - dense_1_acc_30: 0.0000e+00     \n",
      "Epoch 65/100\n",
      "60/60 [==============================] - 0s - loss: 7.8205 - dense_1_loss_1: 3.8577 - dense_1_loss_2: 1.6352 - dense_1_loss_3: 0.6366 - dense_1_loss_4: 0.1947 - dense_1_loss_5: 0.1325 - dense_1_loss_6: 0.0868 - dense_1_loss_7: 0.0760 - dense_1_loss_8: 0.0665 - dense_1_loss_9: 0.0590 - dense_1_loss_10: 0.0507 - dense_1_loss_11: 0.0520 - dense_1_loss_12: 0.0523 - dense_1_loss_13: 0.0474 - dense_1_loss_14: 0.0491 - dense_1_loss_15: 0.0529 - dense_1_loss_16: 0.0519 - dense_1_loss_17: 0.0492 - dense_1_loss_18: 0.0500 - dense_1_loss_19: 0.0508 - dense_1_loss_20: 0.0574 - dense_1_loss_21: 0.0598 - dense_1_loss_22: 0.0567 - dense_1_loss_23: 0.0539 - dense_1_loss_24: 0.0512 - dense_1_loss_25: 0.0536 - dense_1_loss_26: 0.0556 - dense_1_loss_27: 0.0543 - dense_1_loss_28: 0.0611 - dense_1_loss_29: 0.0656 - dense_1_loss_30: 0.0000e+00 - dense_1_acc_1: 0.0667 - dense_1_acc_2: 0.5500 - dense_1_acc_3: 0.8500 - dense_1_acc_4: 1.0000 - dense_1_acc_5: 1.0000 - dense_1_acc_6: 1.0000 - dense_1_acc_7: 1.0000 - dense_1_acc_8: 1.0000 - dense_1_acc_9: 1.0000 - dense_1_acc_10: 1.0000 - dense_1_acc_11: 1.0000 - dense_1_acc_12: 1.0000 - dense_1_acc_13: 1.0000 - dense_1_acc_14: 1.0000 - dense_1_acc_15: 1.0000 - dense_1_acc_16: 1.0000 - dense_1_acc_17: 1.0000 - dense_1_acc_18: 1.0000 - dense_1_acc_19: 1.0000 - dense_1_acc_20: 1.0000 - dense_1_acc_21: 1.0000 - dense_1_acc_22: 1.0000 - dense_1_acc_23: 1.0000 - dense_1_acc_24: 1.0000 - dense_1_acc_25: 1.0000 - dense_1_acc_26: 1.0000 - dense_1_acc_27: 1.0000 - dense_1_acc_28: 1.0000 - dense_1_acc_29: 1.0000 - dense_1_acc_30: 0.0000e+00     \n",
      "Epoch 66/100\n"
     ]
    },
    {
     "name": "stdout",
     "output_type": "stream",
     "text": [
      "60/60 [==============================] - 0s - loss: 7.7106 - dense_1_loss_1: 3.8541 - dense_1_loss_2: 1.6133 - dense_1_loss_3: 0.6216 - dense_1_loss_4: 0.1868 - dense_1_loss_5: 0.1271 - dense_1_loss_6: 0.0835 - dense_1_loss_7: 0.0729 - dense_1_loss_8: 0.0639 - dense_1_loss_9: 0.0565 - dense_1_loss_10: 0.0486 - dense_1_loss_11: 0.0498 - dense_1_loss_12: 0.0500 - dense_1_loss_13: 0.0454 - dense_1_loss_14: 0.0474 - dense_1_loss_15: 0.0506 - dense_1_loss_16: 0.0498 - dense_1_loss_17: 0.0471 - dense_1_loss_18: 0.0478 - dense_1_loss_19: 0.0486 - dense_1_loss_20: 0.0552 - dense_1_loss_21: 0.0571 - dense_1_loss_22: 0.0546 - dense_1_loss_23: 0.0516 - dense_1_loss_24: 0.0491 - dense_1_loss_25: 0.0516 - dense_1_loss_26: 0.0532 - dense_1_loss_27: 0.0519 - dense_1_loss_28: 0.0584 - dense_1_loss_29: 0.0632 - dense_1_loss_30: 0.0000e+00 - dense_1_acc_1: 0.0667 - dense_1_acc_2: 0.5500 - dense_1_acc_3: 0.8500 - dense_1_acc_4: 1.0000 - dense_1_acc_5: 1.0000 - dense_1_acc_6: 1.0000 - dense_1_acc_7: 1.0000 - dense_1_acc_8: 1.0000 - dense_1_acc_9: 1.0000 - dense_1_acc_10: 1.0000 - dense_1_acc_11: 1.0000 - dense_1_acc_12: 1.0000 - dense_1_acc_13: 1.0000 - dense_1_acc_14: 1.0000 - dense_1_acc_15: 1.0000 - dense_1_acc_16: 1.0000 - dense_1_acc_17: 1.0000 - dense_1_acc_18: 1.0000 - dense_1_acc_19: 1.0000 - dense_1_acc_20: 1.0000 - dense_1_acc_21: 1.0000 - dense_1_acc_22: 1.0000 - dense_1_acc_23: 1.0000 - dense_1_acc_24: 1.0000 - dense_1_acc_25: 1.0000 - dense_1_acc_26: 1.0000 - dense_1_acc_27: 1.0000 - dense_1_acc_28: 1.0000 - dense_1_acc_29: 1.0000 - dense_1_acc_30: 0.0000e+00     \n",
      "Epoch 67/100\n",
      "60/60 [==============================] - 0s - loss: 7.6095 - dense_1_loss_1: 3.8505 - dense_1_loss_2: 1.5923 - dense_1_loss_3: 0.6074 - dense_1_loss_4: 0.1800 - dense_1_loss_5: 0.1229 - dense_1_loss_6: 0.0806 - dense_1_loss_7: 0.0704 - dense_1_loss_8: 0.0616 - dense_1_loss_9: 0.0543 - dense_1_loss_10: 0.0467 - dense_1_loss_11: 0.0478 - dense_1_loss_12: 0.0480 - dense_1_loss_13: 0.0437 - dense_1_loss_14: 0.0454 - dense_1_loss_15: 0.0487 - dense_1_loss_16: 0.0478 - dense_1_loss_17: 0.0451 - dense_1_loss_18: 0.0460 - dense_1_loss_19: 0.0465 - dense_1_loss_20: 0.0529 - dense_1_loss_21: 0.0547 - dense_1_loss_22: 0.0525 - dense_1_loss_23: 0.0494 - dense_1_loss_24: 0.0472 - dense_1_loss_25: 0.0496 - dense_1_loss_26: 0.0509 - dense_1_loss_27: 0.0497 - dense_1_loss_28: 0.0563 - dense_1_loss_29: 0.0606 - dense_1_loss_30: 0.0000e+00 - dense_1_acc_1: 0.0667 - dense_1_acc_2: 0.5500 - dense_1_acc_3: 0.8500 - dense_1_acc_4: 1.0000 - dense_1_acc_5: 1.0000 - dense_1_acc_6: 1.0000 - dense_1_acc_7: 1.0000 - dense_1_acc_8: 1.0000 - dense_1_acc_9: 1.0000 - dense_1_acc_10: 1.0000 - dense_1_acc_11: 1.0000 - dense_1_acc_12: 1.0000 - dense_1_acc_13: 1.0000 - dense_1_acc_14: 1.0000 - dense_1_acc_15: 1.0000 - dense_1_acc_16: 1.0000 - dense_1_acc_17: 1.0000 - dense_1_acc_18: 1.0000 - dense_1_acc_19: 1.0000 - dense_1_acc_20: 1.0000 - dense_1_acc_21: 1.0000 - dense_1_acc_22: 1.0000 - dense_1_acc_23: 1.0000 - dense_1_acc_24: 1.0000 - dense_1_acc_25: 1.0000 - dense_1_acc_26: 1.0000 - dense_1_acc_27: 1.0000 - dense_1_acc_28: 1.0000 - dense_1_acc_29: 1.0000 - dense_1_acc_30: 0.0000e+00     \n",
      "Epoch 68/100\n",
      "60/60 [==============================] - 0s - loss: 7.5126 - dense_1_loss_1: 3.8472 - dense_1_loss_2: 1.5714 - dense_1_loss_3: 0.5936 - dense_1_loss_4: 0.1735 - dense_1_loss_5: 0.1186 - dense_1_loss_6: 0.0776 - dense_1_loss_7: 0.0676 - dense_1_loss_8: 0.0592 - dense_1_loss_9: 0.0521 - dense_1_loss_10: 0.0448 - dense_1_loss_11: 0.0459 - dense_1_loss_12: 0.0462 - dense_1_loss_13: 0.0421 - dense_1_loss_14: 0.0435 - dense_1_loss_15: 0.0469 - dense_1_loss_16: 0.0458 - dense_1_loss_17: 0.0433 - dense_1_loss_18: 0.0443 - dense_1_loss_19: 0.0448 - dense_1_loss_20: 0.0510 - dense_1_loss_21: 0.0526 - dense_1_loss_22: 0.0504 - dense_1_loss_23: 0.0475 - dense_1_loss_24: 0.0454 - dense_1_loss_25: 0.0475 - dense_1_loss_26: 0.0491 - dense_1_loss_27: 0.0480 - dense_1_loss_28: 0.0542 - dense_1_loss_29: 0.0585 - dense_1_loss_30: 0.0000e+00 - dense_1_acc_1: 0.0667 - dense_1_acc_2: 0.5500 - dense_1_acc_3: 0.8500 - dense_1_acc_4: 1.0000 - dense_1_acc_5: 1.0000 - dense_1_acc_6: 1.0000 - dense_1_acc_7: 1.0000 - dense_1_acc_8: 1.0000 - dense_1_acc_9: 1.0000 - dense_1_acc_10: 1.0000 - dense_1_acc_11: 1.0000 - dense_1_acc_12: 1.0000 - dense_1_acc_13: 1.0000 - dense_1_acc_14: 1.0000 - dense_1_acc_15: 1.0000 - dense_1_acc_16: 1.0000 - dense_1_acc_17: 1.0000 - dense_1_acc_18: 1.0000 - dense_1_acc_19: 1.0000 - dense_1_acc_20: 1.0000 - dense_1_acc_21: 1.0000 - dense_1_acc_22: 1.0000 - dense_1_acc_23: 1.0000 - dense_1_acc_24: 1.0000 - dense_1_acc_25: 1.0000 - dense_1_acc_26: 1.0000 - dense_1_acc_27: 1.0000 - dense_1_acc_28: 1.0000 - dense_1_acc_29: 1.0000 - dense_1_acc_30: 0.0000e+00     \n",
      "Epoch 69/100\n",
      "60/60 [==============================] - 0s - loss: 7.4198 - dense_1_loss_1: 3.8438 - dense_1_loss_2: 1.5512 - dense_1_loss_3: 0.5810 - dense_1_loss_4: 0.1671 - dense_1_loss_5: 0.1145 - dense_1_loss_6: 0.0742 - dense_1_loss_7: 0.0650 - dense_1_loss_8: 0.0568 - dense_1_loss_9: 0.0500 - dense_1_loss_10: 0.0431 - dense_1_loss_11: 0.0438 - dense_1_loss_12: 0.0445 - dense_1_loss_13: 0.0407 - dense_1_loss_14: 0.0417 - dense_1_loss_15: 0.0452 - dense_1_loss_16: 0.0441 - dense_1_loss_17: 0.0417 - dense_1_loss_18: 0.0425 - dense_1_loss_19: 0.0430 - dense_1_loss_20: 0.0490 - dense_1_loss_21: 0.0507 - dense_1_loss_22: 0.0484 - dense_1_loss_23: 0.0458 - dense_1_loss_24: 0.0440 - dense_1_loss_25: 0.0457 - dense_1_loss_26: 0.0473 - dense_1_loss_27: 0.0464 - dense_1_loss_28: 0.0523 - dense_1_loss_29: 0.0564 - dense_1_loss_30: 0.0000e+00 - dense_1_acc_1: 0.0667 - dense_1_acc_2: 0.5500 - dense_1_acc_3: 0.8500 - dense_1_acc_4: 1.0000 - dense_1_acc_5: 1.0000 - dense_1_acc_6: 1.0000 - dense_1_acc_7: 1.0000 - dense_1_acc_8: 1.0000 - dense_1_acc_9: 1.0000 - dense_1_acc_10: 1.0000 - dense_1_acc_11: 1.0000 - dense_1_acc_12: 1.0000 - dense_1_acc_13: 1.0000 - dense_1_acc_14: 1.0000 - dense_1_acc_15: 1.0000 - dense_1_acc_16: 1.0000 - dense_1_acc_17: 1.0000 - dense_1_acc_18: 1.0000 - dense_1_acc_19: 1.0000 - dense_1_acc_20: 1.0000 - dense_1_acc_21: 1.0000 - dense_1_acc_22: 1.0000 - dense_1_acc_23: 1.0000 - dense_1_acc_24: 1.0000 - dense_1_acc_25: 1.0000 - dense_1_acc_26: 1.0000 - dense_1_acc_27: 1.0000 - dense_1_acc_28: 1.0000 - dense_1_acc_29: 1.0000 - dense_1_acc_30: 0.0000e+00     \n",
      "Epoch 70/100\n",
      "60/60 [==============================] - 0s - loss: 7.3319 - dense_1_loss_1: 3.8405 - dense_1_loss_2: 1.5313 - dense_1_loss_3: 0.5673 - dense_1_loss_4: 0.1618 - dense_1_loss_5: 0.1105 - dense_1_loss_6: 0.0714 - dense_1_loss_7: 0.0627 - dense_1_loss_8: 0.0548 - dense_1_loss_9: 0.0483 - dense_1_loss_10: 0.0415 - dense_1_loss_11: 0.0421 - dense_1_loss_12: 0.0429 - dense_1_loss_13: 0.0392 - dense_1_loss_14: 0.0401 - dense_1_loss_15: 0.0435 - dense_1_loss_16: 0.0426 - dense_1_loss_17: 0.0402 - dense_1_loss_18: 0.0411 - dense_1_loss_19: 0.0416 - dense_1_loss_20: 0.0473 - dense_1_loss_21: 0.0488 - dense_1_loss_22: 0.0466 - dense_1_loss_23: 0.0442 - dense_1_loss_24: 0.0424 - dense_1_loss_25: 0.0439 - dense_1_loss_26: 0.0457 - dense_1_loss_27: 0.0448 - dense_1_loss_28: 0.0505 - dense_1_loss_29: 0.0543 - dense_1_loss_30: 0.0000e+00 - dense_1_acc_1: 0.0667 - dense_1_acc_2: 0.5667 - dense_1_acc_3: 0.8500 - dense_1_acc_4: 1.0000 - dense_1_acc_5: 1.0000 - dense_1_acc_6: 1.0000 - dense_1_acc_7: 1.0000 - dense_1_acc_8: 1.0000 - dense_1_acc_9: 1.0000 - dense_1_acc_10: 1.0000 - dense_1_acc_11: 1.0000 - dense_1_acc_12: 1.0000 - dense_1_acc_13: 1.0000 - dense_1_acc_14: 1.0000 - dense_1_acc_15: 1.0000 - dense_1_acc_16: 1.0000 - dense_1_acc_17: 1.0000 - dense_1_acc_18: 1.0000 - dense_1_acc_19: 1.0000 - dense_1_acc_20: 1.0000 - dense_1_acc_21: 1.0000 - dense_1_acc_22: 1.0000 - dense_1_acc_23: 1.0000 - dense_1_acc_24: 1.0000 - dense_1_acc_25: 1.0000 - dense_1_acc_26: 1.0000 - dense_1_acc_27: 1.0000 - dense_1_acc_28: 1.0000 - dense_1_acc_29: 1.0000 - dense_1_acc_30: 0.0000e+00     \n",
      "Epoch 71/100\n"
     ]
    },
    {
     "name": "stdout",
     "output_type": "stream",
     "text": [
      "60/60 [==============================] - 0s - loss: 7.2486 - dense_1_loss_1: 3.8371 - dense_1_loss_2: 1.5129 - dense_1_loss_3: 0.5550 - dense_1_loss_4: 0.1557 - dense_1_loss_5: 0.1068 - dense_1_loss_6: 0.0689 - dense_1_loss_7: 0.0606 - dense_1_loss_8: 0.0530 - dense_1_loss_9: 0.0467 - dense_1_loss_10: 0.0403 - dense_1_loss_11: 0.0405 - dense_1_loss_12: 0.0415 - dense_1_loss_13: 0.0378 - dense_1_loss_14: 0.0388 - dense_1_loss_15: 0.0420 - dense_1_loss_16: 0.0412 - dense_1_loss_17: 0.0388 - dense_1_loss_18: 0.0396 - dense_1_loss_19: 0.0400 - dense_1_loss_20: 0.0457 - dense_1_loss_21: 0.0470 - dense_1_loss_22: 0.0449 - dense_1_loss_23: 0.0426 - dense_1_loss_24: 0.0408 - dense_1_loss_25: 0.0424 - dense_1_loss_26: 0.0441 - dense_1_loss_27: 0.0431 - dense_1_loss_28: 0.0484 - dense_1_loss_29: 0.0523 - dense_1_loss_30: 0.0000e+00 - dense_1_acc_1: 0.0667 - dense_1_acc_2: 0.5667 - dense_1_acc_3: 0.8833 - dense_1_acc_4: 1.0000 - dense_1_acc_5: 1.0000 - dense_1_acc_6: 1.0000 - dense_1_acc_7: 1.0000 - dense_1_acc_8: 1.0000 - dense_1_acc_9: 1.0000 - dense_1_acc_10: 1.0000 - dense_1_acc_11: 1.0000 - dense_1_acc_12: 1.0000 - dense_1_acc_13: 1.0000 - dense_1_acc_14: 1.0000 - dense_1_acc_15: 1.0000 - dense_1_acc_16: 1.0000 - dense_1_acc_17: 1.0000 - dense_1_acc_18: 1.0000 - dense_1_acc_19: 1.0000 - dense_1_acc_20: 1.0000 - dense_1_acc_21: 1.0000 - dense_1_acc_22: 1.0000 - dense_1_acc_23: 1.0000 - dense_1_acc_24: 1.0000 - dense_1_acc_25: 1.0000 - dense_1_acc_26: 1.0000 - dense_1_acc_27: 1.0000 - dense_1_acc_28: 1.0000 - dense_1_acc_29: 1.0000 - dense_1_acc_30: 0.0000e+00     \n",
      "Epoch 72/100\n",
      "60/60 [==============================] - 0s - loss: 7.1690 - dense_1_loss_1: 3.8339 - dense_1_loss_2: 1.4939 - dense_1_loss_3: 0.5429 - dense_1_loss_4: 0.1511 - dense_1_loss_5: 0.1032 - dense_1_loss_6: 0.0666 - dense_1_loss_7: 0.0585 - dense_1_loss_8: 0.0513 - dense_1_loss_9: 0.0451 - dense_1_loss_10: 0.0390 - dense_1_loss_11: 0.0391 - dense_1_loss_12: 0.0399 - dense_1_loss_13: 0.0365 - dense_1_loss_14: 0.0376 - dense_1_loss_15: 0.0404 - dense_1_loss_16: 0.0399 - dense_1_loss_17: 0.0374 - dense_1_loss_18: 0.0383 - dense_1_loss_19: 0.0386 - dense_1_loss_20: 0.0442 - dense_1_loss_21: 0.0453 - dense_1_loss_22: 0.0434 - dense_1_loss_23: 0.0411 - dense_1_loss_24: 0.0394 - dense_1_loss_25: 0.0410 - dense_1_loss_26: 0.0425 - dense_1_loss_27: 0.0417 - dense_1_loss_28: 0.0467 - dense_1_loss_29: 0.0505 - dense_1_loss_30: 0.0000e+00 - dense_1_acc_1: 0.0667 - dense_1_acc_2: 0.5833 - dense_1_acc_3: 0.8833 - dense_1_acc_4: 1.0000 - dense_1_acc_5: 1.0000 - dense_1_acc_6: 1.0000 - dense_1_acc_7: 1.0000 - dense_1_acc_8: 1.0000 - dense_1_acc_9: 1.0000 - dense_1_acc_10: 1.0000 - dense_1_acc_11: 1.0000 - dense_1_acc_12: 1.0000 - dense_1_acc_13: 1.0000 - dense_1_acc_14: 1.0000 - dense_1_acc_15: 1.0000 - dense_1_acc_16: 1.0000 - dense_1_acc_17: 1.0000 - dense_1_acc_18: 1.0000 - dense_1_acc_19: 1.0000 - dense_1_acc_20: 1.0000 - dense_1_acc_21: 1.0000 - dense_1_acc_22: 1.0000 - dense_1_acc_23: 1.0000 - dense_1_acc_24: 1.0000 - dense_1_acc_25: 1.0000 - dense_1_acc_26: 1.0000 - dense_1_acc_27: 1.0000 - dense_1_acc_28: 1.0000 - dense_1_acc_29: 1.0000 - dense_1_acc_30: 0.0000e+00     \n",
      "Epoch 73/100\n",
      "60/60 [==============================] - 0s - loss: 7.0944 - dense_1_loss_1: 3.8303 - dense_1_loss_2: 1.4763 - dense_1_loss_3: 0.5320 - dense_1_loss_4: 0.1460 - dense_1_loss_5: 0.1001 - dense_1_loss_6: 0.0647 - dense_1_loss_7: 0.0567 - dense_1_loss_8: 0.0497 - dense_1_loss_9: 0.0435 - dense_1_loss_10: 0.0377 - dense_1_loss_11: 0.0377 - dense_1_loss_12: 0.0386 - dense_1_loss_13: 0.0354 - dense_1_loss_14: 0.0364 - dense_1_loss_15: 0.0391 - dense_1_loss_16: 0.0386 - dense_1_loss_17: 0.0362 - dense_1_loss_18: 0.0370 - dense_1_loss_19: 0.0373 - dense_1_loss_20: 0.0426 - dense_1_loss_21: 0.0438 - dense_1_loss_22: 0.0419 - dense_1_loss_23: 0.0397 - dense_1_loss_24: 0.0381 - dense_1_loss_25: 0.0397 - dense_1_loss_26: 0.0410 - dense_1_loss_27: 0.0404 - dense_1_loss_28: 0.0451 - dense_1_loss_29: 0.0489 - dense_1_loss_30: 0.0000e+00 - dense_1_acc_1: 0.0667 - dense_1_acc_2: 0.5833 - dense_1_acc_3: 0.8833 - dense_1_acc_4: 1.0000 - dense_1_acc_5: 1.0000 - dense_1_acc_6: 1.0000 - dense_1_acc_7: 1.0000 - dense_1_acc_8: 1.0000 - dense_1_acc_9: 1.0000 - dense_1_acc_10: 1.0000 - dense_1_acc_11: 1.0000 - dense_1_acc_12: 1.0000 - dense_1_acc_13: 1.0000 - dense_1_acc_14: 1.0000 - dense_1_acc_15: 1.0000 - dense_1_acc_16: 1.0000 - dense_1_acc_17: 1.0000 - dense_1_acc_18: 1.0000 - dense_1_acc_19: 1.0000 - dense_1_acc_20: 1.0000 - dense_1_acc_21: 1.0000 - dense_1_acc_22: 1.0000 - dense_1_acc_23: 1.0000 - dense_1_acc_24: 1.0000 - dense_1_acc_25: 1.0000 - dense_1_acc_26: 1.0000 - dense_1_acc_27: 1.0000 - dense_1_acc_28: 1.0000 - dense_1_acc_29: 1.0000 - dense_1_acc_30: 0.0000e+00     \n",
      "Epoch 74/100\n",
      "60/60 [==============================] - 0s - loss: 7.0206 - dense_1_loss_1: 3.8269 - dense_1_loss_2: 1.4589 - dense_1_loss_3: 0.5206 - dense_1_loss_4: 0.1411 - dense_1_loss_5: 0.0969 - dense_1_loss_6: 0.0624 - dense_1_loss_7: 0.0546 - dense_1_loss_8: 0.0480 - dense_1_loss_9: 0.0419 - dense_1_loss_10: 0.0364 - dense_1_loss_11: 0.0364 - dense_1_loss_12: 0.0373 - dense_1_loss_13: 0.0342 - dense_1_loss_14: 0.0352 - dense_1_loss_15: 0.0379 - dense_1_loss_16: 0.0373 - dense_1_loss_17: 0.0350 - dense_1_loss_18: 0.0358 - dense_1_loss_19: 0.0361 - dense_1_loss_20: 0.0411 - dense_1_loss_21: 0.0424 - dense_1_loss_22: 0.0405 - dense_1_loss_23: 0.0385 - dense_1_loss_24: 0.0369 - dense_1_loss_25: 0.0384 - dense_1_loss_26: 0.0398 - dense_1_loss_27: 0.0392 - dense_1_loss_28: 0.0436 - dense_1_loss_29: 0.0473 - dense_1_loss_30: 0.0000e+00 - dense_1_acc_1: 0.0667 - dense_1_acc_2: 0.5833 - dense_1_acc_3: 0.8833 - dense_1_acc_4: 1.0000 - dense_1_acc_5: 1.0000 - dense_1_acc_6: 1.0000 - dense_1_acc_7: 1.0000 - dense_1_acc_8: 1.0000 - dense_1_acc_9: 1.0000 - dense_1_acc_10: 1.0000 - dense_1_acc_11: 1.0000 - dense_1_acc_12: 1.0000 - dense_1_acc_13: 1.0000 - dense_1_acc_14: 1.0000 - dense_1_acc_15: 1.0000 - dense_1_acc_16: 1.0000 - dense_1_acc_17: 1.0000 - dense_1_acc_18: 1.0000 - dense_1_acc_19: 1.0000 - dense_1_acc_20: 1.0000 - dense_1_acc_21: 1.0000 - dense_1_acc_22: 1.0000 - dense_1_acc_23: 1.0000 - dense_1_acc_24: 1.0000 - dense_1_acc_25: 1.0000 - dense_1_acc_26: 1.0000 - dense_1_acc_27: 1.0000 - dense_1_acc_28: 1.0000 - dense_1_acc_29: 1.0000 - dense_1_acc_30: 0.0000e+00     \n",
      "Epoch 75/100\n",
      "60/60 [==============================] - 0s - loss: 6.9534 - dense_1_loss_1: 3.8240 - dense_1_loss_2: 1.4418 - dense_1_loss_3: 0.5099 - dense_1_loss_4: 0.1371 - dense_1_loss_5: 0.0941 - dense_1_loss_6: 0.0604 - dense_1_loss_7: 0.0530 - dense_1_loss_8: 0.0464 - dense_1_loss_9: 0.0406 - dense_1_loss_10: 0.0352 - dense_1_loss_11: 0.0352 - dense_1_loss_12: 0.0363 - dense_1_loss_13: 0.0332 - dense_1_loss_14: 0.0339 - dense_1_loss_15: 0.0367 - dense_1_loss_16: 0.0360 - dense_1_loss_17: 0.0340 - dense_1_loss_18: 0.0347 - dense_1_loss_19: 0.0350 - dense_1_loss_20: 0.0399 - dense_1_loss_21: 0.0411 - dense_1_loss_22: 0.0393 - dense_1_loss_23: 0.0373 - dense_1_loss_24: 0.0358 - dense_1_loss_25: 0.0374 - dense_1_loss_26: 0.0386 - dense_1_loss_27: 0.0381 - dense_1_loss_28: 0.0424 - dense_1_loss_29: 0.0460 - dense_1_loss_30: 0.0000e+00 - dense_1_acc_1: 0.0667 - dense_1_acc_2: 0.6000 - dense_1_acc_3: 0.8833 - dense_1_acc_4: 1.0000 - dense_1_acc_5: 1.0000 - dense_1_acc_6: 1.0000 - dense_1_acc_7: 1.0000 - dense_1_acc_8: 1.0000 - dense_1_acc_9: 1.0000 - dense_1_acc_10: 1.0000 - dense_1_acc_11: 1.0000 - dense_1_acc_12: 1.0000 - dense_1_acc_13: 1.0000 - dense_1_acc_14: 1.0000 - dense_1_acc_15: 1.0000 - dense_1_acc_16: 1.0000 - dense_1_acc_17: 1.0000 - dense_1_acc_18: 1.0000 - dense_1_acc_19: 1.0000 - dense_1_acc_20: 1.0000 - dense_1_acc_21: 1.0000 - dense_1_acc_22: 1.0000 - dense_1_acc_23: 1.0000 - dense_1_acc_24: 1.0000 - dense_1_acc_25: 1.0000 - dense_1_acc_26: 1.0000 - dense_1_acc_27: 1.0000 - dense_1_acc_28: 1.0000 - dense_1_acc_29: 1.0000 - dense_1_acc_30: 0.0000e+00     \n",
      "Epoch 76/100\n"
     ]
    },
    {
     "name": "stdout",
     "output_type": "stream",
     "text": [
      "60/60 [==============================] - 0s - loss: 6.8874 - dense_1_loss_1: 3.8205 - dense_1_loss_2: 1.4254 - dense_1_loss_3: 0.4994 - dense_1_loss_4: 0.1333 - dense_1_loss_5: 0.0913 - dense_1_loss_6: 0.0584 - dense_1_loss_7: 0.0515 - dense_1_loss_8: 0.0450 - dense_1_loss_9: 0.0394 - dense_1_loss_10: 0.0342 - dense_1_loss_11: 0.0341 - dense_1_loss_12: 0.0352 - dense_1_loss_13: 0.0322 - dense_1_loss_14: 0.0328 - dense_1_loss_15: 0.0357 - dense_1_loss_16: 0.0349 - dense_1_loss_17: 0.0330 - dense_1_loss_18: 0.0336 - dense_1_loss_19: 0.0339 - dense_1_loss_20: 0.0388 - dense_1_loss_21: 0.0398 - dense_1_loss_22: 0.0381 - dense_1_loss_23: 0.0361 - dense_1_loss_24: 0.0346 - dense_1_loss_25: 0.0362 - dense_1_loss_26: 0.0374 - dense_1_loss_27: 0.0368 - dense_1_loss_28: 0.0411 - dense_1_loss_29: 0.0445 - dense_1_loss_30: 0.0000e+00 - dense_1_acc_1: 0.1167 - dense_1_acc_2: 0.6167 - dense_1_acc_3: 0.8833 - dense_1_acc_4: 1.0000 - dense_1_acc_5: 1.0000 - dense_1_acc_6: 1.0000 - dense_1_acc_7: 1.0000 - dense_1_acc_8: 1.0000 - dense_1_acc_9: 1.0000 - dense_1_acc_10: 1.0000 - dense_1_acc_11: 1.0000 - dense_1_acc_12: 1.0000 - dense_1_acc_13: 1.0000 - dense_1_acc_14: 1.0000 - dense_1_acc_15: 1.0000 - dense_1_acc_16: 1.0000 - dense_1_acc_17: 1.0000 - dense_1_acc_18: 1.0000 - dense_1_acc_19: 1.0000 - dense_1_acc_20: 1.0000 - dense_1_acc_21: 1.0000 - dense_1_acc_22: 1.0000 - dense_1_acc_23: 1.0000 - dense_1_acc_24: 1.0000 - dense_1_acc_25: 1.0000 - dense_1_acc_26: 1.0000 - dense_1_acc_27: 1.0000 - dense_1_acc_28: 1.0000 - dense_1_acc_29: 1.0000 - dense_1_acc_30: 0.0000e+00     \n",
      "Epoch 77/100\n",
      "60/60 [==============================] - 0s - loss: 6.8260 - dense_1_loss_1: 3.8175 - dense_1_loss_2: 1.4094 - dense_1_loss_3: 0.4896 - dense_1_loss_4: 0.1297 - dense_1_loss_5: 0.0889 - dense_1_loss_6: 0.0570 - dense_1_loss_7: 0.0501 - dense_1_loss_8: 0.0439 - dense_1_loss_9: 0.0382 - dense_1_loss_10: 0.0332 - dense_1_loss_11: 0.0332 - dense_1_loss_12: 0.0342 - dense_1_loss_13: 0.0313 - dense_1_loss_14: 0.0319 - dense_1_loss_15: 0.0347 - dense_1_loss_16: 0.0338 - dense_1_loss_17: 0.0320 - dense_1_loss_18: 0.0327 - dense_1_loss_19: 0.0329 - dense_1_loss_20: 0.0376 - dense_1_loss_21: 0.0385 - dense_1_loss_22: 0.0369 - dense_1_loss_23: 0.0351 - dense_1_loss_24: 0.0336 - dense_1_loss_25: 0.0351 - dense_1_loss_26: 0.0363 - dense_1_loss_27: 0.0357 - dense_1_loss_28: 0.0397 - dense_1_loss_29: 0.0433 - dense_1_loss_30: 0.0000e+00 - dense_1_acc_1: 0.1000 - dense_1_acc_2: 0.6167 - dense_1_acc_3: 0.8833 - dense_1_acc_4: 1.0000 - dense_1_acc_5: 1.0000 - dense_1_acc_6: 1.0000 - dense_1_acc_7: 1.0000 - dense_1_acc_8: 1.0000 - dense_1_acc_9: 1.0000 - dense_1_acc_10: 1.0000 - dense_1_acc_11: 1.0000 - dense_1_acc_12: 1.0000 - dense_1_acc_13: 1.0000 - dense_1_acc_14: 1.0000 - dense_1_acc_15: 1.0000 - dense_1_acc_16: 1.0000 - dense_1_acc_17: 1.0000 - dense_1_acc_18: 1.0000 - dense_1_acc_19: 1.0000 - dense_1_acc_20: 1.0000 - dense_1_acc_21: 1.0000 - dense_1_acc_22: 1.0000 - dense_1_acc_23: 1.0000 - dense_1_acc_24: 1.0000 - dense_1_acc_25: 1.0000 - dense_1_acc_26: 1.0000 - dense_1_acc_27: 1.0000 - dense_1_acc_28: 1.0000 - dense_1_acc_29: 1.0000 - dense_1_acc_30: 0.0000e+00     \n",
      "Epoch 78/100\n",
      "60/60 [==============================] - 0s - loss: 6.7648 - dense_1_loss_1: 3.8140 - dense_1_loss_2: 1.3935 - dense_1_loss_3: 0.4801 - dense_1_loss_4: 0.1260 - dense_1_loss_5: 0.0864 - dense_1_loss_6: 0.0554 - dense_1_loss_7: 0.0486 - dense_1_loss_8: 0.0427 - dense_1_loss_9: 0.0370 - dense_1_loss_10: 0.0322 - dense_1_loss_11: 0.0321 - dense_1_loss_12: 0.0331 - dense_1_loss_13: 0.0304 - dense_1_loss_14: 0.0310 - dense_1_loss_15: 0.0335 - dense_1_loss_16: 0.0329 - dense_1_loss_17: 0.0310 - dense_1_loss_18: 0.0317 - dense_1_loss_19: 0.0319 - dense_1_loss_20: 0.0365 - dense_1_loss_21: 0.0373 - dense_1_loss_22: 0.0358 - dense_1_loss_23: 0.0341 - dense_1_loss_24: 0.0327 - dense_1_loss_25: 0.0340 - dense_1_loss_26: 0.0353 - dense_1_loss_27: 0.0348 - dense_1_loss_28: 0.0386 - dense_1_loss_29: 0.0421 - dense_1_loss_30: 0.0000e+00 - dense_1_acc_1: 0.1000 - dense_1_acc_2: 0.6167 - dense_1_acc_3: 0.8833 - dense_1_acc_4: 1.0000 - dense_1_acc_5: 1.0000 - dense_1_acc_6: 1.0000 - dense_1_acc_7: 1.0000 - dense_1_acc_8: 1.0000 - dense_1_acc_9: 1.0000 - dense_1_acc_10: 1.0000 - dense_1_acc_11: 1.0000 - dense_1_acc_12: 1.0000 - dense_1_acc_13: 1.0000 - dense_1_acc_14: 1.0000 - dense_1_acc_15: 1.0000 - dense_1_acc_16: 1.0000 - dense_1_acc_17: 1.0000 - dense_1_acc_18: 1.0000 - dense_1_acc_19: 1.0000 - dense_1_acc_20: 1.0000 - dense_1_acc_21: 1.0000 - dense_1_acc_22: 1.0000 - dense_1_acc_23: 1.0000 - dense_1_acc_24: 1.0000 - dense_1_acc_25: 1.0000 - dense_1_acc_26: 1.0000 - dense_1_acc_27: 1.0000 - dense_1_acc_28: 1.0000 - dense_1_acc_29: 1.0000 - dense_1_acc_30: 0.0000e+00     \n",
      "Epoch 79/100\n",
      "60/60 [==============================] - 0s - loss: 6.7051 - dense_1_loss_1: 3.8111 - dense_1_loss_2: 1.3782 - dense_1_loss_3: 0.4694 - dense_1_loss_4: 0.1226 - dense_1_loss_5: 0.0838 - dense_1_loss_6: 0.0537 - dense_1_loss_7: 0.0471 - dense_1_loss_8: 0.0415 - dense_1_loss_9: 0.0359 - dense_1_loss_10: 0.0314 - dense_1_loss_11: 0.0311 - dense_1_loss_12: 0.0321 - dense_1_loss_13: 0.0294 - dense_1_loss_14: 0.0302 - dense_1_loss_15: 0.0326 - dense_1_loss_16: 0.0321 - dense_1_loss_17: 0.0301 - dense_1_loss_18: 0.0308 - dense_1_loss_19: 0.0310 - dense_1_loss_20: 0.0355 - dense_1_loss_21: 0.0363 - dense_1_loss_22: 0.0348 - dense_1_loss_23: 0.0331 - dense_1_loss_24: 0.0318 - dense_1_loss_25: 0.0331 - dense_1_loss_26: 0.0343 - dense_1_loss_27: 0.0338 - dense_1_loss_28: 0.0374 - dense_1_loss_29: 0.0409 - dense_1_loss_30: 0.0000e+00 - dense_1_acc_1: 0.1000 - dense_1_acc_2: 0.6167 - dense_1_acc_3: 0.8833 - dense_1_acc_4: 1.0000 - dense_1_acc_5: 1.0000 - dense_1_acc_6: 1.0000 - dense_1_acc_7: 1.0000 - dense_1_acc_8: 1.0000 - dense_1_acc_9: 1.0000 - dense_1_acc_10: 1.0000 - dense_1_acc_11: 1.0000 - dense_1_acc_12: 1.0000 - dense_1_acc_13: 1.0000 - dense_1_acc_14: 1.0000 - dense_1_acc_15: 1.0000 - dense_1_acc_16: 1.0000 - dense_1_acc_17: 1.0000 - dense_1_acc_18: 1.0000 - dense_1_acc_19: 1.0000 - dense_1_acc_20: 1.0000 - dense_1_acc_21: 1.0000 - dense_1_acc_22: 1.0000 - dense_1_acc_23: 1.0000 - dense_1_acc_24: 1.0000 - dense_1_acc_25: 1.0000 - dense_1_acc_26: 1.0000 - dense_1_acc_27: 1.0000 - dense_1_acc_28: 1.0000 - dense_1_acc_29: 1.0000 - dense_1_acc_30: 0.0000e+00     \n",
      "Epoch 80/100\n",
      "60/60 [==============================] - 0s - loss: 6.6502 - dense_1_loss_1: 3.8078 - dense_1_loss_2: 1.3630 - dense_1_loss_3: 0.4614 - dense_1_loss_4: 0.1197 - dense_1_loss_5: 0.0818 - dense_1_loss_6: 0.0522 - dense_1_loss_7: 0.0460 - dense_1_loss_8: 0.0404 - dense_1_loss_9: 0.0350 - dense_1_loss_10: 0.0305 - dense_1_loss_11: 0.0301 - dense_1_loss_12: 0.0313 - dense_1_loss_13: 0.0286 - dense_1_loss_14: 0.0293 - dense_1_loss_15: 0.0317 - dense_1_loss_16: 0.0311 - dense_1_loss_17: 0.0294 - dense_1_loss_18: 0.0300 - dense_1_loss_19: 0.0301 - dense_1_loss_20: 0.0344 - dense_1_loss_21: 0.0351 - dense_1_loss_22: 0.0338 - dense_1_loss_23: 0.0321 - dense_1_loss_24: 0.0309 - dense_1_loss_25: 0.0322 - dense_1_loss_26: 0.0332 - dense_1_loss_27: 0.0328 - dense_1_loss_28: 0.0363 - dense_1_loss_29: 0.0397 - dense_1_loss_30: 0.0000e+00 - dense_1_acc_1: 0.1000 - dense_1_acc_2: 0.6167 - dense_1_acc_3: 0.9000 - dense_1_acc_4: 1.0000 - dense_1_acc_5: 1.0000 - dense_1_acc_6: 1.0000 - dense_1_acc_7: 1.0000 - dense_1_acc_8: 1.0000 - dense_1_acc_9: 1.0000 - dense_1_acc_10: 1.0000 - dense_1_acc_11: 1.0000 - dense_1_acc_12: 1.0000 - dense_1_acc_13: 1.0000 - dense_1_acc_14: 1.0000 - dense_1_acc_15: 1.0000 - dense_1_acc_16: 1.0000 - dense_1_acc_17: 1.0000 - dense_1_acc_18: 1.0000 - dense_1_acc_19: 1.0000 - dense_1_acc_20: 1.0000 - dense_1_acc_21: 1.0000 - dense_1_acc_22: 1.0000 - dense_1_acc_23: 1.0000 - dense_1_acc_24: 1.0000 - dense_1_acc_25: 1.0000 - dense_1_acc_26: 1.0000 - dense_1_acc_27: 1.0000 - dense_1_acc_28: 1.0000 - dense_1_acc_29: 1.0000 - dense_1_acc_30: 0.0000e+00     \n",
      "Epoch 81/100\n"
     ]
    },
    {
     "name": "stdout",
     "output_type": "stream",
     "text": [
      "60/60 [==============================] - 0s - loss: 6.5959 - dense_1_loss_1: 3.8047 - dense_1_loss_2: 1.3484 - dense_1_loss_3: 0.4519 - dense_1_loss_4: 0.1168 - dense_1_loss_5: 0.0796 - dense_1_loss_6: 0.0503 - dense_1_loss_7: 0.0447 - dense_1_loss_8: 0.0391 - dense_1_loss_9: 0.0341 - dense_1_loss_10: 0.0297 - dense_1_loss_11: 0.0293 - dense_1_loss_12: 0.0306 - dense_1_loss_13: 0.0279 - dense_1_loss_14: 0.0284 - dense_1_loss_15: 0.0310 - dense_1_loss_16: 0.0302 - dense_1_loss_17: 0.0287 - dense_1_loss_18: 0.0292 - dense_1_loss_19: 0.0293 - dense_1_loss_20: 0.0335 - dense_1_loss_21: 0.0342 - dense_1_loss_22: 0.0331 - dense_1_loss_23: 0.0312 - dense_1_loss_24: 0.0301 - dense_1_loss_25: 0.0315 - dense_1_loss_26: 0.0324 - dense_1_loss_27: 0.0320 - dense_1_loss_28: 0.0355 - dense_1_loss_29: 0.0387 - dense_1_loss_30: 0.0000e+00 - dense_1_acc_1: 0.1000 - dense_1_acc_2: 0.6167 - dense_1_acc_3: 0.9000 - dense_1_acc_4: 1.0000 - dense_1_acc_5: 1.0000 - dense_1_acc_6: 1.0000 - dense_1_acc_7: 1.0000 - dense_1_acc_8: 1.0000 - dense_1_acc_9: 1.0000 - dense_1_acc_10: 1.0000 - dense_1_acc_11: 1.0000 - dense_1_acc_12: 1.0000 - dense_1_acc_13: 1.0000 - dense_1_acc_14: 1.0000 - dense_1_acc_15: 1.0000 - dense_1_acc_16: 1.0000 - dense_1_acc_17: 1.0000 - dense_1_acc_18: 1.0000 - dense_1_acc_19: 1.0000 - dense_1_acc_20: 1.0000 - dense_1_acc_21: 1.0000 - dense_1_acc_22: 1.0000 - dense_1_acc_23: 1.0000 - dense_1_acc_24: 1.0000 - dense_1_acc_25: 1.0000 - dense_1_acc_26: 1.0000 - dense_1_acc_27: 1.0000 - dense_1_acc_28: 1.0000 - dense_1_acc_29: 1.0000 - dense_1_acc_30: 0.0000e+00     \n",
      "Epoch 82/100\n",
      "60/60 [==============================] - 0s - loss: 6.5454 - dense_1_loss_1: 3.8016 - dense_1_loss_2: 1.3345 - dense_1_loss_3: 0.4438 - dense_1_loss_4: 0.1142 - dense_1_loss_5: 0.0777 - dense_1_loss_6: 0.0492 - dense_1_loss_7: 0.0435 - dense_1_loss_8: 0.0381 - dense_1_loss_9: 0.0332 - dense_1_loss_10: 0.0289 - dense_1_loss_11: 0.0285 - dense_1_loss_12: 0.0298 - dense_1_loss_13: 0.0271 - dense_1_loss_14: 0.0277 - dense_1_loss_15: 0.0302 - dense_1_loss_16: 0.0295 - dense_1_loss_17: 0.0279 - dense_1_loss_18: 0.0285 - dense_1_loss_19: 0.0285 - dense_1_loss_20: 0.0326 - dense_1_loss_21: 0.0333 - dense_1_loss_22: 0.0321 - dense_1_loss_23: 0.0304 - dense_1_loss_24: 0.0293 - dense_1_loss_25: 0.0306 - dense_1_loss_26: 0.0315 - dense_1_loss_27: 0.0311 - dense_1_loss_28: 0.0345 - dense_1_loss_29: 0.0377 - dense_1_loss_30: 0.0000e+00 - dense_1_acc_1: 0.1000 - dense_1_acc_2: 0.6167 - dense_1_acc_3: 0.9000 - dense_1_acc_4: 1.0000 - dense_1_acc_5: 1.0000 - dense_1_acc_6: 1.0000 - dense_1_acc_7: 1.0000 - dense_1_acc_8: 1.0000 - dense_1_acc_9: 1.0000 - dense_1_acc_10: 1.0000 - dense_1_acc_11: 1.0000 - dense_1_acc_12: 1.0000 - dense_1_acc_13: 1.0000 - dense_1_acc_14: 1.0000 - dense_1_acc_15: 1.0000 - dense_1_acc_16: 1.0000 - dense_1_acc_17: 1.0000 - dense_1_acc_18: 1.0000 - dense_1_acc_19: 1.0000 - dense_1_acc_20: 1.0000 - dense_1_acc_21: 1.0000 - dense_1_acc_22: 1.0000 - dense_1_acc_23: 1.0000 - dense_1_acc_24: 1.0000 - dense_1_acc_25: 1.0000 - dense_1_acc_26: 1.0000 - dense_1_acc_27: 1.0000 - dense_1_acc_28: 1.0000 - dense_1_acc_29: 1.0000 - dense_1_acc_30: 0.0000e+00     \n",
      "Epoch 83/100\n",
      "60/60 [==============================] - 0s - loss: 6.4934 - dense_1_loss_1: 3.7984 - dense_1_loss_2: 1.3198 - dense_1_loss_3: 0.4353 - dense_1_loss_4: 0.1112 - dense_1_loss_5: 0.0755 - dense_1_loss_6: 0.0480 - dense_1_loss_7: 0.0422 - dense_1_loss_8: 0.0371 - dense_1_loss_9: 0.0322 - dense_1_loss_10: 0.0280 - dense_1_loss_11: 0.0277 - dense_1_loss_12: 0.0289 - dense_1_loss_13: 0.0264 - dense_1_loss_14: 0.0271 - dense_1_loss_15: 0.0293 - dense_1_loss_16: 0.0289 - dense_1_loss_17: 0.0271 - dense_1_loss_18: 0.0277 - dense_1_loss_19: 0.0277 - dense_1_loss_20: 0.0317 - dense_1_loss_21: 0.0323 - dense_1_loss_22: 0.0312 - dense_1_loss_23: 0.0296 - dense_1_loss_24: 0.0287 - dense_1_loss_25: 0.0297 - dense_1_loss_26: 0.0308 - dense_1_loss_27: 0.0305 - dense_1_loss_28: 0.0336 - dense_1_loss_29: 0.0368 - dense_1_loss_30: 0.0000e+00 - dense_1_acc_1: 0.1000 - dense_1_acc_2: 0.6167 - dense_1_acc_3: 0.9000 - dense_1_acc_4: 1.0000 - dense_1_acc_5: 1.0000 - dense_1_acc_6: 1.0000 - dense_1_acc_7: 1.0000 - dense_1_acc_8: 1.0000 - dense_1_acc_9: 1.0000 - dense_1_acc_10: 1.0000 - dense_1_acc_11: 1.0000 - dense_1_acc_12: 1.0000 - dense_1_acc_13: 1.0000 - dense_1_acc_14: 1.0000 - dense_1_acc_15: 1.0000 - dense_1_acc_16: 1.0000 - dense_1_acc_17: 1.0000 - dense_1_acc_18: 1.0000 - dense_1_acc_19: 1.0000 - dense_1_acc_20: 1.0000 - dense_1_acc_21: 1.0000 - dense_1_acc_22: 1.0000 - dense_1_acc_23: 1.0000 - dense_1_acc_24: 1.0000 - dense_1_acc_25: 1.0000 - dense_1_acc_26: 1.0000 - dense_1_acc_27: 1.0000 - dense_1_acc_28: 1.0000 - dense_1_acc_29: 1.0000 - dense_1_acc_30: 0.0000e+00     \n",
      "Epoch 84/100\n",
      "60/60 [==============================] - 0s - loss: 6.4455 - dense_1_loss_1: 3.7953 - dense_1_loss_2: 1.3061 - dense_1_loss_3: 0.4273 - dense_1_loss_4: 0.1088 - dense_1_loss_5: 0.0737 - dense_1_loss_6: 0.0468 - dense_1_loss_7: 0.0412 - dense_1_loss_8: 0.0361 - dense_1_loss_9: 0.0314 - dense_1_loss_10: 0.0274 - dense_1_loss_11: 0.0271 - dense_1_loss_12: 0.0282 - dense_1_loss_13: 0.0257 - dense_1_loss_14: 0.0264 - dense_1_loss_15: 0.0285 - dense_1_loss_16: 0.0281 - dense_1_loss_17: 0.0264 - dense_1_loss_18: 0.0270 - dense_1_loss_19: 0.0271 - dense_1_loss_20: 0.0309 - dense_1_loss_21: 0.0315 - dense_1_loss_22: 0.0304 - dense_1_loss_23: 0.0289 - dense_1_loss_24: 0.0280 - dense_1_loss_25: 0.0290 - dense_1_loss_26: 0.0300 - dense_1_loss_27: 0.0298 - dense_1_loss_28: 0.0327 - dense_1_loss_29: 0.0359 - dense_1_loss_30: 0.0000e+00 - dense_1_acc_1: 0.1000 - dense_1_acc_2: 0.6167 - dense_1_acc_3: 0.9000 - dense_1_acc_4: 1.0000 - dense_1_acc_5: 1.0000 - dense_1_acc_6: 1.0000 - dense_1_acc_7: 1.0000 - dense_1_acc_8: 1.0000 - dense_1_acc_9: 1.0000 - dense_1_acc_10: 1.0000 - dense_1_acc_11: 1.0000 - dense_1_acc_12: 1.0000 - dense_1_acc_13: 1.0000 - dense_1_acc_14: 1.0000 - dense_1_acc_15: 1.0000 - dense_1_acc_16: 1.0000 - dense_1_acc_17: 1.0000 - dense_1_acc_18: 1.0000 - dense_1_acc_19: 1.0000 - dense_1_acc_20: 1.0000 - dense_1_acc_21: 1.0000 - dense_1_acc_22: 1.0000 - dense_1_acc_23: 1.0000 - dense_1_acc_24: 1.0000 - dense_1_acc_25: 1.0000 - dense_1_acc_26: 1.0000 - dense_1_acc_27: 1.0000 - dense_1_acc_28: 1.0000 - dense_1_acc_29: 1.0000 - dense_1_acc_30: 0.0000e+00     \n",
      "Epoch 85/100\n",
      "60/60 [==============================] - 0s - loss: 6.3991 - dense_1_loss_1: 3.7921 - dense_1_loss_2: 1.2934 - dense_1_loss_3: 0.4192 - dense_1_loss_4: 0.1064 - dense_1_loss_5: 0.0719 - dense_1_loss_6: 0.0455 - dense_1_loss_7: 0.0402 - dense_1_loss_8: 0.0352 - dense_1_loss_9: 0.0306 - dense_1_loss_10: 0.0267 - dense_1_loss_11: 0.0264 - dense_1_loss_12: 0.0275 - dense_1_loss_13: 0.0251 - dense_1_loss_14: 0.0257 - dense_1_loss_15: 0.0278 - dense_1_loss_16: 0.0274 - dense_1_loss_17: 0.0257 - dense_1_loss_18: 0.0264 - dense_1_loss_19: 0.0265 - dense_1_loss_20: 0.0301 - dense_1_loss_21: 0.0307 - dense_1_loss_22: 0.0296 - dense_1_loss_23: 0.0282 - dense_1_loss_24: 0.0272 - dense_1_loss_25: 0.0283 - dense_1_loss_26: 0.0292 - dense_1_loss_27: 0.0291 - dense_1_loss_28: 0.0318 - dense_1_loss_29: 0.0350 - dense_1_loss_30: 0.0000e+00 - dense_1_acc_1: 0.1000 - dense_1_acc_2: 0.6333 - dense_1_acc_3: 0.9000 - dense_1_acc_4: 1.0000 - dense_1_acc_5: 1.0000 - dense_1_acc_6: 1.0000 - dense_1_acc_7: 1.0000 - dense_1_acc_8: 1.0000 - dense_1_acc_9: 1.0000 - dense_1_acc_10: 1.0000 - dense_1_acc_11: 1.0000 - dense_1_acc_12: 1.0000 - dense_1_acc_13: 1.0000 - dense_1_acc_14: 1.0000 - dense_1_acc_15: 1.0000 - dense_1_acc_16: 1.0000 - dense_1_acc_17: 1.0000 - dense_1_acc_18: 1.0000 - dense_1_acc_19: 1.0000 - dense_1_acc_20: 1.0000 - dense_1_acc_21: 1.0000 - dense_1_acc_22: 1.0000 - dense_1_acc_23: 1.0000 - dense_1_acc_24: 1.0000 - dense_1_acc_25: 1.0000 - dense_1_acc_26: 1.0000 - dense_1_acc_27: 1.0000 - dense_1_acc_28: 1.0000 - dense_1_acc_29: 1.0000 - dense_1_acc_30: 0.0000e+00     \n",
      "Epoch 86/100\n"
     ]
    },
    {
     "name": "stdout",
     "output_type": "stream",
     "text": [
      "60/60 [==============================] - 0s - loss: 6.3547 - dense_1_loss_1: 3.7894 - dense_1_loss_2: 1.2800 - dense_1_loss_3: 0.4119 - dense_1_loss_4: 0.1041 - dense_1_loss_5: 0.0704 - dense_1_loss_6: 0.0444 - dense_1_loss_7: 0.0392 - dense_1_loss_8: 0.0344 - dense_1_loss_9: 0.0299 - dense_1_loss_10: 0.0261 - dense_1_loss_11: 0.0258 - dense_1_loss_12: 0.0269 - dense_1_loss_13: 0.0245 - dense_1_loss_14: 0.0250 - dense_1_loss_15: 0.0272 - dense_1_loss_16: 0.0267 - dense_1_loss_17: 0.0252 - dense_1_loss_18: 0.0257 - dense_1_loss_19: 0.0259 - dense_1_loss_20: 0.0294 - dense_1_loss_21: 0.0299 - dense_1_loss_22: 0.0290 - dense_1_loss_23: 0.0275 - dense_1_loss_24: 0.0265 - dense_1_loss_25: 0.0277 - dense_1_loss_26: 0.0285 - dense_1_loss_27: 0.0283 - dense_1_loss_28: 0.0310 - dense_1_loss_29: 0.0342 - dense_1_loss_30: 0.0000e+00 - dense_1_acc_1: 0.1000 - dense_1_acc_2: 0.6333 - dense_1_acc_3: 0.9000 - dense_1_acc_4: 1.0000 - dense_1_acc_5: 1.0000 - dense_1_acc_6: 1.0000 - dense_1_acc_7: 1.0000 - dense_1_acc_8: 1.0000 - dense_1_acc_9: 1.0000 - dense_1_acc_10: 1.0000 - dense_1_acc_11: 1.0000 - dense_1_acc_12: 1.0000 - dense_1_acc_13: 1.0000 - dense_1_acc_14: 1.0000 - dense_1_acc_15: 1.0000 - dense_1_acc_16: 1.0000 - dense_1_acc_17: 1.0000 - dense_1_acc_18: 1.0000 - dense_1_acc_19: 1.0000 - dense_1_acc_20: 1.0000 - dense_1_acc_21: 1.0000 - dense_1_acc_22: 1.0000 - dense_1_acc_23: 1.0000 - dense_1_acc_24: 1.0000 - dense_1_acc_25: 1.0000 - dense_1_acc_26: 1.0000 - dense_1_acc_27: 1.0000 - dense_1_acc_28: 1.0000 - dense_1_acc_29: 1.0000 - dense_1_acc_30: 0.0000e+00     \n",
      "Epoch 87/100\n",
      "60/60 [==============================] - 0s - loss: 6.3124 - dense_1_loss_1: 3.7860 - dense_1_loss_2: 1.2678 - dense_1_loss_3: 0.4051 - dense_1_loss_4: 0.1020 - dense_1_loss_5: 0.0690 - dense_1_loss_6: 0.0434 - dense_1_loss_7: 0.0384 - dense_1_loss_8: 0.0336 - dense_1_loss_9: 0.0292 - dense_1_loss_10: 0.0255 - dense_1_loss_11: 0.0252 - dense_1_loss_12: 0.0262 - dense_1_loss_13: 0.0239 - dense_1_loss_14: 0.0244 - dense_1_loss_15: 0.0266 - dense_1_loss_16: 0.0261 - dense_1_loss_17: 0.0246 - dense_1_loss_18: 0.0251 - dense_1_loss_19: 0.0252 - dense_1_loss_20: 0.0287 - dense_1_loss_21: 0.0292 - dense_1_loss_22: 0.0282 - dense_1_loss_23: 0.0269 - dense_1_loss_24: 0.0258 - dense_1_loss_25: 0.0271 - dense_1_loss_26: 0.0278 - dense_1_loss_27: 0.0276 - dense_1_loss_28: 0.0302 - dense_1_loss_29: 0.0334 - dense_1_loss_30: 0.0000e+00 - dense_1_acc_1: 0.1000 - dense_1_acc_2: 0.6333 - dense_1_acc_3: 0.9000 - dense_1_acc_4: 1.0000 - dense_1_acc_5: 1.0000 - dense_1_acc_6: 1.0000 - dense_1_acc_7: 1.0000 - dense_1_acc_8: 1.0000 - dense_1_acc_9: 1.0000 - dense_1_acc_10: 1.0000 - dense_1_acc_11: 1.0000 - dense_1_acc_12: 1.0000 - dense_1_acc_13: 1.0000 - dense_1_acc_14: 1.0000 - dense_1_acc_15: 1.0000 - dense_1_acc_16: 1.0000 - dense_1_acc_17: 1.0000 - dense_1_acc_18: 1.0000 - dense_1_acc_19: 1.0000 - dense_1_acc_20: 1.0000 - dense_1_acc_21: 1.0000 - dense_1_acc_22: 1.0000 - dense_1_acc_23: 1.0000 - dense_1_acc_24: 1.0000 - dense_1_acc_25: 1.0000 - dense_1_acc_26: 1.0000 - dense_1_acc_27: 1.0000 - dense_1_acc_28: 1.0000 - dense_1_acc_29: 1.0000 - dense_1_acc_30: 0.0000e+00     \n",
      "Epoch 88/100\n",
      "60/60 [==============================] - 0s - loss: 6.2697 - dense_1_loss_1: 3.7829 - dense_1_loss_2: 1.2551 - dense_1_loss_3: 0.3977 - dense_1_loss_4: 0.1000 - dense_1_loss_5: 0.0674 - dense_1_loss_6: 0.0423 - dense_1_loss_7: 0.0375 - dense_1_loss_8: 0.0329 - dense_1_loss_9: 0.0285 - dense_1_loss_10: 0.0250 - dense_1_loss_11: 0.0246 - dense_1_loss_12: 0.0256 - dense_1_loss_13: 0.0234 - dense_1_loss_14: 0.0239 - dense_1_loss_15: 0.0260 - dense_1_loss_16: 0.0254 - dense_1_loss_17: 0.0240 - dense_1_loss_18: 0.0246 - dense_1_loss_19: 0.0245 - dense_1_loss_20: 0.0281 - dense_1_loss_21: 0.0285 - dense_1_loss_22: 0.0276 - dense_1_loss_23: 0.0262 - dense_1_loss_24: 0.0253 - dense_1_loss_25: 0.0264 - dense_1_loss_26: 0.0272 - dense_1_loss_27: 0.0270 - dense_1_loss_28: 0.0296 - dense_1_loss_29: 0.0326 - dense_1_loss_30: 0.0000e+00 - dense_1_acc_1: 0.1000 - dense_1_acc_2: 0.6333 - dense_1_acc_3: 0.9000 - dense_1_acc_4: 1.0000 - dense_1_acc_5: 1.0000 - dense_1_acc_6: 1.0000 - dense_1_acc_7: 1.0000 - dense_1_acc_8: 1.0000 - dense_1_acc_9: 1.0000 - dense_1_acc_10: 1.0000 - dense_1_acc_11: 1.0000 - dense_1_acc_12: 1.0000 - dense_1_acc_13: 1.0000 - dense_1_acc_14: 1.0000 - dense_1_acc_15: 1.0000 - dense_1_acc_16: 1.0000 - dense_1_acc_17: 1.0000 - dense_1_acc_18: 1.0000 - dense_1_acc_19: 1.0000 - dense_1_acc_20: 1.0000 - dense_1_acc_21: 1.0000 - dense_1_acc_22: 1.0000 - dense_1_acc_23: 1.0000 - dense_1_acc_24: 1.0000 - dense_1_acc_25: 1.0000 - dense_1_acc_26: 1.0000 - dense_1_acc_27: 1.0000 - dense_1_acc_28: 1.0000 - dense_1_acc_29: 1.0000 - dense_1_acc_30: 0.0000e+00     \n",
      "Epoch 89/100\n",
      "60/60 [==============================] - 0s - loss: 6.2284 - dense_1_loss_1: 3.7798 - dense_1_loss_2: 1.2429 - dense_1_loss_3: 0.3908 - dense_1_loss_4: 0.0976 - dense_1_loss_5: 0.0658 - dense_1_loss_6: 0.0413 - dense_1_loss_7: 0.0366 - dense_1_loss_8: 0.0321 - dense_1_loss_9: 0.0278 - dense_1_loss_10: 0.0244 - dense_1_loss_11: 0.0239 - dense_1_loss_12: 0.0251 - dense_1_loss_13: 0.0229 - dense_1_loss_14: 0.0234 - dense_1_loss_15: 0.0254 - dense_1_loss_16: 0.0249 - dense_1_loss_17: 0.0234 - dense_1_loss_18: 0.0240 - dense_1_loss_19: 0.0240 - dense_1_loss_20: 0.0274 - dense_1_loss_21: 0.0278 - dense_1_loss_22: 0.0269 - dense_1_loss_23: 0.0256 - dense_1_loss_24: 0.0248 - dense_1_loss_25: 0.0258 - dense_1_loss_26: 0.0266 - dense_1_loss_27: 0.0265 - dense_1_loss_28: 0.0289 - dense_1_loss_29: 0.0320 - dense_1_loss_30: 0.0000e+00 - dense_1_acc_1: 0.1000 - dense_1_acc_2: 0.6333 - dense_1_acc_3: 0.9000 - dense_1_acc_4: 1.0000 - dense_1_acc_5: 1.0000 - dense_1_acc_6: 1.0000 - dense_1_acc_7: 1.0000 - dense_1_acc_8: 1.0000 - dense_1_acc_9: 1.0000 - dense_1_acc_10: 1.0000 - dense_1_acc_11: 1.0000 - dense_1_acc_12: 1.0000 - dense_1_acc_13: 1.0000 - dense_1_acc_14: 1.0000 - dense_1_acc_15: 1.0000 - dense_1_acc_16: 1.0000 - dense_1_acc_17: 1.0000 - dense_1_acc_18: 1.0000 - dense_1_acc_19: 1.0000 - dense_1_acc_20: 1.0000 - dense_1_acc_21: 1.0000 - dense_1_acc_22: 1.0000 - dense_1_acc_23: 1.0000 - dense_1_acc_24: 1.0000 - dense_1_acc_25: 1.0000 - dense_1_acc_26: 1.0000 - dense_1_acc_27: 1.0000 - dense_1_acc_28: 1.0000 - dense_1_acc_29: 1.0000 - dense_1_acc_30: 0.0000e+00     \n",
      "Epoch 90/100\n",
      "60/60 [==============================] - 0s - loss: 6.1900 - dense_1_loss_1: 3.7769 - dense_1_loss_2: 1.2315 - dense_1_loss_3: 0.3843 - dense_1_loss_4: 0.0957 - dense_1_loss_5: 0.0645 - dense_1_loss_6: 0.0405 - dense_1_loss_7: 0.0358 - dense_1_loss_8: 0.0315 - dense_1_loss_9: 0.0271 - dense_1_loss_10: 0.0239 - dense_1_loss_11: 0.0234 - dense_1_loss_12: 0.0245 - dense_1_loss_13: 0.0223 - dense_1_loss_14: 0.0228 - dense_1_loss_15: 0.0249 - dense_1_loss_16: 0.0244 - dense_1_loss_17: 0.0229 - dense_1_loss_18: 0.0235 - dense_1_loss_19: 0.0235 - dense_1_loss_20: 0.0268 - dense_1_loss_21: 0.0272 - dense_1_loss_22: 0.0263 - dense_1_loss_23: 0.0250 - dense_1_loss_24: 0.0243 - dense_1_loss_25: 0.0253 - dense_1_loss_26: 0.0260 - dense_1_loss_27: 0.0259 - dense_1_loss_28: 0.0283 - dense_1_loss_29: 0.0312 - dense_1_loss_30: 0.0000e+00 - dense_1_acc_1: 0.1000 - dense_1_acc_2: 0.6500 - dense_1_acc_3: 0.9000 - dense_1_acc_4: 1.0000 - dense_1_acc_5: 1.0000 - dense_1_acc_6: 1.0000 - dense_1_acc_7: 1.0000 - dense_1_acc_8: 1.0000 - dense_1_acc_9: 1.0000 - dense_1_acc_10: 1.0000 - dense_1_acc_11: 1.0000 - dense_1_acc_12: 1.0000 - dense_1_acc_13: 1.0000 - dense_1_acc_14: 1.0000 - dense_1_acc_15: 1.0000 - dense_1_acc_16: 1.0000 - dense_1_acc_17: 1.0000 - dense_1_acc_18: 1.0000 - dense_1_acc_19: 1.0000 - dense_1_acc_20: 1.0000 - dense_1_acc_21: 1.0000 - dense_1_acc_22: 1.0000 - dense_1_acc_23: 1.0000 - dense_1_acc_24: 1.0000 - dense_1_acc_25: 1.0000 - dense_1_acc_26: 1.0000 - dense_1_acc_27: 1.0000 - dense_1_acc_28: 1.0000 - dense_1_acc_29: 1.0000 - dense_1_acc_30: 0.0000e+00     \n",
      "Epoch 91/100\n"
     ]
    },
    {
     "name": "stdout",
     "output_type": "stream",
     "text": [
      "60/60 [==============================] - 0s - loss: 6.1523 - dense_1_loss_1: 3.7741 - dense_1_loss_2: 1.2197 - dense_1_loss_3: 0.3785 - dense_1_loss_4: 0.0938 - dense_1_loss_5: 0.0631 - dense_1_loss_6: 0.0396 - dense_1_loss_7: 0.0350 - dense_1_loss_8: 0.0308 - dense_1_loss_9: 0.0265 - dense_1_loss_10: 0.0234 - dense_1_loss_11: 0.0228 - dense_1_loss_12: 0.0240 - dense_1_loss_13: 0.0218 - dense_1_loss_14: 0.0223 - dense_1_loss_15: 0.0243 - dense_1_loss_16: 0.0239 - dense_1_loss_17: 0.0224 - dense_1_loss_18: 0.0230 - dense_1_loss_19: 0.0229 - dense_1_loss_20: 0.0263 - dense_1_loss_21: 0.0266 - dense_1_loss_22: 0.0258 - dense_1_loss_23: 0.0244 - dense_1_loss_24: 0.0237 - dense_1_loss_25: 0.0247 - dense_1_loss_26: 0.0254 - dense_1_loss_27: 0.0253 - dense_1_loss_28: 0.0277 - dense_1_loss_29: 0.0306 - dense_1_loss_30: 0.0000e+00 - dense_1_acc_1: 0.1000 - dense_1_acc_2: 0.6500 - dense_1_acc_3: 0.9167 - dense_1_acc_4: 1.0000 - dense_1_acc_5: 1.0000 - dense_1_acc_6: 1.0000 - dense_1_acc_7: 1.0000 - dense_1_acc_8: 1.0000 - dense_1_acc_9: 1.0000 - dense_1_acc_10: 1.0000 - dense_1_acc_11: 1.0000 - dense_1_acc_12: 1.0000 - dense_1_acc_13: 1.0000 - dense_1_acc_14: 1.0000 - dense_1_acc_15: 1.0000 - dense_1_acc_16: 1.0000 - dense_1_acc_17: 1.0000 - dense_1_acc_18: 1.0000 - dense_1_acc_19: 1.0000 - dense_1_acc_20: 1.0000 - dense_1_acc_21: 1.0000 - dense_1_acc_22: 1.0000 - dense_1_acc_23: 1.0000 - dense_1_acc_24: 1.0000 - dense_1_acc_25: 1.0000 - dense_1_acc_26: 1.0000 - dense_1_acc_27: 1.0000 - dense_1_acc_28: 1.0000 - dense_1_acc_29: 1.0000 - dense_1_acc_30: 0.0000e+00     \n",
      "Epoch 92/100\n",
      "60/60 [==============================] - 0s - loss: 6.1144 - dense_1_loss_1: 3.7708 - dense_1_loss_2: 1.2082 - dense_1_loss_3: 0.3722 - dense_1_loss_4: 0.0919 - dense_1_loss_5: 0.0618 - dense_1_loss_6: 0.0387 - dense_1_loss_7: 0.0343 - dense_1_loss_8: 0.0301 - dense_1_loss_9: 0.0259 - dense_1_loss_10: 0.0229 - dense_1_loss_11: 0.0223 - dense_1_loss_12: 0.0234 - dense_1_loss_13: 0.0213 - dense_1_loss_14: 0.0218 - dense_1_loss_15: 0.0238 - dense_1_loss_16: 0.0233 - dense_1_loss_17: 0.0219 - dense_1_loss_18: 0.0225 - dense_1_loss_19: 0.0224 - dense_1_loss_20: 0.0257 - dense_1_loss_21: 0.0260 - dense_1_loss_22: 0.0252 - dense_1_loss_23: 0.0238 - dense_1_loss_24: 0.0232 - dense_1_loss_25: 0.0241 - dense_1_loss_26: 0.0248 - dense_1_loss_27: 0.0248 - dense_1_loss_28: 0.0271 - dense_1_loss_29: 0.0299 - dense_1_loss_30: 0.0000e+00 - dense_1_acc_1: 0.1000 - dense_1_acc_2: 0.6500 - dense_1_acc_3: 0.9167 - dense_1_acc_4: 1.0000 - dense_1_acc_5: 1.0000 - dense_1_acc_6: 1.0000 - dense_1_acc_7: 1.0000 - dense_1_acc_8: 1.0000 - dense_1_acc_9: 1.0000 - dense_1_acc_10: 1.0000 - dense_1_acc_11: 1.0000 - dense_1_acc_12: 1.0000 - dense_1_acc_13: 1.0000 - dense_1_acc_14: 1.0000 - dense_1_acc_15: 1.0000 - dense_1_acc_16: 1.0000 - dense_1_acc_17: 1.0000 - dense_1_acc_18: 1.0000 - dense_1_acc_19: 1.0000 - dense_1_acc_20: 1.0000 - dense_1_acc_21: 1.0000 - dense_1_acc_22: 1.0000 - dense_1_acc_23: 1.0000 - dense_1_acc_24: 1.0000 - dense_1_acc_25: 1.0000 - dense_1_acc_26: 1.0000 - dense_1_acc_27: 1.0000 - dense_1_acc_28: 1.0000 - dense_1_acc_29: 1.0000 - dense_1_acc_30: 0.0000e+00     \n",
      "Epoch 93/100\n",
      "60/60 [==============================] - 0s - loss: 6.0794 - dense_1_loss_1: 3.7678 - dense_1_loss_2: 1.1975 - dense_1_loss_3: 0.3665 - dense_1_loss_4: 0.0903 - dense_1_loss_5: 0.0606 - dense_1_loss_6: 0.0378 - dense_1_loss_7: 0.0337 - dense_1_loss_8: 0.0295 - dense_1_loss_9: 0.0254 - dense_1_loss_10: 0.0224 - dense_1_loss_11: 0.0219 - dense_1_loss_12: 0.0230 - dense_1_loss_13: 0.0209 - dense_1_loss_14: 0.0213 - dense_1_loss_15: 0.0233 - dense_1_loss_16: 0.0228 - dense_1_loss_17: 0.0215 - dense_1_loss_18: 0.0220 - dense_1_loss_19: 0.0220 - dense_1_loss_20: 0.0251 - dense_1_loss_21: 0.0254 - dense_1_loss_22: 0.0247 - dense_1_loss_23: 0.0233 - dense_1_loss_24: 0.0227 - dense_1_loss_25: 0.0236 - dense_1_loss_26: 0.0244 - dense_1_loss_27: 0.0243 - dense_1_loss_28: 0.0265 - dense_1_loss_29: 0.0293 - dense_1_loss_30: 0.0000e+00 - dense_1_acc_1: 0.1000 - dense_1_acc_2: 0.6500 - dense_1_acc_3: 0.9167 - dense_1_acc_4: 1.0000 - dense_1_acc_5: 1.0000 - dense_1_acc_6: 1.0000 - dense_1_acc_7: 1.0000 - dense_1_acc_8: 1.0000 - dense_1_acc_9: 1.0000 - dense_1_acc_10: 1.0000 - dense_1_acc_11: 1.0000 - dense_1_acc_12: 1.0000 - dense_1_acc_13: 1.0000 - dense_1_acc_14: 1.0000 - dense_1_acc_15: 1.0000 - dense_1_acc_16: 1.0000 - dense_1_acc_17: 1.0000 - dense_1_acc_18: 1.0000 - dense_1_acc_19: 1.0000 - dense_1_acc_20: 1.0000 - dense_1_acc_21: 1.0000 - dense_1_acc_22: 1.0000 - dense_1_acc_23: 1.0000 - dense_1_acc_24: 1.0000 - dense_1_acc_25: 1.0000 - dense_1_acc_26: 1.0000 - dense_1_acc_27: 1.0000 - dense_1_acc_28: 1.0000 - dense_1_acc_29: 1.0000 - dense_1_acc_30: 0.0000e+00     \n",
      "Epoch 94/100\n",
      "60/60 [==============================] - 0s - loss: 6.0446 - dense_1_loss_1: 3.7652 - dense_1_loss_2: 1.1866 - dense_1_loss_3: 0.3601 - dense_1_loss_4: 0.0888 - dense_1_loss_5: 0.0594 - dense_1_loss_6: 0.0370 - dense_1_loss_7: 0.0330 - dense_1_loss_8: 0.0289 - dense_1_loss_9: 0.0249 - dense_1_loss_10: 0.0219 - dense_1_loss_11: 0.0215 - dense_1_loss_12: 0.0225 - dense_1_loss_13: 0.0205 - dense_1_loss_14: 0.0209 - dense_1_loss_15: 0.0228 - dense_1_loss_16: 0.0224 - dense_1_loss_17: 0.0211 - dense_1_loss_18: 0.0216 - dense_1_loss_19: 0.0215 - dense_1_loss_20: 0.0246 - dense_1_loss_21: 0.0249 - dense_1_loss_22: 0.0242 - dense_1_loss_23: 0.0229 - dense_1_loss_24: 0.0222 - dense_1_loss_25: 0.0231 - dense_1_loss_26: 0.0239 - dense_1_loss_27: 0.0238 - dense_1_loss_28: 0.0259 - dense_1_loss_29: 0.0287 - dense_1_loss_30: 0.0000e+00 - dense_1_acc_1: 0.1000 - dense_1_acc_2: 0.6500 - dense_1_acc_3: 0.9167 - dense_1_acc_4: 1.0000 - dense_1_acc_5: 1.0000 - dense_1_acc_6: 1.0000 - dense_1_acc_7: 1.0000 - dense_1_acc_8: 1.0000 - dense_1_acc_9: 1.0000 - dense_1_acc_10: 1.0000 - dense_1_acc_11: 1.0000 - dense_1_acc_12: 1.0000 - dense_1_acc_13: 1.0000 - dense_1_acc_14: 1.0000 - dense_1_acc_15: 1.0000 - dense_1_acc_16: 1.0000 - dense_1_acc_17: 1.0000 - dense_1_acc_18: 1.0000 - dense_1_acc_19: 1.0000 - dense_1_acc_20: 1.0000 - dense_1_acc_21: 1.0000 - dense_1_acc_22: 1.0000 - dense_1_acc_23: 1.0000 - dense_1_acc_24: 1.0000 - dense_1_acc_25: 1.0000 - dense_1_acc_26: 1.0000 - dense_1_acc_27: 1.0000 - dense_1_acc_28: 1.0000 - dense_1_acc_29: 1.0000 - dense_1_acc_30: 0.0000e+00     \n",
      "Epoch 95/100\n",
      "60/60 [==============================] - 0s - loss: 6.0110 - dense_1_loss_1: 3.7621 - dense_1_loss_2: 1.1763 - dense_1_loss_3: 0.3541 - dense_1_loss_4: 0.0873 - dense_1_loss_5: 0.0583 - dense_1_loss_6: 0.0362 - dense_1_loss_7: 0.0324 - dense_1_loss_8: 0.0283 - dense_1_loss_9: 0.0244 - dense_1_loss_10: 0.0215 - dense_1_loss_11: 0.0210 - dense_1_loss_12: 0.0220 - dense_1_loss_13: 0.0200 - dense_1_loss_14: 0.0204 - dense_1_loss_15: 0.0224 - dense_1_loss_16: 0.0219 - dense_1_loss_17: 0.0207 - dense_1_loss_18: 0.0212 - dense_1_loss_19: 0.0211 - dense_1_loss_20: 0.0241 - dense_1_loss_21: 0.0243 - dense_1_loss_22: 0.0237 - dense_1_loss_23: 0.0224 - dense_1_loss_24: 0.0218 - dense_1_loss_25: 0.0227 - dense_1_loss_26: 0.0234 - dense_1_loss_27: 0.0234 - dense_1_loss_28: 0.0255 - dense_1_loss_29: 0.0282 - dense_1_loss_30: 0.0000e+00 - dense_1_acc_1: 0.1000 - dense_1_acc_2: 0.6667 - dense_1_acc_3: 0.9167 - dense_1_acc_4: 1.0000 - dense_1_acc_5: 1.0000 - dense_1_acc_6: 1.0000 - dense_1_acc_7: 1.0000 - dense_1_acc_8: 1.0000 - dense_1_acc_9: 1.0000 - dense_1_acc_10: 1.0000 - dense_1_acc_11: 1.0000 - dense_1_acc_12: 1.0000 - dense_1_acc_13: 1.0000 - dense_1_acc_14: 1.0000 - dense_1_acc_15: 1.0000 - dense_1_acc_16: 1.0000 - dense_1_acc_17: 1.0000 - dense_1_acc_18: 1.0000 - dense_1_acc_19: 1.0000 - dense_1_acc_20: 1.0000 - dense_1_acc_21: 1.0000 - dense_1_acc_22: 1.0000 - dense_1_acc_23: 1.0000 - dense_1_acc_24: 1.0000 - dense_1_acc_25: 1.0000 - dense_1_acc_26: 1.0000 - dense_1_acc_27: 1.0000 - dense_1_acc_28: 1.0000 - dense_1_acc_29: 1.0000 - dense_1_acc_30: 0.0000e+00     \n",
      "Epoch 96/100\n"
     ]
    },
    {
     "name": "stdout",
     "output_type": "stream",
     "text": [
      "60/60 [==============================] - 0s - loss: 5.9778 - dense_1_loss_1: 3.7592 - dense_1_loss_2: 1.1656 - dense_1_loss_3: 0.3487 - dense_1_loss_4: 0.0857 - dense_1_loss_5: 0.0572 - dense_1_loss_6: 0.0356 - dense_1_loss_7: 0.0317 - dense_1_loss_8: 0.0278 - dense_1_loss_9: 0.0239 - dense_1_loss_10: 0.0211 - dense_1_loss_11: 0.0206 - dense_1_loss_12: 0.0216 - dense_1_loss_13: 0.0196 - dense_1_loss_14: 0.0201 - dense_1_loss_15: 0.0219 - dense_1_loss_16: 0.0215 - dense_1_loss_17: 0.0203 - dense_1_loss_18: 0.0207 - dense_1_loss_19: 0.0207 - dense_1_loss_20: 0.0236 - dense_1_loss_21: 0.0238 - dense_1_loss_22: 0.0231 - dense_1_loss_23: 0.0220 - dense_1_loss_24: 0.0213 - dense_1_loss_25: 0.0222 - dense_1_loss_26: 0.0229 - dense_1_loss_27: 0.0230 - dense_1_loss_28: 0.0250 - dense_1_loss_29: 0.0276 - dense_1_loss_30: 0.0000e+00 - dense_1_acc_1: 0.1000 - dense_1_acc_2: 0.6667 - dense_1_acc_3: 0.9167 - dense_1_acc_4: 1.0000 - dense_1_acc_5: 1.0000 - dense_1_acc_6: 1.0000 - dense_1_acc_7: 1.0000 - dense_1_acc_8: 1.0000 - dense_1_acc_9: 1.0000 - dense_1_acc_10: 1.0000 - dense_1_acc_11: 1.0000 - dense_1_acc_12: 1.0000 - dense_1_acc_13: 1.0000 - dense_1_acc_14: 1.0000 - dense_1_acc_15: 1.0000 - dense_1_acc_16: 1.0000 - dense_1_acc_17: 1.0000 - dense_1_acc_18: 1.0000 - dense_1_acc_19: 1.0000 - dense_1_acc_20: 1.0000 - dense_1_acc_21: 1.0000 - dense_1_acc_22: 1.0000 - dense_1_acc_23: 1.0000 - dense_1_acc_24: 1.0000 - dense_1_acc_25: 1.0000 - dense_1_acc_26: 1.0000 - dense_1_acc_27: 1.0000 - dense_1_acc_28: 1.0000 - dense_1_acc_29: 1.0000 - dense_1_acc_30: 0.0000e+00     \n",
      "Epoch 97/100\n",
      "60/60 [==============================] - 0s - loss: 5.9451 - dense_1_loss_1: 3.7564 - dense_1_loss_2: 1.1553 - dense_1_loss_3: 0.3431 - dense_1_loss_4: 0.0842 - dense_1_loss_5: 0.0559 - dense_1_loss_6: 0.0350 - dense_1_loss_7: 0.0310 - dense_1_loss_8: 0.0272 - dense_1_loss_9: 0.0234 - dense_1_loss_10: 0.0206 - dense_1_loss_11: 0.0202 - dense_1_loss_12: 0.0212 - dense_1_loss_13: 0.0192 - dense_1_loss_14: 0.0197 - dense_1_loss_15: 0.0214 - dense_1_loss_16: 0.0211 - dense_1_loss_17: 0.0199 - dense_1_loss_18: 0.0203 - dense_1_loss_19: 0.0202 - dense_1_loss_20: 0.0231 - dense_1_loss_21: 0.0233 - dense_1_loss_22: 0.0227 - dense_1_loss_23: 0.0215 - dense_1_loss_24: 0.0209 - dense_1_loss_25: 0.0217 - dense_1_loss_26: 0.0224 - dense_1_loss_27: 0.0226 - dense_1_loss_28: 0.0245 - dense_1_loss_29: 0.0270 - dense_1_loss_30: 0.0000e+00 - dense_1_acc_1: 0.1000 - dense_1_acc_2: 0.6667 - dense_1_acc_3: 0.9167 - dense_1_acc_4: 1.0000 - dense_1_acc_5: 1.0000 - dense_1_acc_6: 1.0000 - dense_1_acc_7: 1.0000 - dense_1_acc_8: 1.0000 - dense_1_acc_9: 1.0000 - dense_1_acc_10: 1.0000 - dense_1_acc_11: 1.0000 - dense_1_acc_12: 1.0000 - dense_1_acc_13: 1.0000 - dense_1_acc_14: 1.0000 - dense_1_acc_15: 1.0000 - dense_1_acc_16: 1.0000 - dense_1_acc_17: 1.0000 - dense_1_acc_18: 1.0000 - dense_1_acc_19: 1.0000 - dense_1_acc_20: 1.0000 - dense_1_acc_21: 1.0000 - dense_1_acc_22: 1.0000 - dense_1_acc_23: 1.0000 - dense_1_acc_24: 1.0000 - dense_1_acc_25: 1.0000 - dense_1_acc_26: 1.0000 - dense_1_acc_27: 1.0000 - dense_1_acc_28: 1.0000 - dense_1_acc_29: 1.0000 - dense_1_acc_30: 0.0000e+00     \n",
      "Epoch 98/100\n",
      "60/60 [==============================] - 0s - loss: 5.9154 - dense_1_loss_1: 3.7534 - dense_1_loss_2: 1.1462 - dense_1_loss_3: 0.3383 - dense_1_loss_4: 0.0828 - dense_1_loss_5: 0.0548 - dense_1_loss_6: 0.0344 - dense_1_loss_7: 0.0304 - dense_1_loss_8: 0.0267 - dense_1_loss_9: 0.0230 - dense_1_loss_10: 0.0202 - dense_1_loss_11: 0.0199 - dense_1_loss_12: 0.0207 - dense_1_loss_13: 0.0188 - dense_1_loss_14: 0.0194 - dense_1_loss_15: 0.0210 - dense_1_loss_16: 0.0207 - dense_1_loss_17: 0.0195 - dense_1_loss_18: 0.0200 - dense_1_loss_19: 0.0199 - dense_1_loss_20: 0.0226 - dense_1_loss_21: 0.0228 - dense_1_loss_22: 0.0222 - dense_1_loss_23: 0.0211 - dense_1_loss_24: 0.0205 - dense_1_loss_25: 0.0213 - dense_1_loss_26: 0.0220 - dense_1_loss_27: 0.0222 - dense_1_loss_28: 0.0240 - dense_1_loss_29: 0.0265 - dense_1_loss_30: 0.0000e+00 - dense_1_acc_1: 0.1000 - dense_1_acc_2: 0.6667 - dense_1_acc_3: 0.9333 - dense_1_acc_4: 1.0000 - dense_1_acc_5: 1.0000 - dense_1_acc_6: 1.0000 - dense_1_acc_7: 1.0000 - dense_1_acc_8: 1.0000 - dense_1_acc_9: 1.0000 - dense_1_acc_10: 1.0000 - dense_1_acc_11: 1.0000 - dense_1_acc_12: 1.0000 - dense_1_acc_13: 1.0000 - dense_1_acc_14: 1.0000 - dense_1_acc_15: 1.0000 - dense_1_acc_16: 1.0000 - dense_1_acc_17: 1.0000 - dense_1_acc_18: 1.0000 - dense_1_acc_19: 1.0000 - dense_1_acc_20: 1.0000 - dense_1_acc_21: 1.0000 - dense_1_acc_22: 1.0000 - dense_1_acc_23: 1.0000 - dense_1_acc_24: 1.0000 - dense_1_acc_25: 1.0000 - dense_1_acc_26: 1.0000 - dense_1_acc_27: 1.0000 - dense_1_acc_28: 1.0000 - dense_1_acc_29: 1.0000 - dense_1_acc_30: 0.0000e+00     \n",
      "Epoch 99/100\n",
      "60/60 [==============================] - 0s - loss: 5.8853 - dense_1_loss_1: 3.7505 - dense_1_loss_2: 1.1363 - dense_1_loss_3: 0.3335 - dense_1_loss_4: 0.0815 - dense_1_loss_5: 0.0539 - dense_1_loss_6: 0.0338 - dense_1_loss_7: 0.0299 - dense_1_loss_8: 0.0262 - dense_1_loss_9: 0.0225 - dense_1_loss_10: 0.0198 - dense_1_loss_11: 0.0195 - dense_1_loss_12: 0.0203 - dense_1_loss_13: 0.0185 - dense_1_loss_14: 0.0190 - dense_1_loss_15: 0.0206 - dense_1_loss_16: 0.0203 - dense_1_loss_17: 0.0191 - dense_1_loss_18: 0.0196 - dense_1_loss_19: 0.0195 - dense_1_loss_20: 0.0222 - dense_1_loss_21: 0.0224 - dense_1_loss_22: 0.0218 - dense_1_loss_23: 0.0207 - dense_1_loss_24: 0.0201 - dense_1_loss_25: 0.0209 - dense_1_loss_26: 0.0216 - dense_1_loss_27: 0.0218 - dense_1_loss_28: 0.0235 - dense_1_loss_29: 0.0260 - dense_1_loss_30: 0.0000e+00 - dense_1_acc_1: 0.1000 - dense_1_acc_2: 0.6833 - dense_1_acc_3: 0.9333 - dense_1_acc_4: 1.0000 - dense_1_acc_5: 1.0000 - dense_1_acc_6: 1.0000 - dense_1_acc_7: 1.0000 - dense_1_acc_8: 1.0000 - dense_1_acc_9: 1.0000 - dense_1_acc_10: 1.0000 - dense_1_acc_11: 1.0000 - dense_1_acc_12: 1.0000 - dense_1_acc_13: 1.0000 - dense_1_acc_14: 1.0000 - dense_1_acc_15: 1.0000 - dense_1_acc_16: 1.0000 - dense_1_acc_17: 1.0000 - dense_1_acc_18: 1.0000 - dense_1_acc_19: 1.0000 - dense_1_acc_20: 1.0000 - dense_1_acc_21: 1.0000 - dense_1_acc_22: 1.0000 - dense_1_acc_23: 1.0000 - dense_1_acc_24: 1.0000 - dense_1_acc_25: 1.0000 - dense_1_acc_26: 1.0000 - dense_1_acc_27: 1.0000 - dense_1_acc_28: 1.0000 - dense_1_acc_29: 1.0000 - dense_1_acc_30: 0.0000e+00     \n",
      "Epoch 100/100\n",
      "60/60 [==============================] - 0s - loss: 5.8559 - dense_1_loss_1: 3.7478 - dense_1_loss_2: 1.1269 - dense_1_loss_3: 0.3283 - dense_1_loss_4: 0.0803 - dense_1_loss_5: 0.0530 - dense_1_loss_6: 0.0331 - dense_1_loss_7: 0.0293 - dense_1_loss_8: 0.0257 - dense_1_loss_9: 0.0221 - dense_1_loss_10: 0.0195 - dense_1_loss_11: 0.0191 - dense_1_loss_12: 0.0199 - dense_1_loss_13: 0.0181 - dense_1_loss_14: 0.0186 - dense_1_loss_15: 0.0203 - dense_1_loss_16: 0.0199 - dense_1_loss_17: 0.0188 - dense_1_loss_18: 0.0192 - dense_1_loss_19: 0.0192 - dense_1_loss_20: 0.0218 - dense_1_loss_21: 0.0219 - dense_1_loss_22: 0.0214 - dense_1_loss_23: 0.0203 - dense_1_loss_24: 0.0198 - dense_1_loss_25: 0.0205 - dense_1_loss_26: 0.0212 - dense_1_loss_27: 0.0213 - dense_1_loss_28: 0.0231 - dense_1_loss_29: 0.0256 - dense_1_loss_30: 0.0000e+00 - dense_1_acc_1: 0.1000 - dense_1_acc_2: 0.6833 - dense_1_acc_3: 0.9333 - dense_1_acc_4: 1.0000 - dense_1_acc_5: 1.0000 - dense_1_acc_6: 1.0000 - dense_1_acc_7: 1.0000 - dense_1_acc_8: 1.0000 - dense_1_acc_9: 1.0000 - dense_1_acc_10: 1.0000 - dense_1_acc_11: 1.0000 - dense_1_acc_12: 1.0000 - dense_1_acc_13: 1.0000 - dense_1_acc_14: 1.0000 - dense_1_acc_15: 1.0000 - dense_1_acc_16: 1.0000 - dense_1_acc_17: 1.0000 - dense_1_acc_18: 1.0000 - dense_1_acc_19: 1.0000 - dense_1_acc_20: 1.0000 - dense_1_acc_21: 1.0000 - dense_1_acc_22: 1.0000 - dense_1_acc_23: 1.0000 - dense_1_acc_24: 1.0000 - dense_1_acc_25: 1.0000 - dense_1_acc_26: 1.0000 - dense_1_acc_27: 1.0000 - dense_1_acc_28: 1.0000 - dense_1_acc_29: 1.0000 - dense_1_acc_30: 0.0000e+00     \n"
     ]
    },
    {
     "data": {
      "text/plain": [
       "<keras.callbacks.History at 0x7efe976a06a0>"
      ]
     },
     "execution_count": 9,
     "metadata": {},
     "output_type": "execute_result"
    }
   ],
   "source": [
    "model.fit([X, a0, c0], list(Y), epochs=100)"
   ]
  },
  {
   "cell_type": "markdown",
   "metadata": {},
   "source": [
    "You should see the model loss going down. Now that you have trained a model, lets go on the the final section to implement an inference algorithm, and generate some music! "
   ]
  },
  {
   "cell_type": "markdown",
   "metadata": {},
   "source": [
    "## 3 - Generating music\n",
    "\n",
    "You now have a trained model which has learned the patterns of the jazz soloist. Lets now use this model to synthesize new music. \n",
    "\n",
    "#### 3.1 - Predicting & Sampling\n",
    "\n",
    "<img src=\"images/music_gen.png\" style=\"width:600;height:400px;\">\n",
    "\n",
    "At each step of sampling, you will take as input the activation `a` and cell state `c` from the previous state of the LSTM, forward propagate by one step, and get a new output activation as well as cell state. The new activation `a` can then be used to generate the output, using `densor` as before. \n",
    "\n",
    "To start off the model, we will initialize `x0` as well as the LSTM activation and and cell value `a0` and `c0` to be zeros. \n",
    "\n",
    "\n",
    "<!-- \n",
    "You are about to build a function that will do this inference for you. Your function takes in your previous model and the number of time steps `Ty` that you want to sample. It will return a keras model that would be able to generate sequences for you. Furthermore, the function takes in a dense layer of `78` units and the number of activations. \n",
    "!--> \n",
    "\n",
    "\n",
    "**Exercise:** Implement the function below to sample a sequence of musical values. Here are some of the key steps you'll need to implement inside the for-loop that generates the $T_y$ output characters: \n",
    "\n",
    "Step 2.A: Use `LSTM_Cell`, which inputs the previous step's `c` and `a` to generate the current step's `c` and `a`. \n",
    "\n",
    "Step 2.B: Use `densor` (defined previously) to compute a softmax on `a` to get the output for the current step. \n",
    "\n",
    "Step 2.C: Save the output you have just generated by appending it to `outputs`.\n",
    "\n",
    "Step 2.D: Sample x to the be \"out\"'s one-hot version (the prediction) so that you can pass it to the next LSTM's step.  We have already provided this line of code, which uses a [Lambda](https://keras.io/layers/core/#lambda) function. \n",
    "```python\n",
    "x = Lambda(one_hot)(out) \n",
    "```\n",
    "[Minor technical note: Rather than sampling a value at random according to the probabilities in `out`, this line of code actually chooses the single most likely note at each step using an argmax.]\n"
   ]
  },
  {
   "cell_type": "code",
   "execution_count": 10,
   "metadata": {
    "collapsed": true
   },
   "outputs": [],
   "source": [
    "# GRADED FUNCTION: music_inference_model\n",
    "\n",
    "def music_inference_model(LSTM_cell, densor, n_values = 78, n_a = 64, Ty = 100):\n",
    "    \"\"\"\n",
    "    Uses the trained \"LSTM_cell\" and \"densor\" from model() to generate a sequence of values.\n",
    "    \n",
    "    Arguments:\n",
    "    LSTM_cell -- the trained \"LSTM_cell\" from model(), Keras layer object\n",
    "    densor -- the trained \"densor\" from model(), Keras layer object\n",
    "    n_values -- integer, umber of unique values\n",
    "    n_a -- number of units in the LSTM_cell\n",
    "    Ty -- integer, number of time steps to generate\n",
    "    \n",
    "    Returns:\n",
    "    inference_model -- Keras model instance\n",
    "    \"\"\"\n",
    "    \n",
    "    # Define the input of your model with a shape \n",
    "    x0 = Input(shape=(1, n_values))\n",
    "    \n",
    "    # Define s0, initial hidden state for the decoder LSTM\n",
    "    a0 = Input(shape=(n_a,), name='a0')\n",
    "    c0 = Input(shape=(n_a,), name='c0')\n",
    "    a = a0\n",
    "    c = c0\n",
    "    x = x0\n",
    "\n",
    "    ### START CODE HERE ###\n",
    "    # Step 1: Create an empty list of \"outputs\" to later store your predicted values (≈1 line)\n",
    "    outputs = []\n",
    "    \n",
    "    # Step 2: Loop over Ty and generate a value at every time step\n",
    "    for t in range(Ty):\n",
    "        \n",
    "        # Step 2.A: Perform one step of LSTM_cell (≈1 line)\n",
    "        a, _, c = LSTM_cell(x, initial_state=[a, c])\n",
    "        \n",
    "        # Step 2.B: Apply Dense layer to the hidden state output of the LSTM_cell (≈1 line)\n",
    "        out = densor(a)\n",
    "\n",
    "        # Step 2.C: Append the prediction \"out\" to \"outputs\". out.shape = (None, 78) (≈1 line)\n",
    "        outputs.append(out)\n",
    "        \n",
    "        # Step 2.D: Select the next value according to \"out\", and set \"x\" to be the one-hot representation of the\n",
    "        #           selected value, which will be passed as the input to LSTM_cell on the next step. We have provided \n",
    "        #           the line of code you need to do this. \n",
    "        x = Lambda(one_hot)(out)\n",
    "        \n",
    "    # Step 3: Create model instance with the correct \"inputs\" and \"outputs\" (≈1 line)\n",
    "    inference_model = Model(inputs=[x0, a0, c0], outputs=outputs)\n",
    "    \n",
    "    ### END CODE HERE ###\n",
    "    \n",
    "    return inference_model"
   ]
  },
  {
   "cell_type": "markdown",
   "metadata": {},
   "source": [
    "Run the cell below to define your inference model. This model is hard coded to generate 50 values."
   ]
  },
  {
   "cell_type": "code",
   "execution_count": 11,
   "metadata": {
    "collapsed": true
   },
   "outputs": [],
   "source": [
    "inference_model = music_inference_model(LSTM_cell, densor, n_values = 78, n_a = 64, Ty = 50)"
   ]
  },
  {
   "cell_type": "markdown",
   "metadata": {},
   "source": [
    "Finally, this creates the zero-valued vectors you will use to initialize `x` and the LSTM state variables `a` and `c`. "
   ]
  },
  {
   "cell_type": "code",
   "execution_count": 12,
   "metadata": {
    "collapsed": true
   },
   "outputs": [],
   "source": [
    "x_initializer = np.zeros((1, 1, 78))\n",
    "a_initializer = np.zeros((1, n_a))\n",
    "c_initializer = np.zeros((1, n_a))"
   ]
  },
  {
   "cell_type": "markdown",
   "metadata": {},
   "source": [
    "**Exercise**: Implement `predict_and_sample()`. This function takes many arguments including the inputs [x_initializer, a_initializer, c_initializer]. In order to predict the output corresponding to this input, you will need to carry-out 3 steps:\n",
    "1. Use your inference model to predict an output given your set of inputs. The output `pred` should be a list of length $T_y$ where each element is a numpy-array of shape (1, n_values).\n",
    "2. Convert `pred` into a numpy array of $T_y$ indices. Each index corresponds is computed by taking the `argmax` of an element of the `pred` list. [Hint](https://docs.scipy.org/doc/numpy/reference/generated/numpy.argmax.html).\n",
    "3. Convert the indices into their one-hot vector representations. [Hint](https://keras.io/utils/#to_categorical)."
   ]
  },
  {
   "cell_type": "code",
   "execution_count": 13,
   "metadata": {
    "collapsed": true
   },
   "outputs": [],
   "source": [
    "# GRADED FUNCTION: predict_and_sample\n",
    "\n",
    "def predict_and_sample(inference_model, x_initializer = x_initializer, a_initializer = a_initializer, \n",
    "                       c_initializer = c_initializer):\n",
    "    \"\"\"\n",
    "    Predicts the next value of values using the inference model.\n",
    "    \n",
    "    Arguments:\n",
    "    inference_model -- Keras model instance for inference time\n",
    "    x_initializer -- numpy array of shape (1, 1, 78), one-hot vector initializing the values generation\n",
    "    a_initializer -- numpy array of shape (1, n_a), initializing the hidden state of the LSTM_cell\n",
    "    c_initializer -- numpy array of shape (1, n_a), initializing the cell state of the LSTM_cel\n",
    "    \n",
    "    Returns:\n",
    "    results -- numpy-array of shape (Ty, 78), matrix of one-hot vectors representing the values generated\n",
    "    indices -- numpy-array of shape (Ty, 1), matrix of indices representing the values generated\n",
    "    \"\"\"\n",
    "    \n",
    "    ### START CODE HERE ###\n",
    "    # Step 1: Use your inference model to predict an output sequence given x_initializer, a_initializer and c_initializer.\n",
    "    pred = inference_model.predict([x_initializer, a_initializer, c_initializer])\n",
    "    # Step 2: Convert \"pred\" into an np.array() of indices with the maximum probabilities\n",
    "    indices = np.argmax(pred, axis=-1)\n",
    "    # Step 3: Convert indices to one-hot vectors, the shape of the results should be (1, )\n",
    "    results = to_categorical(indices, num_classes = 78)\n",
    "    ### END CODE HERE ###\n",
    "    \n",
    "    return results, indices"
   ]
  },
  {
   "cell_type": "code",
   "execution_count": 14,
   "metadata": {},
   "outputs": [
    {
     "name": "stdout",
     "output_type": "stream",
     "text": [
      "np.argmax(results[12]) = 53\n",
      "np.argmax(results[17]) = 76\n",
      "list(indices[12:18]) = [array([53]), array([76]), array([26]), array([55]), array([53]), array([76])]\n"
     ]
    }
   ],
   "source": [
    "results, indices = predict_and_sample(inference_model, x_initializer, a_initializer, c_initializer)\n",
    "print(\"np.argmax(results[12]) =\", np.argmax(results[12]))\n",
    "print(\"np.argmax(results[17]) =\", np.argmax(results[17]))\n",
    "print(\"list(indices[12:18]) =\", list(indices[12:18]))"
   ]
  },
  {
   "cell_type": "markdown",
   "metadata": {},
   "source": [
    "**Expected Output**: Your results may differ because Keras' results are not completely predictable. However, if you have trained your LSTM_cell with model.fit() for exactly 100 epochs as described above, you should very likely observe a sequence of indices that are not all identical. Moreover, you should observe that: np.argmax(results[12]) is the first element of list(indices[12:18]) and np.argmax(results[17]) is the last element of list(indices[12:18]). \n",
    "\n",
    "<table>\n",
    "    <tr>\n",
    "        <td>\n",
    "            **np.argmax(results[12])** =\n",
    "        </td>\n",
    "        <td>\n",
    "        1\n",
    "        </td>\n",
    "    </tr>\n",
    "    <tr>\n",
    "        <td>\n",
    "            **np.argmax(results[12])** =\n",
    "        </td>\n",
    "        <td>\n",
    "        42\n",
    "        </td>\n",
    "    </tr>\n",
    "    <tr>\n",
    "        <td>\n",
    "            **list(indices[12:18])** =\n",
    "        </td>\n",
    "        <td>\n",
    "            [array([1]), array([42]), array([54]), array([17]), array([1]), array([42])]\n",
    "        </td>\n",
    "    </tr>\n",
    "</table>"
   ]
  },
  {
   "cell_type": "markdown",
   "metadata": {},
   "source": [
    "#### 3.3 - Generate music \n",
    "\n",
    "Finally, you are ready to generate music. Your RNN generates a sequence of values. The following code generates music by first calling your `predict_and_sample()` function. These values are then post-processed into musical chords (meaning that multiple values or notes can be played at the same time). \n",
    "\n",
    "Most computational music algorithms use some post-processing because it is difficult to generate music that sounds good without such post-processing. The post-processing does things such as clean up the generated audio by making sure the same sound is not repeated too many times, that two successive notes are not too far from each other in pitch, and so on. One could argue that a lot of these post-processing steps are hacks; also, a lot the music generation literature has also focused on hand-crafting post-processors, and a lot of the output quality depends on the quality of the post-processing and not just the quality of the RNN. But this post-processing does make a huge difference, so lets use it in our implementation as well. \n",
    "\n",
    "Lets make some music! "
   ]
  },
  {
   "cell_type": "markdown",
   "metadata": {},
   "source": [
    "Run the following cell to generate music and record it into your `out_stream`. This can take a couple of minutes."
   ]
  },
  {
   "cell_type": "code",
   "execution_count": 15,
   "metadata": {
    "scrolled": false
   },
   "outputs": [
    {
     "name": "stdout",
     "output_type": "stream",
     "text": [
      "Predicting new values for different set of chords.\n",
      "Generated 51 sounds using the predicted values for the set of chords (\"1\") and after pruning\n",
      "Generated 51 sounds using the predicted values for the set of chords (\"2\") and after pruning\n",
      "Generated 50 sounds using the predicted values for the set of chords (\"3\") and after pruning\n",
      "Generated 50 sounds using the predicted values for the set of chords (\"4\") and after pruning\n",
      "Generated 50 sounds using the predicted values for the set of chords (\"5\") and after pruning\n",
      "Your generated music is saved in output/my_music.midi\n"
     ]
    }
   ],
   "source": [
    "out_stream = generate_music(inference_model)"
   ]
  },
  {
   "cell_type": "markdown",
   "metadata": {},
   "source": [
    "To listen to your music, click File->Open... Then go to \"output/\" and download \"my_music.midi\". Either play it on your computer with an application that can read midi files if you have one, or use one of the free online \"MIDI to mp3\" conversion tools to convert this to mp3.  \n",
    "\n",
    "As reference, here also is a 30sec audio clip we generated using this algorithm. "
   ]
  },
  {
   "cell_type": "code",
   "execution_count": null,
   "metadata": {
    "collapsed": true
   },
   "outputs": [],
   "source": [
    "IPython.display.Audio('./data/30s_trained_model.mp3')"
   ]
  },
  {
   "cell_type": "markdown",
   "metadata": {},
   "source": [
    "### Congratulations!\n",
    "\n",
    "You have come to the end of the notebook. \n",
    "\n",
    "<font color=\"blue\">\n",
    "Here's what you should remember:\n",
    "- A sequence model can be used to generate musical values, which are then post-processed into midi music. \n",
    "- Fairly similar models can be used to generate dinosaur names or to generate music, with the major difference being the input fed to the model.  \n",
    "- In Keras, sequence generation involves defining layers with shared weights, which are then repeated for the different time steps $1, \\ldots, T_x$. "
   ]
  },
  {
   "cell_type": "markdown",
   "metadata": {},
   "source": [
    "Congratulations on completing this assignment and generating a jazz solo! "
   ]
  },
  {
   "cell_type": "markdown",
   "metadata": {},
   "source": [
    "**References**\n",
    "\n",
    "The ideas presented in this notebook came primarily from three computational music papers cited below. The implementation here also took significant inspiration and used many components from Ji-Sung Kim's github repository.\n",
    "\n",
    "- Ji-Sung Kim, 2016, [deepjazz](https://github.com/jisungk/deepjazz)\n",
    "- Jon Gillick, Kevin Tang and Robert Keller, 2009. [Learning Jazz Grammars](http://ai.stanford.edu/~kdtang/papers/smc09-jazzgrammar.pdf)\n",
    "- Robert Keller and David Morrison, 2007, [A Grammatical Approach to Automatic Improvisation](http://smc07.uoa.gr/SMC07%20Proceedings/SMC07%20Paper%2055.pdf)\n",
    "- François Pachet, 1999, [Surprising Harmonies](http://citeseerx.ist.psu.edu/viewdoc/download?doi=10.1.1.5.7473&rep=rep1&type=pdf)\n",
    "\n",
    "We're also grateful to François Germain for valuable feedback."
   ]
  }
 ],
 "metadata": {
  "coursera": {
   "course_slug": "nlp-sequence-models",
   "graded_item_id": "EG0F7",
   "launcher_item_id": "cxJXc"
  },
  "kernelspec": {
   "display_name": "Python 3",
   "language": "python",
   "name": "python3"
  },
  "language_info": {
   "codemirror_mode": {
    "name": "ipython",
    "version": 3
   },
   "file_extension": ".py",
   "mimetype": "text/x-python",
   "name": "python",
   "nbconvert_exporter": "python",
   "pygments_lexer": "ipython3",
   "version": "3.6.0"
  }
 },
 "nbformat": 4,
 "nbformat_minor": 2
}
